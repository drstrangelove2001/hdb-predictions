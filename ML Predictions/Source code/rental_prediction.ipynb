{
 "cells": [
  {
   "cell_type": "markdown",
   "id": "622ded66",
   "metadata": {},
   "source": [
    "## 1.Project Setup"
   ]
  },
  {
   "cell_type": "code",
   "execution_count": 58,
   "id": "511dbc19-d9f1-4bdc-83a9-4068269d09ce",
   "metadata": {
    "id": "511dbc19-d9f1-4bdc-83a9-4068269d09ce"
   },
   "outputs": [],
   "source": [
    "import pandas as pd"
   ]
  },
  {
   "cell_type": "markdown",
   "id": "eec08d59",
   "metadata": {},
   "source": [
    "## 2.Data Management"
   ]
  },
  {
   "cell_type": "markdown",
   "id": "5270a9da",
   "metadata": {},
   "source": [
    "### 2.1.Data Loading and Concatenation"
   ]
  },
  {
   "cell_type": "code",
   "execution_count": 59,
   "id": "d64444a4-1400-4b2a-a28b-c27e7026c7c1",
   "metadata": {
    "colab": {
     "base_uri": "https://localhost:8080/",
     "height": 423
    },
    "id": "d64444a4-1400-4b2a-a28b-c27e7026c7c1",
    "outputId": "cbdb242e-c0f0-4d85-8bca-b4cd60c393e3"
   },
   "outputs": [
    {
     "data": {
      "text/html": [
       "<div>\n",
       "<style scoped>\n",
       "    .dataframe tbody tr th:only-of-type {\n",
       "        vertical-align: middle;\n",
       "    }\n",
       "\n",
       "    .dataframe tbody tr th {\n",
       "        vertical-align: top;\n",
       "    }\n",
       "\n",
       "    .dataframe thead th {\n",
       "        text-align: right;\n",
       "    }\n",
       "</style>\n",
       "<table border=\"1\" class=\"dataframe\">\n",
       "  <thead>\n",
       "    <tr style=\"text-align: right;\">\n",
       "      <th></th>\n",
       "      <th>rent_approval_date</th>\n",
       "      <th>town</th>\n",
       "      <th>block</th>\n",
       "      <th>street_name</th>\n",
       "      <th>flat_type</th>\n",
       "      <th>monthly_rent</th>\n",
       "    </tr>\n",
       "  </thead>\n",
       "  <tbody>\n",
       "    <tr>\n",
       "      <th>0</th>\n",
       "      <td>2021-01</td>\n",
       "      <td>ANG MO KIO</td>\n",
       "      <td>105</td>\n",
       "      <td>ANG MO KIO AVE 4</td>\n",
       "      <td>4-ROOM</td>\n",
       "      <td>2000</td>\n",
       "    </tr>\n",
       "    <tr>\n",
       "      <th>1</th>\n",
       "      <td>2021-01</td>\n",
       "      <td>ANG MO KIO</td>\n",
       "      <td>107</td>\n",
       "      <td>ANG MO KIO AVE 4</td>\n",
       "      <td>3-ROOM</td>\n",
       "      <td>1750</td>\n",
       "    </tr>\n",
       "    <tr>\n",
       "      <th>2</th>\n",
       "      <td>2021-01</td>\n",
       "      <td>ANG MO KIO</td>\n",
       "      <td>108</td>\n",
       "      <td>ANG MO KIO AVE 4</td>\n",
       "      <td>3-ROOM</td>\n",
       "      <td>1750</td>\n",
       "    </tr>\n",
       "    <tr>\n",
       "      <th>3</th>\n",
       "      <td>2021-01</td>\n",
       "      <td>ANG MO KIO</td>\n",
       "      <td>111</td>\n",
       "      <td>ANG MO KIO AVE 4</td>\n",
       "      <td>5-ROOM</td>\n",
       "      <td>2230</td>\n",
       "    </tr>\n",
       "    <tr>\n",
       "      <th>4</th>\n",
       "      <td>2021-01</td>\n",
       "      <td>ANG MO KIO</td>\n",
       "      <td>111</td>\n",
       "      <td>ANG MO KIO AVE 4</td>\n",
       "      <td>5-ROOM</td>\n",
       "      <td>2450</td>\n",
       "    </tr>\n",
       "    <tr>\n",
       "      <th>...</th>\n",
       "      <td>...</td>\n",
       "      <td>...</td>\n",
       "      <td>...</td>\n",
       "      <td>...</td>\n",
       "      <td>...</td>\n",
       "      <td>...</td>\n",
       "    </tr>\n",
       "    <tr>\n",
       "      <th>109314</th>\n",
       "      <td>2023-12</td>\n",
       "      <td>QUEENSTOWN</td>\n",
       "      <td>59</td>\n",
       "      <td>STRATHMORE AVE</td>\n",
       "      <td>4-ROOM</td>\n",
       "      <td>4100</td>\n",
       "    </tr>\n",
       "    <tr>\n",
       "      <th>109315</th>\n",
       "      <td>2023-12</td>\n",
       "      <td>WOODLANDS</td>\n",
       "      <td>681D</td>\n",
       "      <td>WOODLANDS DR 62</td>\n",
       "      <td>4-ROOM</td>\n",
       "      <td>3300</td>\n",
       "    </tr>\n",
       "    <tr>\n",
       "      <th>109316</th>\n",
       "      <td>2023-12</td>\n",
       "      <td>CHOA CHU KANG</td>\n",
       "      <td>354</td>\n",
       "      <td>CHOA CHU KANG CTRL</td>\n",
       "      <td>4-ROOM</td>\n",
       "      <td>2950</td>\n",
       "    </tr>\n",
       "    <tr>\n",
       "      <th>109317</th>\n",
       "      <td>2023-12</td>\n",
       "      <td>YISHUN</td>\n",
       "      <td>717</td>\n",
       "      <td>YISHUN ST 71</td>\n",
       "      <td>4-ROOM</td>\n",
       "      <td>3200</td>\n",
       "    </tr>\n",
       "    <tr>\n",
       "      <th>109318</th>\n",
       "      <td>2023-12</td>\n",
       "      <td>TOA PAYOH</td>\n",
       "      <td>159</td>\n",
       "      <td>LOR 1 TOA PAYOH</td>\n",
       "      <td>3-ROOM</td>\n",
       "      <td>1800</td>\n",
       "    </tr>\n",
       "  </tbody>\n",
       "</table>\n",
       "<p>109319 rows × 6 columns</p>\n",
       "</div>"
      ],
      "text/plain": [
       "       rent_approval_date           town block         street_name flat_type  \\\n",
       "0                 2021-01     ANG MO KIO   105    ANG MO KIO AVE 4    4-ROOM   \n",
       "1                 2021-01     ANG MO KIO   107    ANG MO KIO AVE 4    3-ROOM   \n",
       "2                 2021-01     ANG MO KIO   108    ANG MO KIO AVE 4    3-ROOM   \n",
       "3                 2021-01     ANG MO KIO   111    ANG MO KIO AVE 4    5-ROOM   \n",
       "4                 2021-01     ANG MO KIO   111    ANG MO KIO AVE 4    5-ROOM   \n",
       "...                   ...            ...   ...                 ...       ...   \n",
       "109314            2023-12     QUEENSTOWN    59      STRATHMORE AVE    4-ROOM   \n",
       "109315            2023-12      WOODLANDS  681D     WOODLANDS DR 62    4-ROOM   \n",
       "109316            2023-12  CHOA CHU KANG   354  CHOA CHU KANG CTRL    4-ROOM   \n",
       "109317            2023-12         YISHUN   717        YISHUN ST 71    4-ROOM   \n",
       "109318            2023-12      TOA PAYOH   159     LOR 1 TOA PAYOH    3-ROOM   \n",
       "\n",
       "        monthly_rent  \n",
       "0               2000  \n",
       "1               1750  \n",
       "2               1750  \n",
       "3               2230  \n",
       "4               2450  \n",
       "...              ...  \n",
       "109314          4100  \n",
       "109315          3300  \n",
       "109316          2950  \n",
       "109317          3200  \n",
       "109318          1800  \n",
       "\n",
       "[109319 rows x 6 columns]"
      ]
     },
     "execution_count": 59,
     "metadata": {},
     "output_type": "execute_result"
    }
   ],
   "source": [
    "rental_df = pd.read_csv(\"RentingOutofFlats.csv\")\n",
    "rental_df"
   ]
  },
  {
   "cell_type": "code",
   "execution_count": 60,
   "id": "564cd050-b0da-4e99-9009-9d68c8c64d5b",
   "metadata": {
    "colab": {
     "base_uri": "https://localhost:8080/",
     "height": 300
    },
    "id": "564cd050-b0da-4e99-9009-9d68c8c64d5b",
    "outputId": "108b974a-7e90-4fdc-a07e-51b753f81313"
   },
   "outputs": [
    {
     "data": {
      "text/html": [
       "<div>\n",
       "<style scoped>\n",
       "    .dataframe tbody tr th:only-of-type {\n",
       "        vertical-align: middle;\n",
       "    }\n",
       "\n",
       "    .dataframe tbody tr th {\n",
       "        vertical-align: top;\n",
       "    }\n",
       "\n",
       "    .dataframe thead th {\n",
       "        text-align: right;\n",
       "    }\n",
       "</style>\n",
       "<table border=\"1\" class=\"dataframe\">\n",
       "  <thead>\n",
       "    <tr style=\"text-align: right;\">\n",
       "      <th></th>\n",
       "      <th>monthly_rent</th>\n",
       "    </tr>\n",
       "  </thead>\n",
       "  <tbody>\n",
       "    <tr>\n",
       "      <th>count</th>\n",
       "      <td>109319.000000</td>\n",
       "    </tr>\n",
       "    <tr>\n",
       "      <th>mean</th>\n",
       "      <td>2554.176694</td>\n",
       "    </tr>\n",
       "    <tr>\n",
       "      <th>std</th>\n",
       "      <td>721.449795</td>\n",
       "    </tr>\n",
       "    <tr>\n",
       "      <th>min</th>\n",
       "      <td>300.000000</td>\n",
       "    </tr>\n",
       "    <tr>\n",
       "      <th>25%</th>\n",
       "      <td>2000.000000</td>\n",
       "    </tr>\n",
       "    <tr>\n",
       "      <th>50%</th>\n",
       "      <td>2400.000000</td>\n",
       "    </tr>\n",
       "    <tr>\n",
       "      <th>75%</th>\n",
       "      <td>3000.000000</td>\n",
       "    </tr>\n",
       "    <tr>\n",
       "      <th>max</th>\n",
       "      <td>7600.000000</td>\n",
       "    </tr>\n",
       "  </tbody>\n",
       "</table>\n",
       "</div>"
      ],
      "text/plain": [
       "        monthly_rent\n",
       "count  109319.000000\n",
       "mean     2554.176694\n",
       "std       721.449795\n",
       "min       300.000000\n",
       "25%      2000.000000\n",
       "50%      2400.000000\n",
       "75%      3000.000000\n",
       "max      7600.000000"
      ]
     },
     "execution_count": 60,
     "metadata": {},
     "output_type": "execute_result"
    }
   ],
   "source": [
    "rental_df.describe()"
   ]
  },
  {
   "cell_type": "markdown",
   "id": "a9057026",
   "metadata": {},
   "source": [
    "## 2.2.Initial Data Processing\n",
    "\n",
    "**Convert columns to appropriate formats and perform initial transformations.**"
   ]
  },
  {
   "cell_type": "code",
   "execution_count": 61,
   "id": "bab32e3f-9e33-4419-80c7-8b4407e9133a",
   "metadata": {
    "colab": {
     "base_uri": "https://localhost:8080/"
    },
    "id": "bab32e3f-9e33-4419-80c7-8b4407e9133a",
    "outputId": "5fe00097-d9f2-466a-80bf-f435b7e29c86"
   },
   "outputs": [
    {
     "data": {
      "text/plain": [
       "array(['4-ROOM', '3-ROOM', '5-ROOM', '2-ROOM', 'EXECUTIVE', '1-ROOM'],\n",
       "      dtype=object)"
      ]
     },
     "execution_count": 61,
     "metadata": {},
     "output_type": "execute_result"
    }
   ],
   "source": [
    "rental_df['flat_type'].unique()"
   ]
  },
  {
   "cell_type": "code",
   "execution_count": 62,
   "id": "3a70b25a-e05b-4fc7-b864-fe47edcc1938",
   "metadata": {
    "colab": {
     "base_uri": "https://localhost:8080/",
     "height": 423
    },
    "id": "3a70b25a-e05b-4fc7-b864-fe47edcc1938",
    "outputId": "9a254f01-a0ef-4477-bce7-84b94b5d8f95"
   },
   "outputs": [
    {
     "data": {
      "text/html": [
       "<div>\n",
       "<style scoped>\n",
       "    .dataframe tbody tr th:only-of-type {\n",
       "        vertical-align: middle;\n",
       "    }\n",
       "\n",
       "    .dataframe tbody tr th {\n",
       "        vertical-align: top;\n",
       "    }\n",
       "\n",
       "    .dataframe thead th {\n",
       "        text-align: right;\n",
       "    }\n",
       "</style>\n",
       "<table border=\"1\" class=\"dataframe\">\n",
       "  <thead>\n",
       "    <tr style=\"text-align: right;\">\n",
       "      <th></th>\n",
       "      <th>rent_approval_month</th>\n",
       "      <th>town</th>\n",
       "      <th>block</th>\n",
       "      <th>street_name</th>\n",
       "      <th>flat_type</th>\n",
       "      <th>monthly_rent</th>\n",
       "      <th>rent_approval_year</th>\n",
       "    </tr>\n",
       "  </thead>\n",
       "  <tbody>\n",
       "    <tr>\n",
       "      <th>0</th>\n",
       "      <td>1</td>\n",
       "      <td>ANG MO KIO</td>\n",
       "      <td>105</td>\n",
       "      <td>ANG MO KIO AVE 4</td>\n",
       "      <td>4-ROOM</td>\n",
       "      <td>2000</td>\n",
       "      <td>2021</td>\n",
       "    </tr>\n",
       "    <tr>\n",
       "      <th>1</th>\n",
       "      <td>1</td>\n",
       "      <td>ANG MO KIO</td>\n",
       "      <td>107</td>\n",
       "      <td>ANG MO KIO AVE 4</td>\n",
       "      <td>3-ROOM</td>\n",
       "      <td>1750</td>\n",
       "      <td>2021</td>\n",
       "    </tr>\n",
       "    <tr>\n",
       "      <th>2</th>\n",
       "      <td>1</td>\n",
       "      <td>ANG MO KIO</td>\n",
       "      <td>108</td>\n",
       "      <td>ANG MO KIO AVE 4</td>\n",
       "      <td>3-ROOM</td>\n",
       "      <td>1750</td>\n",
       "      <td>2021</td>\n",
       "    </tr>\n",
       "    <tr>\n",
       "      <th>3</th>\n",
       "      <td>1</td>\n",
       "      <td>ANG MO KIO</td>\n",
       "      <td>111</td>\n",
       "      <td>ANG MO KIO AVE 4</td>\n",
       "      <td>5-ROOM</td>\n",
       "      <td>2230</td>\n",
       "      <td>2021</td>\n",
       "    </tr>\n",
       "    <tr>\n",
       "      <th>4</th>\n",
       "      <td>1</td>\n",
       "      <td>ANG MO KIO</td>\n",
       "      <td>111</td>\n",
       "      <td>ANG MO KIO AVE 4</td>\n",
       "      <td>5-ROOM</td>\n",
       "      <td>2450</td>\n",
       "      <td>2021</td>\n",
       "    </tr>\n",
       "    <tr>\n",
       "      <th>...</th>\n",
       "      <td>...</td>\n",
       "      <td>...</td>\n",
       "      <td>...</td>\n",
       "      <td>...</td>\n",
       "      <td>...</td>\n",
       "      <td>...</td>\n",
       "      <td>...</td>\n",
       "    </tr>\n",
       "    <tr>\n",
       "      <th>109314</th>\n",
       "      <td>12</td>\n",
       "      <td>QUEENSTOWN</td>\n",
       "      <td>59</td>\n",
       "      <td>STRATHMORE AVE</td>\n",
       "      <td>4-ROOM</td>\n",
       "      <td>4100</td>\n",
       "      <td>2023</td>\n",
       "    </tr>\n",
       "    <tr>\n",
       "      <th>109315</th>\n",
       "      <td>12</td>\n",
       "      <td>WOODLANDS</td>\n",
       "      <td>681D</td>\n",
       "      <td>WOODLANDS DR 62</td>\n",
       "      <td>4-ROOM</td>\n",
       "      <td>3300</td>\n",
       "      <td>2023</td>\n",
       "    </tr>\n",
       "    <tr>\n",
       "      <th>109316</th>\n",
       "      <td>12</td>\n",
       "      <td>CHOA CHU KANG</td>\n",
       "      <td>354</td>\n",
       "      <td>CHOA CHU KANG CTRL</td>\n",
       "      <td>4-ROOM</td>\n",
       "      <td>2950</td>\n",
       "      <td>2023</td>\n",
       "    </tr>\n",
       "    <tr>\n",
       "      <th>109317</th>\n",
       "      <td>12</td>\n",
       "      <td>YISHUN</td>\n",
       "      <td>717</td>\n",
       "      <td>YISHUN ST 71</td>\n",
       "      <td>4-ROOM</td>\n",
       "      <td>3200</td>\n",
       "      <td>2023</td>\n",
       "    </tr>\n",
       "    <tr>\n",
       "      <th>109318</th>\n",
       "      <td>12</td>\n",
       "      <td>TOA PAYOH</td>\n",
       "      <td>159</td>\n",
       "      <td>LOR 1 TOA PAYOH</td>\n",
       "      <td>3-ROOM</td>\n",
       "      <td>1800</td>\n",
       "      <td>2023</td>\n",
       "    </tr>\n",
       "  </tbody>\n",
       "</table>\n",
       "<p>109319 rows × 7 columns</p>\n",
       "</div>"
      ],
      "text/plain": [
       "        rent_approval_month           town block         street_name  \\\n",
       "0                         1     ANG MO KIO   105    ANG MO KIO AVE 4   \n",
       "1                         1     ANG MO KIO   107    ANG MO KIO AVE 4   \n",
       "2                         1     ANG MO KIO   108    ANG MO KIO AVE 4   \n",
       "3                         1     ANG MO KIO   111    ANG MO KIO AVE 4   \n",
       "4                         1     ANG MO KIO   111    ANG MO KIO AVE 4   \n",
       "...                     ...            ...   ...                 ...   \n",
       "109314                   12     QUEENSTOWN    59      STRATHMORE AVE   \n",
       "109315                   12      WOODLANDS  681D     WOODLANDS DR 62   \n",
       "109316                   12  CHOA CHU KANG   354  CHOA CHU KANG CTRL   \n",
       "109317                   12         YISHUN   717        YISHUN ST 71   \n",
       "109318                   12      TOA PAYOH   159     LOR 1 TOA PAYOH   \n",
       "\n",
       "       flat_type  monthly_rent  rent_approval_year  \n",
       "0         4-ROOM          2000                2021  \n",
       "1         3-ROOM          1750                2021  \n",
       "2         3-ROOM          1750                2021  \n",
       "3         5-ROOM          2230                2021  \n",
       "4         5-ROOM          2450                2021  \n",
       "...          ...           ...                 ...  \n",
       "109314    4-ROOM          4100                2023  \n",
       "109315    4-ROOM          3300                2023  \n",
       "109316    4-ROOM          2950                2023  \n",
       "109317    4-ROOM          3200                2023  \n",
       "109318    3-ROOM          1800                2023  \n",
       "\n",
       "[109319 rows x 7 columns]"
      ]
     },
     "execution_count": 62,
     "metadata": {},
     "output_type": "execute_result"
    }
   ],
   "source": [
    "rental_df.rename(columns={'rent_approval_date':'rent_approval_month'},inplace=True)\n",
    "rental_df['rent_approval_month'] = pd.to_datetime(rental_df['rent_approval_month'])\n",
    "rental_df['rent_approval_year'] = rental_df['rent_approval_month'].dt.year\n",
    "rental_df['rent_approval_month'] = rental_df['rent_approval_month'].dt.month\n",
    "rental_df"
   ]
  },
  {
   "cell_type": "code",
   "execution_count": 63,
   "id": "42429dfb-c4c7-403f-b4b4-2410747b378b",
   "metadata": {
    "colab": {
     "base_uri": "https://localhost:8080/"
    },
    "id": "42429dfb-c4c7-403f-b4b4-2410747b378b",
    "outputId": "5ba0f843-2f45-4089-eae4-4af2ffe19f55"
   },
   "outputs": [
    {
     "data": {
      "text/plain": [
       "flat_type\n",
       "1-ROOM          29\n",
       "2-ROOM        2016\n",
       "3-ROOM       35586\n",
       "4-ROOM       39219\n",
       "5-ROOM       26248\n",
       "EXECUTIVE     6221\n",
       "Name: count, dtype: int64"
      ]
     },
     "execution_count": 63,
     "metadata": {},
     "output_type": "execute_result"
    }
   ],
   "source": [
    "rental_df.groupby('flat_type')['flat_type'].value_counts()"
   ]
  },
  {
   "cell_type": "markdown",
   "id": "29aebe47",
   "metadata": {},
   "source": [
    "## 3.Feature Engineering and Preparation"
   ]
  },
  {
   "cell_type": "markdown",
   "id": "42b0afe8",
   "metadata": {},
   "source": [
    "### 3.1. Nearest Amenities"
   ]
  },
  {
   "cell_type": "code",
   "execution_count": 64,
   "id": "ee4a7be5-cd80-4270-9f9a-63975bc6aef4",
   "metadata": {},
   "outputs": [],
   "source": [
    "mrt_locations = pd.read_csv(\"sg-mrt-existing-stations.csv\")\n",
    "mrt_locations.rename(columns= {\"latitude\": \"lat\", \"longitude\": \"lng\"}, inplace=True)\n",
    "mrt_upcoming = pd.read_csv(\"sg-mrt-planned-stations.csv\")\n",
    "mrt_upcoming.rename(columns={'latitude': 'lat', 'longitude': 'lng'}, inplace=True)\n",
    "school_locations = pd.read_csv(\"sg-primary-schools.csv\")\n",
    "school_locations.rename(columns={'latitude': 'lat', 'longitude': 'lng'}, inplace=True)\n",
    "mall_locations = pd.read_csv(\"sg-shopping-malls.csv\")\n",
    "mall_locations.rename(columns={'latitude': 'lat', 'longitude': 'lng'}, inplace=True)\n",
    "zipcode_mapper = pd.read_csv('sg_zipcode_mapper_utf.csv')\n",
    "zipcode_mapper.rename(columns = {\"latitude\": \"lat\", \"longtitude\": \"lng\",\"blk_no\": \"block\", \"RD_name\": \"street_name\"},inplace=True)"
   ]
  },
  {
   "cell_type": "code",
   "execution_count": 65,
   "id": "6df4a071-014e-4b4d-a53b-9232bd465ef5",
   "metadata": {},
   "outputs": [],
   "source": [
    "rental_df = pd.merge(rental_df, zipcode_mapper[['block', 'street_name', 'lat', 'lng']], how='left',\n",
    "                        on = ['block', 'street_name'])"
   ]
  },
  {
   "cell_type": "code",
   "execution_count": 66,
   "id": "cd749127-a1f9-416f-aa4b-3e4620776477",
   "metadata": {},
   "outputs": [],
   "source": [
    "rental_df.dropna(inplace=True)\n",
    "rental_df.drop_duplicates(inplace=True)\n",
    "rental_df.reset_index(inplace=True)"
   ]
  },
  {
   "cell_type": "code",
   "execution_count": 67,
   "id": "485c715c-667a-4c41-932f-eed2e94ea4fc",
   "metadata": {},
   "outputs": [],
   "source": [
    "from sklearn.neighbors import NearestNeighbors\n",
    "\n",
    "nn_model_mrt = NearestNeighbors(n_neighbors=1, algorithm='auto', metric='haversine')\n",
    "nn_model_mrt.fit(mrt_locations[['lat', 'lng']])\n",
    "rental_df['mrt_dist'], indices = nn_model_mrt.kneighbors(rental_df[['lat', 'lng']])\n",
    "\n",
    "nn_model_school = NearestNeighbors(n_neighbors=1, algorithm='auto', metric='haversine')\n",
    "nn_model_school.fit(school_locations[['lat', 'lng']])\n",
    "rental_df['school_dist'], indices = nn_model_school.kneighbors(rental_df[['lat', 'lng']])\n",
    "\n",
    "nn_model_mall = NearestNeighbors(n_neighbors=1, algorithm='auto', metric='haversine')\n",
    "nn_model_mall.fit(mall_locations[['lat', 'lng']])\n",
    "rental_df['mall_dist'], indices = nn_model_mall.kneighbors(rental_df[['lat', 'lng']])\n",
    "\n",
    "nn_model_mrt_upcoming = NearestNeighbors(n_neighbors=1, algorithm='auto', metric='haversine')\n",
    "nn_model_mrt_upcoming.fit(mrt_upcoming[['lat', 'lng']])\n",
    "rental_df['upcoming_mrt_dist'], indices = nn_model_mrt_upcoming.kneighbors(rental_df[['lat', 'lng']])"
   ]
  },
  {
   "cell_type": "code",
   "execution_count": 68,
   "id": "d316981c-50f2-42a3-9ee0-ae5747b7cd80",
   "metadata": {},
   "outputs": [],
   "source": [
    "rental_df.drop(columns=['lat', 'lng'], inplace=True)"
   ]
  },
  {
   "cell_type": "markdown",
   "id": "2828ae7f",
   "metadata": {},
   "source": [
    "### 3.2. Remove outliers and not-so-important features"
   ]
  },
  {
   "cell_type": "code",
   "execution_count": 69,
   "id": "c6434719-18e1-4eca-b123-964fd98b4825",
   "metadata": {
    "id": "c6434719-18e1-4eca-b123-964fd98b4825"
   },
   "outputs": [],
   "source": [
    "rental_df = rental_df[~rental_df['flat_type'].isin(['1-ROOM'])]"
   ]
  },
  {
   "cell_type": "code",
   "execution_count": 70,
   "id": "7c9e9b47-5377-43d6-a896-8d6a0b3864ae",
   "metadata": {},
   "outputs": [],
   "source": [
    "rental_df.drop(columns=['street_name','block'], inplace=True)"
   ]
  },
  {
   "cell_type": "markdown",
   "id": "8db8f078",
   "metadata": {},
   "source": [
    "### 3.3. Regional feature mapping"
   ]
  },
  {
   "cell_type": "code",
   "execution_count": 71,
   "id": "0dca52e9-5c32-4faf-bf6b-8eb71961f967",
   "metadata": {},
   "outputs": [],
   "source": [
    "regions_mapper = {'ANG MO KIO':'North East', 'BEDOK':'East', 'BISHAN':'Central', 'BUKIT BATOK':'West', 'BUKIT MERAH':'Central',\n",
    "       'BUKIT PANJANG':'West', 'BUKIT TIMAH':'Central', 'CENTRAL':'North', 'CHOA CHU KANG':'West',\n",
    "       'CLEMENTI':'West', 'GEYLANG':'Central', 'HOUGANG':'North East', 'JURONG EAST':'West', 'JURONG WEST':'West',\n",
    "       'KALLANG/WHAMPOA':'Central', 'MARINE PARADE':'Central', 'PASIR RIS':'East', 'PUNGGOL':'North East',\n",
    "       'QUEENSTOWN':'Central', 'SEMBAWANG':'North', 'SENGKANG':'North East', 'SERANGOON':'North East', 'TAMPINES':'East',\n",
    "       'TOA PAYOH':'Central', 'WOODLANDS':'North', 'YISHUN':'North'}\n",
    "\n",
    "rental_df['region'] = rental_df['town'].map(regions_mapper)\n",
    "rental_df.drop(columns=['index'],inplace=True)"
   ]
  },
  {
   "cell_type": "markdown",
   "id": "6e47aa3a",
   "metadata": {},
   "source": [
    "### 3.4. Pipeline transformer - encoding of town, region and flat types"
   ]
  },
  {
   "cell_type": "code",
   "execution_count": 72,
   "id": "cc78ffda-0a42-4c08-9707-48fe955902af",
   "metadata": {},
   "outputs": [
    {
     "data": {
      "text/html": [
       "<div>\n",
       "<style scoped>\n",
       "    .dataframe tbody tr th:only-of-type {\n",
       "        vertical-align: middle;\n",
       "    }\n",
       "\n",
       "    .dataframe tbody tr th {\n",
       "        vertical-align: top;\n",
       "    }\n",
       "\n",
       "    .dataframe thead th {\n",
       "        text-align: right;\n",
       "    }\n",
       "</style>\n",
       "<table border=\"1\" class=\"dataframe\">\n",
       "  <thead>\n",
       "    <tr style=\"text-align: right;\">\n",
       "      <th></th>\n",
       "      <th>flat_type</th>\n",
       "      <th>model_region_Central</th>\n",
       "      <th>model_region_East</th>\n",
       "      <th>model_region_North</th>\n",
       "      <th>model_region_North East</th>\n",
       "      <th>model_region_West</th>\n",
       "      <th>model_town_ANG MO KIO</th>\n",
       "      <th>model_town_BEDOK</th>\n",
       "      <th>model_town_BISHAN</th>\n",
       "      <th>model_town_BUKIT BATOK</th>\n",
       "      <th>...</th>\n",
       "      <th>model_town_TOA PAYOH</th>\n",
       "      <th>model_town_WOODLANDS</th>\n",
       "      <th>model_town_YISHUN</th>\n",
       "      <th>rent_approval_month</th>\n",
       "      <th>monthly_rent</th>\n",
       "      <th>rent_approval_year</th>\n",
       "      <th>mrt_dist</th>\n",
       "      <th>school_dist</th>\n",
       "      <th>mall_dist</th>\n",
       "      <th>upcoming_mrt_dist</th>\n",
       "    </tr>\n",
       "  </thead>\n",
       "  <tbody>\n",
       "    <tr>\n",
       "      <th>0</th>\n",
       "      <td>3.0</td>\n",
       "      <td>0.0</td>\n",
       "      <td>0.0</td>\n",
       "      <td>0.0</td>\n",
       "      <td>1.0</td>\n",
       "      <td>0.0</td>\n",
       "      <td>1.0</td>\n",
       "      <td>0.0</td>\n",
       "      <td>0.0</td>\n",
       "      <td>0.0</td>\n",
       "      <td>...</td>\n",
       "      <td>0.0</td>\n",
       "      <td>0.0</td>\n",
       "      <td>0.0</td>\n",
       "      <td>1.0</td>\n",
       "      <td>2000.0</td>\n",
       "      <td>2021.0</td>\n",
       "      <td>0.000874</td>\n",
       "      <td>0.001792</td>\n",
       "      <td>0.001690</td>\n",
       "      <td>0.020070</td>\n",
       "    </tr>\n",
       "    <tr>\n",
       "      <th>1</th>\n",
       "      <td>2.0</td>\n",
       "      <td>0.0</td>\n",
       "      <td>0.0</td>\n",
       "      <td>0.0</td>\n",
       "      <td>1.0</td>\n",
       "      <td>0.0</td>\n",
       "      <td>1.0</td>\n",
       "      <td>0.0</td>\n",
       "      <td>0.0</td>\n",
       "      <td>0.0</td>\n",
       "      <td>...</td>\n",
       "      <td>0.0</td>\n",
       "      <td>0.0</td>\n",
       "      <td>0.0</td>\n",
       "      <td>1.0</td>\n",
       "      <td>1750.0</td>\n",
       "      <td>2021.0</td>\n",
       "      <td>0.000180</td>\n",
       "      <td>0.002668</td>\n",
       "      <td>0.001783</td>\n",
       "      <td>0.019460</td>\n",
       "    </tr>\n",
       "    <tr>\n",
       "      <th>2</th>\n",
       "      <td>2.0</td>\n",
       "      <td>0.0</td>\n",
       "      <td>0.0</td>\n",
       "      <td>0.0</td>\n",
       "      <td>1.0</td>\n",
       "      <td>0.0</td>\n",
       "      <td>1.0</td>\n",
       "      <td>0.0</td>\n",
       "      <td>0.0</td>\n",
       "      <td>0.0</td>\n",
       "      <td>...</td>\n",
       "      <td>0.0</td>\n",
       "      <td>0.0</td>\n",
       "      <td>0.0</td>\n",
       "      <td>1.0</td>\n",
       "      <td>1750.0</td>\n",
       "      <td>2021.0</td>\n",
       "      <td>0.000593</td>\n",
       "      <td>0.003004</td>\n",
       "      <td>0.001816</td>\n",
       "      <td>0.019341</td>\n",
       "    </tr>\n",
       "    <tr>\n",
       "      <th>3</th>\n",
       "      <td>4.0</td>\n",
       "      <td>0.0</td>\n",
       "      <td>0.0</td>\n",
       "      <td>0.0</td>\n",
       "      <td>1.0</td>\n",
       "      <td>0.0</td>\n",
       "      <td>1.0</td>\n",
       "      <td>0.0</td>\n",
       "      <td>0.0</td>\n",
       "      <td>0.0</td>\n",
       "      <td>...</td>\n",
       "      <td>0.0</td>\n",
       "      <td>0.0</td>\n",
       "      <td>0.0</td>\n",
       "      <td>1.0</td>\n",
       "      <td>2230.0</td>\n",
       "      <td>2021.0</td>\n",
       "      <td>0.000629</td>\n",
       "      <td>0.003185</td>\n",
       "      <td>0.002029</td>\n",
       "      <td>0.019128</td>\n",
       "    </tr>\n",
       "    <tr>\n",
       "      <th>4</th>\n",
       "      <td>4.0</td>\n",
       "      <td>0.0</td>\n",
       "      <td>0.0</td>\n",
       "      <td>0.0</td>\n",
       "      <td>1.0</td>\n",
       "      <td>0.0</td>\n",
       "      <td>1.0</td>\n",
       "      <td>0.0</td>\n",
       "      <td>0.0</td>\n",
       "      <td>0.0</td>\n",
       "      <td>...</td>\n",
       "      <td>0.0</td>\n",
       "      <td>0.0</td>\n",
       "      <td>0.0</td>\n",
       "      <td>1.0</td>\n",
       "      <td>2450.0</td>\n",
       "      <td>2021.0</td>\n",
       "      <td>0.000629</td>\n",
       "      <td>0.003185</td>\n",
       "      <td>0.002029</td>\n",
       "      <td>0.019128</td>\n",
       "    </tr>\n",
       "    <tr>\n",
       "      <th>...</th>\n",
       "      <td>...</td>\n",
       "      <td>...</td>\n",
       "      <td>...</td>\n",
       "      <td>...</td>\n",
       "      <td>...</td>\n",
       "      <td>...</td>\n",
       "      <td>...</td>\n",
       "      <td>...</td>\n",
       "      <td>...</td>\n",
       "      <td>...</td>\n",
       "      <td>...</td>\n",
       "      <td>...</td>\n",
       "      <td>...</td>\n",
       "      <td>...</td>\n",
       "      <td>...</td>\n",
       "      <td>...</td>\n",
       "      <td>...</td>\n",
       "      <td>...</td>\n",
       "      <td>...</td>\n",
       "      <td>...</td>\n",
       "      <td>...</td>\n",
       "    </tr>\n",
       "    <tr>\n",
       "      <th>106037</th>\n",
       "      <td>3.0</td>\n",
       "      <td>1.0</td>\n",
       "      <td>0.0</td>\n",
       "      <td>0.0</td>\n",
       "      <td>0.0</td>\n",
       "      <td>0.0</td>\n",
       "      <td>0.0</td>\n",
       "      <td>0.0</td>\n",
       "      <td>0.0</td>\n",
       "      <td>0.0</td>\n",
       "      <td>...</td>\n",
       "      <td>0.0</td>\n",
       "      <td>0.0</td>\n",
       "      <td>0.0</td>\n",
       "      <td>12.0</td>\n",
       "      <td>4100.0</td>\n",
       "      <td>2023.0</td>\n",
       "      <td>0.001963</td>\n",
       "      <td>0.002608</td>\n",
       "      <td>0.004531</td>\n",
       "      <td>0.016066</td>\n",
       "    </tr>\n",
       "    <tr>\n",
       "      <th>106038</th>\n",
       "      <td>3.0</td>\n",
       "      <td>0.0</td>\n",
       "      <td>0.0</td>\n",
       "      <td>1.0</td>\n",
       "      <td>0.0</td>\n",
       "      <td>0.0</td>\n",
       "      <td>0.0</td>\n",
       "      <td>0.0</td>\n",
       "      <td>0.0</td>\n",
       "      <td>0.0</td>\n",
       "      <td>...</td>\n",
       "      <td>0.0</td>\n",
       "      <td>1.0</td>\n",
       "      <td>0.0</td>\n",
       "      <td>12.0</td>\n",
       "      <td>3300.0</td>\n",
       "      <td>2023.0</td>\n",
       "      <td>0.000656</td>\n",
       "      <td>0.000179</td>\n",
       "      <td>0.000498</td>\n",
       "      <td>0.029058</td>\n",
       "    </tr>\n",
       "    <tr>\n",
       "      <th>106039</th>\n",
       "      <td>3.0</td>\n",
       "      <td>0.0</td>\n",
       "      <td>0.0</td>\n",
       "      <td>0.0</td>\n",
       "      <td>0.0</td>\n",
       "      <td>1.0</td>\n",
       "      <td>0.0</td>\n",
       "      <td>0.0</td>\n",
       "      <td>0.0</td>\n",
       "      <td>0.0</td>\n",
       "      <td>...</td>\n",
       "      <td>0.0</td>\n",
       "      <td>0.0</td>\n",
       "      <td>0.0</td>\n",
       "      <td>12.0</td>\n",
       "      <td>2950.0</td>\n",
       "      <td>2023.0</td>\n",
       "      <td>0.002722</td>\n",
       "      <td>0.001103</td>\n",
       "      <td>0.002444</td>\n",
       "      <td>0.002451</td>\n",
       "    </tr>\n",
       "    <tr>\n",
       "      <th>106040</th>\n",
       "      <td>3.0</td>\n",
       "      <td>0.0</td>\n",
       "      <td>0.0</td>\n",
       "      <td>1.0</td>\n",
       "      <td>0.0</td>\n",
       "      <td>0.0</td>\n",
       "      <td>0.0</td>\n",
       "      <td>0.0</td>\n",
       "      <td>0.0</td>\n",
       "      <td>0.0</td>\n",
       "      <td>...</td>\n",
       "      <td>0.0</td>\n",
       "      <td>0.0</td>\n",
       "      <td>1.0</td>\n",
       "      <td>12.0</td>\n",
       "      <td>3200.0</td>\n",
       "      <td>2023.0</td>\n",
       "      <td>0.003962</td>\n",
       "      <td>0.001965</td>\n",
       "      <td>0.002745</td>\n",
       "      <td>0.016243</td>\n",
       "    </tr>\n",
       "    <tr>\n",
       "      <th>106041</th>\n",
       "      <td>2.0</td>\n",
       "      <td>1.0</td>\n",
       "      <td>0.0</td>\n",
       "      <td>0.0</td>\n",
       "      <td>0.0</td>\n",
       "      <td>0.0</td>\n",
       "      <td>0.0</td>\n",
       "      <td>0.0</td>\n",
       "      <td>0.0</td>\n",
       "      <td>0.0</td>\n",
       "      <td>...</td>\n",
       "      <td>1.0</td>\n",
       "      <td>0.0</td>\n",
       "      <td>0.0</td>\n",
       "      <td>12.0</td>\n",
       "      <td>1800.0</td>\n",
       "      <td>2023.0</td>\n",
       "      <td>0.001910</td>\n",
       "      <td>0.002195</td>\n",
       "      <td>0.001620</td>\n",
       "      <td>0.021419</td>\n",
       "    </tr>\n",
       "  </tbody>\n",
       "</table>\n",
       "<p>106042 rows × 39 columns</p>\n",
       "</div>"
      ],
      "text/plain": [
       "        flat_type  model_region_Central  model_region_East  \\\n",
       "0             3.0                   0.0                0.0   \n",
       "1             2.0                   0.0                0.0   \n",
       "2             2.0                   0.0                0.0   \n",
       "3             4.0                   0.0                0.0   \n",
       "4             4.0                   0.0                0.0   \n",
       "...           ...                   ...                ...   \n",
       "106037        3.0                   1.0                0.0   \n",
       "106038        3.0                   0.0                0.0   \n",
       "106039        3.0                   0.0                0.0   \n",
       "106040        3.0                   0.0                0.0   \n",
       "106041        2.0                   1.0                0.0   \n",
       "\n",
       "        model_region_North  model_region_North East  model_region_West  \\\n",
       "0                      0.0                      1.0                0.0   \n",
       "1                      0.0                      1.0                0.0   \n",
       "2                      0.0                      1.0                0.0   \n",
       "3                      0.0                      1.0                0.0   \n",
       "4                      0.0                      1.0                0.0   \n",
       "...                    ...                      ...                ...   \n",
       "106037                 0.0                      0.0                0.0   \n",
       "106038                 1.0                      0.0                0.0   \n",
       "106039                 0.0                      0.0                1.0   \n",
       "106040                 1.0                      0.0                0.0   \n",
       "106041                 0.0                      0.0                0.0   \n",
       "\n",
       "        model_town_ANG MO KIO  model_town_BEDOK  model_town_BISHAN  \\\n",
       "0                         1.0               0.0                0.0   \n",
       "1                         1.0               0.0                0.0   \n",
       "2                         1.0               0.0                0.0   \n",
       "3                         1.0               0.0                0.0   \n",
       "4                         1.0               0.0                0.0   \n",
       "...                       ...               ...                ...   \n",
       "106037                    0.0               0.0                0.0   \n",
       "106038                    0.0               0.0                0.0   \n",
       "106039                    0.0               0.0                0.0   \n",
       "106040                    0.0               0.0                0.0   \n",
       "106041                    0.0               0.0                0.0   \n",
       "\n",
       "        model_town_BUKIT BATOK  ...  model_town_TOA PAYOH  \\\n",
       "0                          0.0  ...                   0.0   \n",
       "1                          0.0  ...                   0.0   \n",
       "2                          0.0  ...                   0.0   \n",
       "3                          0.0  ...                   0.0   \n",
       "4                          0.0  ...                   0.0   \n",
       "...                        ...  ...                   ...   \n",
       "106037                     0.0  ...                   0.0   \n",
       "106038                     0.0  ...                   0.0   \n",
       "106039                     0.0  ...                   0.0   \n",
       "106040                     0.0  ...                   0.0   \n",
       "106041                     0.0  ...                   1.0   \n",
       "\n",
       "        model_town_WOODLANDS  model_town_YISHUN  rent_approval_month  \\\n",
       "0                        0.0                0.0                  1.0   \n",
       "1                        0.0                0.0                  1.0   \n",
       "2                        0.0                0.0                  1.0   \n",
       "3                        0.0                0.0                  1.0   \n",
       "4                        0.0                0.0                  1.0   \n",
       "...                      ...                ...                  ...   \n",
       "106037                   0.0                0.0                 12.0   \n",
       "106038                   1.0                0.0                 12.0   \n",
       "106039                   0.0                0.0                 12.0   \n",
       "106040                   0.0                1.0                 12.0   \n",
       "106041                   0.0                0.0                 12.0   \n",
       "\n",
       "        monthly_rent  rent_approval_year  mrt_dist  school_dist  mall_dist  \\\n",
       "0             2000.0              2021.0  0.000874     0.001792   0.001690   \n",
       "1             1750.0              2021.0  0.000180     0.002668   0.001783   \n",
       "2             1750.0              2021.0  0.000593     0.003004   0.001816   \n",
       "3             2230.0              2021.0  0.000629     0.003185   0.002029   \n",
       "4             2450.0              2021.0  0.000629     0.003185   0.002029   \n",
       "...              ...                 ...       ...          ...        ...   \n",
       "106037        4100.0              2023.0  0.001963     0.002608   0.004531   \n",
       "106038        3300.0              2023.0  0.000656     0.000179   0.000498   \n",
       "106039        2950.0              2023.0  0.002722     0.001103   0.002444   \n",
       "106040        3200.0              2023.0  0.003962     0.001965   0.002745   \n",
       "106041        1800.0              2023.0  0.001910     0.002195   0.001620   \n",
       "\n",
       "        upcoming_mrt_dist  \n",
       "0                0.020070  \n",
       "1                0.019460  \n",
       "2                0.019341  \n",
       "3                0.019128  \n",
       "4                0.019128  \n",
       "...                   ...  \n",
       "106037           0.016066  \n",
       "106038           0.029058  \n",
       "106039           0.002451  \n",
       "106040           0.016243  \n",
       "106041           0.021419  \n",
       "\n",
       "[106042 rows x 39 columns]"
      ]
     },
     "execution_count": 72,
     "metadata": {},
     "output_type": "execute_result"
    }
   ],
   "source": [
    "import pandas as pd\n",
    "from sklearn.preprocessing import OrdinalEncoder, OneHotEncoder, FunctionTransformer\n",
    "from sklearn.pipeline import Pipeline\n",
    "from sklearn.compose import ColumnTransformer\n",
    "categories = [sorted(rental_df['flat_type'].unique())]\n",
    "column_transformer = ColumnTransformer(\n",
    "    transformers=[\n",
    "        ('ordinal_encoder', OrdinalEncoder(categories=categories, dtype=int), ['flat_type']),\n",
    "        ('region_one_hot', OneHotEncoder(dtype=int, sparse_output=False), ['region']),\n",
    "        ('town_one_hot', OneHotEncoder(dtype=int, sparse_output=False), ['town'])\n",
    "    ],\n",
    "    remainder='passthrough'\n",
    ")\n",
    "\n",
    "def increment(X):\n",
    "    X[:, 0] += 1\n",
    "    return X\n",
    "\n",
    "# Create the pipeline\n",
    "pipeline = Pipeline(steps=[\n",
    "    ('encode', column_transformer),\n",
    "    ('increment', FunctionTransformer(increment))\n",
    "])\n",
    "\n",
    "transformed_data = pipeline.fit_transform(rental_df)\n",
    "\n",
    "new_column_names = ['flat_type'] + \\\n",
    "                   [f'model_{feat}' for feat in pipeline.named_steps['encode'].transformers_[1][1].get_feature_names_out()] + \\\n",
    "                   [f'model_{feat}' for feat in pipeline.named_steps['encode'].transformers_[2][1].get_feature_names_out()] + \\\n",
    "                   [col for col in rental_df.columns if col not in ['flat_type', 'region', 'town']]\n",
    "\n",
    "rental_df_transformed = pd.DataFrame(transformed_data, columns=new_column_names)\n",
    "\n",
    "rental_df  = rental_df_transformed\n",
    "\n",
    "rental_df"
   ]
  },
  {
   "cell_type": "markdown",
   "id": "7c786b32",
   "metadata": {},
   "source": [
    "### 3.5. Month cyclic feature encoding"
   ]
  },
  {
   "cell_type": "code",
   "execution_count": 73,
   "id": "18530de3-5919-4e8a-b019-122dd1691446",
   "metadata": {},
   "outputs": [],
   "source": [
    "import numpy as np\n",
    "rental_df['month_sin'] = np.sin((rental_df.rent_approval_month-1)*(2.*np.pi/12))\n",
    "rental_df['month_cos'] = np.cos((rental_df.rent_approval_month-1)*(2.*np.pi/12))\n",
    "rental_df.drop(columns=['rent_approval_month'], inplace=True)"
   ]
  },
  {
   "cell_type": "markdown",
   "id": "b85fc1b9",
   "metadata": {},
   "source": [
    "## 4.Model Development and Evaluation"
   ]
  },
  {
   "cell_type": "markdown",
   "id": "8ccbd929",
   "metadata": {},
   "source": [
    "#### 4.1.Generation of Feature Correlation Matrix"
   ]
  },
  {
   "cell_type": "code",
   "execution_count": 74,
   "id": "a5556595-44d5-4f34-b981-eccca0d1d771",
   "metadata": {},
   "outputs": [
    {
     "data": {
      "text/html": [
       "<div>\n",
       "<style scoped>\n",
       "    .dataframe tbody tr th:only-of-type {\n",
       "        vertical-align: middle;\n",
       "    }\n",
       "\n",
       "    .dataframe tbody tr th {\n",
       "        vertical-align: top;\n",
       "    }\n",
       "\n",
       "    .dataframe thead th {\n",
       "        text-align: right;\n",
       "    }\n",
       "</style>\n",
       "<table border=\"1\" class=\"dataframe\">\n",
       "  <thead>\n",
       "    <tr style=\"text-align: right;\">\n",
       "      <th></th>\n",
       "      <th>monthly_rent</th>\n",
       "      <th>month_sin</th>\n",
       "      <th>month_cos</th>\n",
       "      <th>flat_type</th>\n",
       "      <th>rent_approval_year</th>\n",
       "      <th>mrt_dist</th>\n",
       "      <th>upcoming_mrt_dist</th>\n",
       "      <th>school_dist</th>\n",
       "      <th>mall_dist</th>\n",
       "    </tr>\n",
       "  </thead>\n",
       "  <tbody>\n",
       "    <tr>\n",
       "      <th>monthly_rent</th>\n",
       "      <td>1.00</td>\n",
       "      <td>NaN</td>\n",
       "      <td>NaN</td>\n",
       "      <td>NaN</td>\n",
       "      <td>NaN</td>\n",
       "      <td>NaN</td>\n",
       "      <td>NaN</td>\n",
       "      <td>NaN</td>\n",
       "      <td>NaN</td>\n",
       "    </tr>\n",
       "    <tr>\n",
       "      <th>month_sin</th>\n",
       "      <td>-0.11</td>\n",
       "      <td>1.00</td>\n",
       "      <td>NaN</td>\n",
       "      <td>NaN</td>\n",
       "      <td>NaN</td>\n",
       "      <td>NaN</td>\n",
       "      <td>NaN</td>\n",
       "      <td>NaN</td>\n",
       "      <td>NaN</td>\n",
       "    </tr>\n",
       "    <tr>\n",
       "      <th>month_cos</th>\n",
       "      <td>-0.03</td>\n",
       "      <td>-0.00</td>\n",
       "      <td>1.00</td>\n",
       "      <td>NaN</td>\n",
       "      <td>NaN</td>\n",
       "      <td>NaN</td>\n",
       "      <td>NaN</td>\n",
       "      <td>NaN</td>\n",
       "      <td>NaN</td>\n",
       "    </tr>\n",
       "    <tr>\n",
       "      <th>flat_type</th>\n",
       "      <td>0.33</td>\n",
       "      <td>0.01</td>\n",
       "      <td>0.01</td>\n",
       "      <td>1.00</td>\n",
       "      <td>NaN</td>\n",
       "      <td>NaN</td>\n",
       "      <td>NaN</td>\n",
       "      <td>NaN</td>\n",
       "      <td>NaN</td>\n",
       "    </tr>\n",
       "    <tr>\n",
       "      <th>rent_approval_year</th>\n",
       "      <td>0.53</td>\n",
       "      <td>-0.01</td>\n",
       "      <td>-0.00</td>\n",
       "      <td>-0.02</td>\n",
       "      <td>1.00</td>\n",
       "      <td>NaN</td>\n",
       "      <td>NaN</td>\n",
       "      <td>NaN</td>\n",
       "      <td>NaN</td>\n",
       "    </tr>\n",
       "    <tr>\n",
       "      <th>mrt_dist</th>\n",
       "      <td>-0.04</td>\n",
       "      <td>0.00</td>\n",
       "      <td>0.00</td>\n",
       "      <td>0.08</td>\n",
       "      <td>-0.00</td>\n",
       "      <td>1.00</td>\n",
       "      <td>NaN</td>\n",
       "      <td>NaN</td>\n",
       "      <td>NaN</td>\n",
       "    </tr>\n",
       "    <tr>\n",
       "      <th>upcoming_mrt_dist</th>\n",
       "      <td>-0.02</td>\n",
       "      <td>-0.01</td>\n",
       "      <td>0.01</td>\n",
       "      <td>0.15</td>\n",
       "      <td>-0.01</td>\n",
       "      <td>-0.09</td>\n",
       "      <td>1.00</td>\n",
       "      <td>NaN</td>\n",
       "      <td>NaN</td>\n",
       "    </tr>\n",
       "    <tr>\n",
       "      <th>school_dist</th>\n",
       "      <td>0.02</td>\n",
       "      <td>-0.00</td>\n",
       "      <td>-0.00</td>\n",
       "      <td>-0.17</td>\n",
       "      <td>0.00</td>\n",
       "      <td>0.11</td>\n",
       "      <td>-0.18</td>\n",
       "      <td>1.00</td>\n",
       "      <td>NaN</td>\n",
       "    </tr>\n",
       "    <tr>\n",
       "      <th>mall_dist</th>\n",
       "      <td>-0.03</td>\n",
       "      <td>0.01</td>\n",
       "      <td>-0.00</td>\n",
       "      <td>-0.13</td>\n",
       "      <td>-0.00</td>\n",
       "      <td>0.18</td>\n",
       "      <td>-0.14</td>\n",
       "      <td>0.07</td>\n",
       "      <td>1.0</td>\n",
       "    </tr>\n",
       "  </tbody>\n",
       "</table>\n",
       "</div>"
      ],
      "text/plain": [
       "                    monthly_rent  month_sin  month_cos  flat_type  \\\n",
       "monthly_rent                1.00        NaN        NaN        NaN   \n",
       "month_sin                  -0.11       1.00        NaN        NaN   \n",
       "month_cos                  -0.03      -0.00       1.00        NaN   \n",
       "flat_type                   0.33       0.01       0.01       1.00   \n",
       "rent_approval_year          0.53      -0.01      -0.00      -0.02   \n",
       "mrt_dist                   -0.04       0.00       0.00       0.08   \n",
       "upcoming_mrt_dist          -0.02      -0.01       0.01       0.15   \n",
       "school_dist                 0.02      -0.00      -0.00      -0.17   \n",
       "mall_dist                  -0.03       0.01      -0.00      -0.13   \n",
       "\n",
       "                    rent_approval_year  mrt_dist  upcoming_mrt_dist  \\\n",
       "monthly_rent                       NaN       NaN                NaN   \n",
       "month_sin                          NaN       NaN                NaN   \n",
       "month_cos                          NaN       NaN                NaN   \n",
       "flat_type                          NaN       NaN                NaN   \n",
       "rent_approval_year                1.00       NaN                NaN   \n",
       "mrt_dist                         -0.00      1.00                NaN   \n",
       "upcoming_mrt_dist                -0.01     -0.09               1.00   \n",
       "school_dist                       0.00      0.11              -0.18   \n",
       "mall_dist                        -0.00      0.18              -0.14   \n",
       "\n",
       "                    school_dist  mall_dist  \n",
       "monthly_rent                NaN        NaN  \n",
       "month_sin                   NaN        NaN  \n",
       "month_cos                   NaN        NaN  \n",
       "flat_type                   NaN        NaN  \n",
       "rent_approval_year          NaN        NaN  \n",
       "mrt_dist                    NaN        NaN  \n",
       "upcoming_mrt_dist           NaN        NaN  \n",
       "school_dist                1.00        NaN  \n",
       "mall_dist                  0.07        1.0  "
      ]
     },
     "execution_count": 74,
     "metadata": {},
     "output_type": "execute_result"
    }
   ],
   "source": [
    "corr_matrix = rental_df[['monthly_rent','month_sin','month_cos','flat_type','rent_approval_year','mrt_dist','upcoming_mrt_dist','school_dist','mall_dist']].corr()\n",
    "\n",
    "# Round correlations to two decimals\n",
    "corr_matrix = round(corr_matrix, 2)\n",
    "\n",
    "# Create a mask to set the values in the upper triangle of the correlation matrix to NaN\n",
    "mask = np.triu(np.ones(corr_matrix.shape), k=1).astype(bool)\n",
    "corr_matrix[mask] = np.nan\n",
    "\n",
    "# Show correlation matrix\n",
    "corr_matrix"
   ]
  },
  {
   "cell_type": "code",
   "execution_count": 75,
   "id": "f84add2e-d8a4-4439-b0d0-f588320ed44c",
   "metadata": {},
   "outputs": [
    {
     "data": {
      "image/png": "[encoded data removed]",
      "text/plain": [
       "<Figure size 800x600 with 2 Axes>"
      ]
     },
     "metadata": {},
     "output_type": "display_data"
    }
   ],
   "source": [
    "import seaborn as sns\n",
    "import matplotlib.pyplot as plt\n",
    "\n",
    "plt.figure(figsize=(8, 6))\n",
    "\n",
    "# Create heatmap\n",
    "sns.heatmap(corr_matrix, cmap=\"viridis\", annot=True, linewidth=0.5)\n",
    "\n",
    "# Add title\n",
    "plt.title(\"Correlation heatmap\")\n",
    "\n",
    "# Show the plot\n",
    "plt.show()"
   ]
  },
  {
   "cell_type": "markdown",
   "id": "edf782a1",
   "metadata": {},
   "source": [
    "#### 4.2.Training-Testing Data Split"
   ]
  },
  {
   "cell_type": "code",
   "execution_count": 76,
   "id": "449c89a0-2a33-4792-bd42-562a6a9b522a",
   "metadata": {},
   "outputs": [],
   "source": [
    "from sklearn.model_selection import train_test_split\n",
    "from sklearn.metrics import mean_squared_error, r2_score\n",
    "from sklearn.model_selection import train_test_split\n",
    "\n",
    "X = rental_df.drop(columns=['monthly_rent'], axis=1)\n",
    "y = rental_df['monthly_rent']\n",
    "\n",
    "\n",
    "X_train, X_test, y_train, y_test = train_test_split(X, y, test_size=0.2, random_state=0)\n"
   ]
  },
  {
   "cell_type": "markdown",
   "id": "62bc145b",
   "metadata": {},
   "source": [
    "## 4.3 Model training"
   ]
  },
  {
   "cell_type": "markdown",
   "id": "b9db1eaa",
   "metadata": {},
   "source": [
    "#### 4.3.1.Linear Model Variants (Linear Regression, Ridge Regression)"
   ]
  },
  {
   "cell_type": "code",
   "execution_count": 77,
   "id": "74cd3474-79db-4543-a1a2-78c4445dd3b0",
   "metadata": {},
   "outputs": [
    {
     "data": {
      "text/plain": [
       "(270382.2360334848, 0.4749365872739233)"
      ]
     },
     "execution_count": 77,
     "metadata": {},
     "output_type": "execute_result"
    }
   ],
   "source": [
    "from sklearn.linear_model import LinearRegression\n",
    "\n",
    "# Creating a LinearRegression model\n",
    "lr_model = LinearRegression()\n",
    "\n",
    "# Training the model\n",
    "lr_model.fit(X_train, y_train)\n",
    "\n",
    "# Predicting on the test set\n",
    "y_pred_lr = lr_model.predict(X_test)\n",
    "\n",
    "# Calculating the performance metrics\n",
    "mse_lr = mean_squared_error(y_test, y_pred_lr)\n",
    "r2_lr = r2_score(y_test, y_pred_lr)\n",
    "\n",
    "mse_lr, r2_lr\n"
   ]
  },
  {
   "cell_type": "code",
   "execution_count": 78,
   "id": "1c1713ef",
   "metadata": {},
   "outputs": [
    {
     "name": "stdout",
     "output_type": "stream",
     "text": [
      "RMSE for LR: 519.9829189824266\n"
     ]
    }
   ],
   "source": [
    "print(f'RMSE for LR: {mse_lr**0.5}')"
   ]
  },
  {
   "cell_type": "code",
   "execution_count": 79,
   "id": "c1e832f9-50c1-4cb1-bbf7-ff07bee0a7fe",
   "metadata": {},
   "outputs": [
    {
     "data": {
      "text/plain": [
       "({'alpha': 0.1}, -274499.75709258596)"
      ]
     },
     "execution_count": 79,
     "metadata": {},
     "output_type": "execute_result"
    }
   ],
   "source": [
    "from sklearn.linear_model import Ridge\n",
    "from sklearn.model_selection import GridSearchCV\n",
    "\n",
    "# Define the parameter grid\n",
    "param_grid_ridge = {'alpha': [0.1, 1, 10, 100]}\n",
    "\n",
    "# Create the Ridge model\n",
    "ridge_model = Ridge()\n",
    "\n",
    "# Instantiate the grid search model\n",
    "grid_search_ridge = GridSearchCV(estimator=ridge_model, param_grid=param_grid_ridge, cv=5, scoring='neg_mean_squared_error')\n",
    "\n",
    "# Fit the grid search to the data\n",
    "grid_search_ridge.fit(X_train, y_train)\n",
    "\n",
    "# Best parameters and score\n",
    "best_params_ridge = grid_search_ridge.best_params_\n",
    "best_score_ridge = grid_search_ridge.best_score_\n",
    "\n",
    "best_params_ridge, best_score_ridge\n"
   ]
  },
  {
   "cell_type": "code",
   "execution_count": 80,
   "id": "111c5197",
   "metadata": {},
   "outputs": [
    {
     "name": "stdout",
     "output_type": "stream",
     "text": [
      "RMSE for Ridge: 523.9272440831703\n"
     ]
    }
   ],
   "source": [
    "print(f'RMSE for Ridge: {(-best_score_ridge)**0.5}')"
   ]
  },
  {
   "cell_type": "code",
   "execution_count": 81,
   "id": "be89d318-eaa2-4f82-bc1f-47ae7300c579",
   "metadata": {},
   "outputs": [
    {
     "name": "stdout",
     "output_type": "stream",
     "text": [
      "R^2 score for the test set: 0.4745504493456487\n"
     ]
    }
   ],
   "source": [
    "y_pred_test = grid_search_ridge.best_estimator_.predict(X_test)\n",
    "\n",
    "# Calculate R^2 score\n",
    "r2_test = r2_score(y_test, y_pred_test)\n",
    "\n",
    "print(f\"R^2 score for the test set: {r2_test}\")"
   ]
  },
  {
   "cell_type": "markdown",
   "id": "62a5c75d",
   "metadata": {},
   "source": [
    "#### 4.3.2.Random Forest Regressor"
   ]
  },
  {
   "cell_type": "code",
   "execution_count": 82,
   "id": "0dff675b-bc6b-4879-b28c-ecd6892ad206",
   "metadata": {},
   "outputs": [
    {
     "name": "stdout",
     "output_type": "stream",
     "text": [
      "MSE for RandomForestRegressor: 269063.7272839137\n",
      "R^2 for RandomForestRegressor: 0.4774970391509219\n"
     ]
    }
   ],
   "source": [
    "from sklearn.ensemble import RandomForestRegressor\n",
    "\n",
    "# Creating a RandomForestRegressor model\n",
    "rf_regressor = RandomForestRegressor(n_estimators=100, random_state=0)\n",
    "\n",
    "# Training the model\n",
    "rf_regressor.fit(X_train, y_train)\n",
    "\n",
    "# Predicting on the test set\n",
    "y_pred_rf = rf_regressor.predict(X_test)\n",
    "\n",
    "# Calculating the performance metrics\n",
    "mse_rf = mean_squared_error(y_test, y_pred_rf)\n",
    "r2_rf = r2_score(y_test, y_pred_rf)\n",
    "\n",
    "print(f\"MSE for RandomForestRegressor: {mse_rf}\")\n",
    "print(f\"R^2 for RandomForestRegressor: {r2_rf}\")\n"
   ]
  },
  {
   "cell_type": "code",
   "execution_count": 83,
   "id": "e280dcf7",
   "metadata": {},
   "outputs": [
    {
     "name": "stdout",
     "output_type": "stream",
     "text": [
      "RMSE for RandomForestRegressor: 518.7135310399312\n"
     ]
    }
   ],
   "source": [
    "print(f\"RMSE for RandomForestRegressor: {mse_rf**0.5}\")"
   ]
  },
  {
   "cell_type": "markdown",
   "id": "4022679f",
   "metadata": {},
   "source": [
    "#### 4.3.3.KNN Neighbors with Grid Search"
   ]
  },
  {
   "cell_type": "code",
   "execution_count": 84,
   "id": "f8924343-4bb5-4511-af2c-ef1bbd4b3b7c",
   "metadata": {},
   "outputs": [
    {
     "name": "stdout",
     "output_type": "stream",
     "text": [
      "MSE for KNeighborsRegressor: 279786.57632703095\n",
      "R^2 for KNeighborsRegressor: 0.4566740154370842\n"
     ]
    }
   ],
   "source": [
    "from sklearn.neighbors import KNeighborsRegressor\n",
    "\n",
    "# Creating a KNeighborsRegressor model\n",
    "knn_regressor = KNeighborsRegressor(n_neighbors=5)\n",
    "\n",
    "# Training the model\n",
    "knn_regressor.fit(X_train, y_train)\n",
    "\n",
    "# Predicting on the test set\n",
    "y_pred_knn = knn_regressor.predict(X_test)\n",
    "\n",
    "# Calculating performance metrics\n",
    "mse_knn = mean_squared_error(y_test, y_pred_knn)\n",
    "r2_knn = r2_score(y_test, y_pred_knn)\n",
    "\n",
    "print(f\"MSE for KNeighborsRegressor: {mse_knn}\")\n",
    "print(f\"R^2 for KNeighborsRegressor: {r2_knn}\")\n"
   ]
  },
  {
   "cell_type": "code",
   "execution_count": 85,
   "id": "a2ed50f6",
   "metadata": {},
   "outputs": [
    {
     "name": "stdout",
     "output_type": "stream",
     "text": [
      "RMSE for KNeighborsRegressor: 528.9485573541448\n"
     ]
    }
   ],
   "source": [
    "print(f\"RMSE for KNeighborsRegressor: {mse_knn**0.5}\")\n"
   ]
  },
  {
   "cell_type": "code",
   "execution_count": 86,
   "id": "64be7b6d-d566-4118-b75f-e2f8fd3caa2b",
   "metadata": {},
   "outputs": [
    {
     "data": {
      "text/plain": [
       "({'algorithm': 'auto', 'n_neighbors': 10, 'weights': 'uniform'},\n",
       " 267865.7010395088)"
      ]
     },
     "execution_count": 86,
     "metadata": {},
     "output_type": "execute_result"
    }
   ],
   "source": [
    "param_grid_knn = {\n",
    "    'n_neighbors': [3, 5, 7, 10],\n",
    "    'weights': ['uniform', 'distance'],\n",
    "    'algorithm': ['auto', 'ball_tree', 'kd_tree', 'brute']\n",
    "}\n",
    "\n",
    "grid_search_knn = GridSearchCV(estimator=KNeighborsRegressor(), param_grid=param_grid_knn, cv=5, scoring='neg_mean_squared_error', n_jobs=-1)\n",
    "grid_search_knn.fit(X_train, y_train)\n",
    "\n",
    "best_params_knn = grid_search_knn.best_params_\n",
    "best_score_knn = -grid_search_knn.best_score_\n",
    "\n",
    "best_params_knn,best_score_knn"
   ]
  },
  {
   "cell_type": "code",
   "execution_count": 87,
   "id": "85bbdfd5",
   "metadata": {},
   "outputs": [
    {
     "name": "stdout",
     "output_type": "stream",
     "text": [
      "RMSE for Grid Search KNN: 517.5574374303868\n"
     ]
    }
   ],
   "source": [
    "print(f\"RMSE for Grid Search KNN: {best_score_knn**0.5}\")"
   ]
  },
  {
   "cell_type": "code",
   "execution_count": 88,
   "id": "08f59268-8a51-41d3-8af2-271958499569",
   "metadata": {},
   "outputs": [
    {
     "name": "stdout",
     "output_type": "stream",
     "text": [
      "R^2 score for the test set: 0.49508070360762113\n"
     ]
    }
   ],
   "source": [
    "y_pred_test = grid_search_knn.best_estimator_.predict(X_test)\n",
    "\n",
    "# Calculate R^2 score\n",
    "r2_test = r2_score(y_test, y_pred_test)\n",
    "\n",
    "print(f\"R^2 score for the test set: {r2_test}\")"
   ]
  },
  {
   "cell_type": "markdown",
   "id": "919d090e",
   "metadata": {},
   "source": [
    "#### 4.3.4. Initial AdaBoost Regressor model"
   ]
  },
  {
   "cell_type": "code",
   "execution_count": 89,
   "id": "9367f8c6",
   "metadata": {},
   "outputs": [
    {
     "data": {
      "text/plain": [
       "(299443.45631116856, 0.4185017277919003)"
      ]
     },
     "execution_count": 89,
     "metadata": {},
     "output_type": "execute_result"
    }
   ],
   "source": [
    "from sklearn.ensemble import AdaBoostRegressor\n",
    "\n",
    "# Creating an AdaBoostRegressor model\n",
    "ada_model = AdaBoostRegressor(n_estimators=100, random_state=0)\n",
    "\n",
    "# Training the model\n",
    "ada_model.fit(X_train, y_train)\n",
    "\n",
    "# Predicting on the test set\n",
    "y_pred_ada = ada_model.predict(X_test)\n",
    "\n",
    "# Calculating the performance metrics\n",
    "mse_ada = mean_squared_error(y_test, y_pred_ada)\n",
    "r2_ada = r2_score(y_test, y_pred_ada)\n",
    "\n",
    "mse_ada, r2_ada\n"
   ]
  },
  {
   "cell_type": "markdown",
   "id": "9af34367",
   "metadata": {},
   "source": [
    "#### 4.3.5. Initial XGBoost Regressor model"
   ]
  },
  {
   "cell_type": "code",
   "execution_count": 90,
   "id": "7c501c58",
   "metadata": {},
   "outputs": [
    {
     "data": {
      "text/plain": [
       "(229392.38320919542, 0.5545360177941874)"
      ]
     },
     "execution_count": 90,
     "metadata": {},
     "output_type": "execute_result"
    }
   ],
   "source": [
    "from xgboost import XGBRegressor\n",
    "\n",
    "# Creating an XGBRegressor model\n",
    "xgb_model = XGBRegressor(n_estimators=100, random_state=0)\n",
    "\n",
    "# Training the model\n",
    "xgb_model.fit(X_train, y_train)\n",
    "\n",
    "# Predicting on the test set\n",
    "y_pred_xgb = xgb_model.predict(X_test)\n",
    "\n",
    "# Calculating the performance metrics\n",
    "mse_xgb = mean_squared_error(y_test, y_pred_xgb)\n",
    "r2_xgb = r2_score(y_test, y_pred_xgb)\n",
    "\n",
    "mse_xgb, r2_xgb\n"
   ]
  },
  {
   "cell_type": "markdown",
   "id": "d46aa2a3",
   "metadata": {},
   "source": [
    "#### 4.3.6. AdaBoost Regressor model with GridSearchCV"
   ]
  },
  {
   "cell_type": "code",
   "execution_count": 91,
   "id": "25eabd4d",
   "metadata": {},
   "outputs": [
    {
     "data": {
      "text/plain": [
       "({'learning_rate': 0.1, 'n_estimators': 100}, -295142.0968163177)"
      ]
     },
     "execution_count": 91,
     "metadata": {},
     "output_type": "execute_result"
    }
   ],
   "source": [
    "from sklearn.model_selection import GridSearchCV\n",
    "\n",
    "# Define the parameter grid\n",
    "param_grid_ada = {\n",
    "    'n_estimators': [50, 100, 200],\n",
    "    'learning_rate': [0.01, 0.1, 1]\n",
    "}\n",
    "\n",
    "# Create the AdaBoostRegressor model\n",
    "ada_model = AdaBoostRegressor(random_state=0)\n",
    "\n",
    "# Instantiate the grid search model\n",
    "grid_search_ada = GridSearchCV(estimator=ada_model, param_grid=param_grid_ada, cv=5, n_jobs=-1, scoring='neg_mean_squared_error')\n",
    "\n",
    "# Fit the grid search to the data\n",
    "grid_search_ada.fit(X_train, y_train)\n",
    "\n",
    "# Best parameters and score\n",
    "best_params_ada = grid_search_ada.best_params_\n",
    "best_score_ada = grid_search_ada.best_score_\n",
    "\n",
    "best_params_ada, best_score_ada"
   ]
  },
  {
   "cell_type": "code",
   "execution_count": 92,
   "id": "eff85ca8",
   "metadata": {},
   "outputs": [
    {
     "name": "stdout",
     "output_type": "stream",
     "text": [
      "R^2 score for the test set: 0.4325113310099167\n"
     ]
    }
   ],
   "source": [
    "y_pred_test = grid_search_ada.best_estimator_.predict(X_test) \n",
    "\n",
    "# Calculate R^2 score\n",
    "r2_test = r2_score(y_test, y_pred_test)\n",
    "\n",
    "print(f\"R^2 score for the test set: {r2_test}\")"
   ]
  },
  {
   "cell_type": "code",
   "execution_count": 93,
   "id": "e15863ff",
   "metadata": {},
   "outputs": [
    {
     "name": "stdout",
     "output_type": "stream",
     "text": [
      "RMSE for Grid Search Ada: 543.2698195338277\n"
     ]
    }
   ],
   "source": [
    "print(f\"RMSE for Grid Search Ada: {(-best_score_ada)**0.5}\")"
   ]
  },
  {
   "cell_type": "markdown",
   "id": "cf99ea69",
   "metadata": {},
   "source": [
    "#### 4.3.7. XGBoost Regressor model with GridSearchCV"
   ]
  },
  {
   "cell_type": "code",
   "execution_count": 94,
   "id": "50b1efc6",
   "metadata": {},
   "outputs": [
    {
     "data": {
      "text/plain": [
       "({'learning_rate': 0.1, 'max_depth': 5, 'n_estimators': 300},\n",
       " -235134.08710393807)"
      ]
     },
     "execution_count": 94,
     "metadata": {},
     "output_type": "execute_result"
    }
   ],
   "source": [
    "# Define the parameter grid\n",
    "param_grid_xgb = {\n",
    "    'n_estimators': [100, 200, 300],\n",
    "    'learning_rate': [0.01, 0.1, 0.2],\n",
    "    'max_depth': [3, 4, 5]\n",
    "}\n",
    "\n",
    "# Create the XGBRegressor model\n",
    "xgb_model = XGBRegressor(random_state=0)\n",
    "\n",
    "# Instantiate the grid search model\n",
    "grid_search_xgb = GridSearchCV(estimator=xgb_model, param_grid=param_grid_xgb, cv=5, n_jobs=-1, scoring='neg_mean_squared_error')\n",
    "\n",
    "# Fit the grid search to the data\n",
    "grid_search_xgb.fit(X_train, y_train)\n",
    "\n",
    "# Best parameters and score\n",
    "best_params_xgb = grid_search_xgb.best_params_\n",
    "best_score_xgb = grid_search_xgb.best_score_\n",
    "\n",
    "best_params_xgb, best_score_xgb\n"
   ]
  },
  {
   "cell_type": "code",
   "execution_count": 95,
   "id": "7a75532d",
   "metadata": {},
   "outputs": [
    {
     "name": "stdout",
     "output_type": "stream",
     "text": [
      "R^2 score for the test set: 0.5555568924015328\n"
     ]
    }
   ],
   "source": [
    "y_pred_test = grid_search_xgb.best_estimator_.predict(X_test) \n",
    "\n",
    "# Calculate R^2 score\n",
    "r2_test = r2_score(y_test, y_pred_test)\n",
    "\n",
    "print(f\"R^2 score for the test set: {r2_test}\")"
   ]
  },
  {
   "cell_type": "code",
   "execution_count": 96,
   "id": "693cafd2",
   "metadata": {},
   "outputs": [
    {
     "name": "stdout",
     "output_type": "stream",
     "text": [
      "RMSE for Grid Search XGB: 484.9062663071473\n"
     ]
    }
   ],
   "source": [
    "print(f\"RMSE for Grid Search XGB: {(-best_score_xgb)**0.5}\")"
   ]
  }
 ],
 "metadata": {
  "colab": {
   "provenance": []
  },
  "kernelspec": {
   "display_name": "Python 3 (ipykernel)",
   "language": "python",
   "name": "python3"
  },
  "language_info": {
   "codemirror_mode": {
    "name": "ipython",
    "version": 3
   },
   "file_extension": ".py",
   "mimetype": "text/x-python",
   "name": "python",
   "nbconvert_exporter": "python",
   "pygments_lexer": "ipython3",
   "version": "3.11.4"
  }
 },
 "nbformat": 4,
 "nbformat_minor": 5
}
