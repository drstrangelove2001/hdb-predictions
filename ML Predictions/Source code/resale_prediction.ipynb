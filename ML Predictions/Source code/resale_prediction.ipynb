{
 "cells": [
  {
   "cell_type": "markdown",
   "id": "d52c7b1c-9609-4ad8-98e0-fe0bb8dc66a4",
   "metadata": {
    "id": "d52c7b1c-9609-4ad8-98e0-fe0bb8dc66a4"
   },
   "source": [
    "# Resale Price Predictions"
   ]
  },
  {
   "cell_type": "markdown",
   "id": "03b99301-2e64-48d9-ad49-47155b144d23",
   "metadata": {
    "id": "03b99301-2e64-48d9-ad49-47155b144d23"
   },
   "source": [
    "## 1.Project Setup"
   ]
  },
  {
   "cell_type": "code",
   "execution_count": 1,
   "id": "d5f54989-c839-491c-994e-48c5765b6b60",
   "metadata": {
    "executionInfo": {
     "elapsed": 2,
     "status": "ok",
     "timestamp": 1712678887344,
     "user": {
      "displayName": "Nguyen Ngoc Yen Nga",
      "userId": "05910121350828163339"
     },
     "user_tz": -480
    },
    "id": "d5f54989-c839-491c-994e-48c5765b6b60"
   },
   "outputs": [],
   "source": [
    "import pandas as pd\n",
    "import numpy as np\n",
    "\n",
    "from sklearn.model_selection import GridSearchCV\n",
    "from sklearn.model_selection import cross_val_score\n",
    "\n",
    "from sklearn.metrics import mean_squared_log_error, mean_squared_error, make_scorer\n"
   ]
  },
  {
   "cell_type": "markdown",
   "id": "0461389d-e176-4eac-9732-20b4b5ba3a17",
   "metadata": {
    "id": "0461389d-e176-4eac-9732-20b4b5ba3a17",
    "tags": []
   },
   "source": [
    "## 2.Data Management"
   ]
  },
  {
   "cell_type": "markdown",
   "id": "1_YrtD-yDcAA",
   "metadata": {
    "id": "1_YrtD-yDcAA"
   },
   "source": [
    "### 2.1.Data Loading and Concatenation"
   ]
  },
  {
   "cell_type": "code",
   "execution_count": 2,
   "id": "2901d29c-3b73-4755-abcf-ca9e522ae0da",
   "metadata": {
    "executionInfo": {
     "elapsed": 2,
     "status": "ok",
     "timestamp": 1712678890428,
     "user": {
      "displayName": "Nguyen Ngoc Yen Nga",
      "userId": "05910121350828163339"
     },
     "user_tz": -480
    },
    "id": "2901d29c-3b73-4755-abcf-ca9e522ae0da"
   },
   "outputs": [],
   "source": [
    "resale1_df = pd.read_csv('ResaleFlatPrices2012-2018.csv')\n",
    "resale2_df = pd.read_csv('ResaleFlatPrices2019-2024.csv')\n",
    "\n",
    "resale_df = pd.concat([resale1_df, resale2_df])"
   ]
  },
  {
   "cell_type": "code",
   "execution_count": 3,
   "id": "de7ff2a8-d3e8-49c5-892b-297f3c84e480",
   "metadata": {
    "colab": {
     "base_uri": "https://localhost:8080/",
     "height": 201
    },
    "executionInfo": {
     "elapsed": 2,
     "status": "ok",
     "timestamp": 1712678890956,
     "user": {
      "displayName": "Nguyen Ngoc Yen Nga",
      "userId": "05910121350828163339"
     },
     "user_tz": -480
    },
    "id": "de7ff2a8-d3e8-49c5-892b-297f3c84e480",
    "outputId": "67a3870a-5d75-4117-c6f7-0ed20db623ca"
   },
   "outputs": [
    {
     "data": {
      "text/html": [
       "<div>\n",
       "<style scoped>\n",
       "    .dataframe tbody tr th:only-of-type {\n",
       "        vertical-align: middle;\n",
       "    }\n",
       "\n",
       "    .dataframe tbody tr th {\n",
       "        vertical-align: top;\n",
       "    }\n",
       "\n",
       "    .dataframe thead th {\n",
       "        text-align: right;\n",
       "    }\n",
       "</style>\n",
       "<table border=\"1\" class=\"dataframe\">\n",
       "  <thead>\n",
       "    <tr style=\"text-align: right;\">\n",
       "      <th></th>\n",
       "      <th>month</th>\n",
       "      <th>town</th>\n",
       "      <th>flat_type</th>\n",
       "      <th>block</th>\n",
       "      <th>street_name</th>\n",
       "      <th>storey_range</th>\n",
       "      <th>floor_area_sqm</th>\n",
       "      <th>flat_model</th>\n",
       "      <th>lease_commence_date</th>\n",
       "      <th>resale_price</th>\n",
       "    </tr>\n",
       "  </thead>\n",
       "  <tbody>\n",
       "    <tr>\n",
       "      <th>0</th>\n",
       "      <td>2012-01</td>\n",
       "      <td>ANG MO KIO</td>\n",
       "      <td>2 ROOM</td>\n",
       "      <td>406</td>\n",
       "      <td>ANG MO KIO AVE 10</td>\n",
       "      <td>01 TO 03</td>\n",
       "      <td>44.0</td>\n",
       "      <td>Improved</td>\n",
       "      <td>1979</td>\n",
       "      <td>257800.0</td>\n",
       "    </tr>\n",
       "    <tr>\n",
       "      <th>1</th>\n",
       "      <td>2012-01</td>\n",
       "      <td>ANG MO KIO</td>\n",
       "      <td>2 ROOM</td>\n",
       "      <td>314</td>\n",
       "      <td>ANG MO KIO AVE 3</td>\n",
       "      <td>07 TO 09</td>\n",
       "      <td>44.0</td>\n",
       "      <td>Improved</td>\n",
       "      <td>1978</td>\n",
       "      <td>263000.0</td>\n",
       "    </tr>\n",
       "  </tbody>\n",
       "</table>\n",
       "</div>"
      ],
      "text/plain": [
       "     month        town flat_type block        street_name storey_range  \\\n",
       "0  2012-01  ANG MO KIO    2 ROOM   406  ANG MO KIO AVE 10     01 TO 03   \n",
       "1  2012-01  ANG MO KIO    2 ROOM   314   ANG MO KIO AVE 3     07 TO 09   \n",
       "\n",
       "   floor_area_sqm flat_model  lease_commence_date  resale_price  \n",
       "0            44.0   Improved                 1979      257800.0  \n",
       "1            44.0   Improved                 1978      263000.0  "
      ]
     },
     "execution_count": 3,
     "metadata": {},
     "output_type": "execute_result"
    }
   ],
   "source": [
    "resale_df.head(2)"
   ]
  },
  {
   "cell_type": "markdown",
   "id": "4852d088-43e5-4bd9-be8e-611fb6090053",
   "metadata": {
    "id": "4852d088-43e5-4bd9-be8e-611fb6090053"
   },
   "source": [
    "## 2.2.Initial Data Processing\n",
    "\n",
    "**Convert columns to appropriate formats and perform initial transformations.**"
   ]
  },
  {
   "cell_type": "code",
   "execution_count": 4,
   "id": "ab78888e-9c98-4693-ac4d-c3b9031760ee",
   "metadata": {
    "colab": {
     "base_uri": "https://localhost:8080/",
     "height": 201
    },
    "executionInfo": {
     "elapsed": 3,
     "status": "ok",
     "timestamp": 1712678892249,
     "user": {
      "displayName": "Nguyen Ngoc Yen Nga",
      "userId": "05910121350828163339"
     },
     "user_tz": -480
    },
    "id": "ab78888e-9c98-4693-ac4d-c3b9031760ee",
    "outputId": "af858e41-503f-4dbd-cac9-849d8b4e31df"
   },
   "outputs": [
    {
     "data": {
      "text/html": [
       "<div>\n",
       "<style scoped>\n",
       "    .dataframe tbody tr th:only-of-type {\n",
       "        vertical-align: middle;\n",
       "    }\n",
       "\n",
       "    .dataframe tbody tr th {\n",
       "        vertical-align: top;\n",
       "    }\n",
       "\n",
       "    .dataframe thead th {\n",
       "        text-align: right;\n",
       "    }\n",
       "</style>\n",
       "<table border=\"1\" class=\"dataframe\">\n",
       "  <thead>\n",
       "    <tr style=\"text-align: right;\">\n",
       "      <th></th>\n",
       "      <th>month</th>\n",
       "      <th>town</th>\n",
       "      <th>flat_type</th>\n",
       "      <th>block</th>\n",
       "      <th>street_name</th>\n",
       "      <th>storey_range</th>\n",
       "      <th>floor_area_sqm</th>\n",
       "      <th>flat_model</th>\n",
       "      <th>lease_commence_date</th>\n",
       "      <th>resale_price</th>\n",
       "      <th>year</th>\n",
       "    </tr>\n",
       "  </thead>\n",
       "  <tbody>\n",
       "    <tr>\n",
       "      <th>0</th>\n",
       "      <td>1</td>\n",
       "      <td>ANG MO KIO</td>\n",
       "      <td>2 ROOM</td>\n",
       "      <td>406</td>\n",
       "      <td>ANG MO KIO AVE 10</td>\n",
       "      <td>01 TO 03</td>\n",
       "      <td>44.0</td>\n",
       "      <td>Improved</td>\n",
       "      <td>1979</td>\n",
       "      <td>257800.0</td>\n",
       "      <td>2012</td>\n",
       "    </tr>\n",
       "    <tr>\n",
       "      <th>1</th>\n",
       "      <td>1</td>\n",
       "      <td>ANG MO KIO</td>\n",
       "      <td>2 ROOM</td>\n",
       "      <td>314</td>\n",
       "      <td>ANG MO KIO AVE 3</td>\n",
       "      <td>07 TO 09</td>\n",
       "      <td>44.0</td>\n",
       "      <td>Improved</td>\n",
       "      <td>1978</td>\n",
       "      <td>263000.0</td>\n",
       "      <td>2012</td>\n",
       "    </tr>\n",
       "  </tbody>\n",
       "</table>\n",
       "</div>"
      ],
      "text/plain": [
       "   month        town flat_type block        street_name storey_range  \\\n",
       "0      1  ANG MO KIO    2 ROOM   406  ANG MO KIO AVE 10     01 TO 03   \n",
       "1      1  ANG MO KIO    2 ROOM   314   ANG MO KIO AVE 3     07 TO 09   \n",
       "\n",
       "   floor_area_sqm flat_model  lease_commence_date  resale_price  year  \n",
       "0            44.0   Improved                 1979      257800.0  2012  \n",
       "1            44.0   Improved                 1978      263000.0  2012  "
      ]
     },
     "execution_count": 4,
     "metadata": {},
     "output_type": "execute_result"
    }
   ],
   "source": [
    "resale_df['month'] = pd.to_datetime(resale_df['month'])\n",
    "resale_df['year'] = resale_df['month'].dt.year\n",
    "resale_df['month'] = resale_df['month'].dt.month\n",
    "resale_df.head(2)"
   ]
  },
  {
   "cell_type": "markdown",
   "id": "96d9c474-91ba-4b43-b90e-83bb35ca9c6d",
   "metadata": {
    "id": "96d9c474-91ba-4b43-b90e-83bb35ca9c6d"
   },
   "source": [
    "## 3.Feature Engineering and Preparation"
   ]
  },
  {
   "cell_type": "markdown",
   "id": "d3ff537a-11dd-4307-b113-f4d68c48d24f",
   "metadata": {
    "id": "d3ff537a-11dd-4307-b113-f4d68c48d24f",
    "tags": []
   },
   "source": [
    "### 3.1.Score Creation"
   ]
  },
  {
   "cell_type": "code",
   "execution_count": 5,
   "id": "3b5d2cbf-4fef-42e0-a6f3-96ca5dd53d7e",
   "metadata": {
    "executionInfo": {
     "elapsed": 3,
     "status": "ok",
     "timestamp": 1712678890428,
     "user": {
      "displayName": "Nguyen Ngoc Yen Nga",
      "userId": "05910121350828163339"
     },
     "user_tz": -480
    },
    "id": "3b5d2cbf-4fef-42e0-a6f3-96ca5dd53d7e"
   },
   "outputs": [],
   "source": [
    "rmsle = make_scorer(lambda y_true, y_pred: mean_squared_log_error(y_true, y_pred, squared=False))\n",
    "\n",
    "rmse = make_scorer(lambda y_true, y_pred: mean_squared_error(y_true, y_pred)**0.5)\n",
    "rmse_neg = make_scorer(lambda y_true, y_pred: -1 * mean_squared_error(y_true, y_pred)**0.5)"
   ]
  },
  {
   "cell_type": "markdown",
   "id": "7786832a-459f-4e4a-9a13-adfaeb3d6555",
   "metadata": {
    "id": "7786832a-459f-4e4a-9a13-adfaeb3d6555"
   },
   "source": [
    "### 3.2.Lease Remaining Calculation"
   ]
  },
  {
   "cell_type": "code",
   "execution_count": 6,
   "id": "094810e7-a141-415d-be71-6ed9c39be86b",
   "metadata": {
    "colab": {
     "base_uri": "https://localhost:8080/",
     "height": 201
    },
    "executionInfo": {
     "elapsed": 476,
     "status": "ok",
     "timestamp": 1712678902632,
     "user": {
      "displayName": "Nguyen Ngoc Yen Nga",
      "userId": "05910121350828163339"
     },
     "user_tz": -480
    },
    "id": "094810e7-a141-415d-be71-6ed9c39be86b",
    "outputId": "cde2369f-e178-4dba-d3fc-c94e15294f48"
   },
   "outputs": [
    {
     "data": {
      "text/html": [
       "<div>\n",
       "<style scoped>\n",
       "    .dataframe tbody tr th:only-of-type {\n",
       "        vertical-align: middle;\n",
       "    }\n",
       "\n",
       "    .dataframe tbody tr th {\n",
       "        vertical-align: top;\n",
       "    }\n",
       "\n",
       "    .dataframe thead th {\n",
       "        text-align: right;\n",
       "    }\n",
       "</style>\n",
       "<table border=\"1\" class=\"dataframe\">\n",
       "  <thead>\n",
       "    <tr style=\"text-align: right;\">\n",
       "      <th></th>\n",
       "      <th>month</th>\n",
       "      <th>town</th>\n",
       "      <th>flat_type</th>\n",
       "      <th>block</th>\n",
       "      <th>street_name</th>\n",
       "      <th>storey_range</th>\n",
       "      <th>floor_area_sqm</th>\n",
       "      <th>flat_model</th>\n",
       "      <th>lease_commence_date</th>\n",
       "      <th>resale_price</th>\n",
       "      <th>year</th>\n",
       "      <th>remaining_lease</th>\n",
       "    </tr>\n",
       "  </thead>\n",
       "  <tbody>\n",
       "    <tr>\n",
       "      <th>0</th>\n",
       "      <td>1</td>\n",
       "      <td>ANG MO KIO</td>\n",
       "      <td>2 ROOM</td>\n",
       "      <td>406</td>\n",
       "      <td>ANG MO KIO AVE 10</td>\n",
       "      <td>01 TO 03</td>\n",
       "      <td>44.0</td>\n",
       "      <td>Improved</td>\n",
       "      <td>1979</td>\n",
       "      <td>257800.0</td>\n",
       "      <td>2012</td>\n",
       "      <td>66</td>\n",
       "    </tr>\n",
       "    <tr>\n",
       "      <th>1</th>\n",
       "      <td>1</td>\n",
       "      <td>ANG MO KIO</td>\n",
       "      <td>2 ROOM</td>\n",
       "      <td>314</td>\n",
       "      <td>ANG MO KIO AVE 3</td>\n",
       "      <td>07 TO 09</td>\n",
       "      <td>44.0</td>\n",
       "      <td>Improved</td>\n",
       "      <td>1978</td>\n",
       "      <td>263000.0</td>\n",
       "      <td>2012</td>\n",
       "      <td>65</td>\n",
       "    </tr>\n",
       "  </tbody>\n",
       "</table>\n",
       "</div>"
      ],
      "text/plain": [
       "   month        town flat_type block        street_name storey_range  \\\n",
       "0      1  ANG MO KIO    2 ROOM   406  ANG MO KIO AVE 10     01 TO 03   \n",
       "1      1  ANG MO KIO    2 ROOM   314   ANG MO KIO AVE 3     07 TO 09   \n",
       "\n",
       "   floor_area_sqm flat_model  lease_commence_date  resale_price  year  \\\n",
       "0            44.0   Improved                 1979      257800.0  2012   \n",
       "1            44.0   Improved                 1978      263000.0  2012   \n",
       "\n",
       "   remaining_lease  \n",
       "0               66  \n",
       "1               65  "
      ]
     },
     "execution_count": 6,
     "metadata": {},
     "output_type": "execute_result"
    }
   ],
   "source": [
    "resale_df['remaining_lease'] = (99 + resale_df['lease_commence_date']) - resale_df['year']\n",
    "resale_df.head(2)"
   ]
  },
  {
   "cell_type": "markdown",
   "id": "be9d8c60-ca18-4208-a136-a125b3c7b8f0",
   "metadata": {
    "id": "be9d8c60-ca18-4208-a136-a125b3c7b8f0"
   },
   "source": [
    "### 3.3.Integration of External Data Sources"
   ]
  },
  {
   "cell_type": "markdown",
   "id": "9230f0ba-e89d-4423-b6df-c385a1c69f90",
   "metadata": {
    "id": "9230f0ba-e89d-4423-b6df-c385a1c69f90"
   },
   "source": [
    "#### 3.3.1.Regional Mapping"
   ]
  },
  {
   "cell_type": "markdown",
   "id": "513980bc-060b-4fb8-8de1-7132e1f91a2a",
   "metadata": {
    "id": "513980bc-060b-4fb8-8de1-7132e1f91a2a"
   },
   "source": [
    "**Reading and merging external data like MRT locations, schools, malls, and zipcode mapper**"
   ]
  },
  {
   "cell_type": "code",
   "execution_count": 7,
   "id": "00b67024-fcef-4aca-a8c7-fcf75f317874",
   "metadata": {
    "executionInfo": {
     "elapsed": 4,
     "status": "ok",
     "timestamp": 1712678908443,
     "user": {
      "displayName": "Nguyen Ngoc Yen Nga",
      "userId": "05910121350828163339"
     },
     "user_tz": -480
    },
    "id": "00b67024-fcef-4aca-a8c7-fcf75f317874"
   },
   "outputs": [],
   "source": [
    "mrt_locations = pd.read_csv('sg-mrt-existing-stations.csv')\n",
    "mrt_locations.rename(columns= {\"latitude\": \"lat\", \"longitude\": \"lng\"}, inplace=True)\n",
    "\n",
    "mrt_upcoming = pd.read_csv('sg-mrt-planned-stations.csv')\n",
    "mrt_upcoming.rename(columns={'latitude': 'lat', 'longitude': 'lng'}, inplace=True)\n",
    "\n",
    "school_locations = pd.read_csv('sg-primary-schools.csv')\n",
    "school_locations.rename(columns={'latitude': 'lat', 'longitude': 'lng'}, inplace=True)\n",
    "\n",
    "mall_locations = pd.read_csv('sg-shopping-malls.csv')\n",
    "mall_locations.rename(columns={'latitude': 'lat', 'longitude': 'lng'}, inplace=True)\n",
    "\n",
    "zipcode_mapper = pd.read_csv('sg_zipcode_mapper_utf.csv')\n",
    "zipcode_mapper.rename(columns = {\"latitude\": \"lat\", \"longtitude\": \"lng\", \"blk_no\": \"block\", \"RD_name\": \"street_name\"}, inplace=True)"
   ]
  },
  {
   "cell_type": "code",
   "execution_count": 8,
   "id": "05e75447-64cf-4892-82e0-04be0437c35d",
   "metadata": {
    "colab": {
     "base_uri": "https://localhost:8080/",
     "height": 201
    },
    "executionInfo": {
     "elapsed": 5,
     "status": "ok",
     "timestamp": 1712678911403,
     "user": {
      "displayName": "Nguyen Ngoc Yen Nga",
      "userId": "05910121350828163339"
     },
     "user_tz": -480
    },
    "id": "05e75447-64cf-4892-82e0-04be0437c35d",
    "outputId": "610e1768-1fdb-4027-db99-dfa4169a088e"
   },
   "outputs": [
    {
     "data": {
      "text/html": [
       "<div>\n",
       "<style scoped>\n",
       "    .dataframe tbody tr th:only-of-type {\n",
       "        vertical-align: middle;\n",
       "    }\n",
       "\n",
       "    .dataframe tbody tr th {\n",
       "        vertical-align: top;\n",
       "    }\n",
       "\n",
       "    .dataframe thead th {\n",
       "        text-align: right;\n",
       "    }\n",
       "</style>\n",
       "<table border=\"1\" class=\"dataframe\">\n",
       "  <thead>\n",
       "    <tr style=\"text-align: right;\">\n",
       "      <th></th>\n",
       "      <th>month</th>\n",
       "      <th>town</th>\n",
       "      <th>flat_type</th>\n",
       "      <th>block</th>\n",
       "      <th>street_name</th>\n",
       "      <th>storey_range</th>\n",
       "      <th>floor_area_sqm</th>\n",
       "      <th>flat_model</th>\n",
       "      <th>lease_commence_date</th>\n",
       "      <th>resale_price</th>\n",
       "      <th>year</th>\n",
       "      <th>remaining_lease</th>\n",
       "      <th>region</th>\n",
       "    </tr>\n",
       "  </thead>\n",
       "  <tbody>\n",
       "    <tr>\n",
       "      <th>0</th>\n",
       "      <td>1</td>\n",
       "      <td>ANG MO KIO</td>\n",
       "      <td>2 ROOM</td>\n",
       "      <td>406</td>\n",
       "      <td>ANG MO KIO AVE 10</td>\n",
       "      <td>01 TO 03</td>\n",
       "      <td>44.0</td>\n",
       "      <td>Improved</td>\n",
       "      <td>1979</td>\n",
       "      <td>257800.0</td>\n",
       "      <td>2012</td>\n",
       "      <td>66</td>\n",
       "      <td>North East</td>\n",
       "    </tr>\n",
       "    <tr>\n",
       "      <th>1</th>\n",
       "      <td>1</td>\n",
       "      <td>ANG MO KIO</td>\n",
       "      <td>2 ROOM</td>\n",
       "      <td>314</td>\n",
       "      <td>ANG MO KIO AVE 3</td>\n",
       "      <td>07 TO 09</td>\n",
       "      <td>44.0</td>\n",
       "      <td>Improved</td>\n",
       "      <td>1978</td>\n",
       "      <td>263000.0</td>\n",
       "      <td>2012</td>\n",
       "      <td>65</td>\n",
       "      <td>North East</td>\n",
       "    </tr>\n",
       "  </tbody>\n",
       "</table>\n",
       "</div>"
      ],
      "text/plain": [
       "   month        town flat_type block        street_name storey_range  \\\n",
       "0      1  ANG MO KIO    2 ROOM   406  ANG MO KIO AVE 10     01 TO 03   \n",
       "1      1  ANG MO KIO    2 ROOM   314   ANG MO KIO AVE 3     07 TO 09   \n",
       "\n",
       "   floor_area_sqm flat_model  lease_commence_date  resale_price  year  \\\n",
       "0            44.0   Improved                 1979      257800.0  2012   \n",
       "1            44.0   Improved                 1978      263000.0  2012   \n",
       "\n",
       "   remaining_lease      region  \n",
       "0               66  North East  \n",
       "1               65  North East  "
      ]
     },
     "execution_count": 8,
     "metadata": {},
     "output_type": "execute_result"
    }
   ],
   "source": [
    "regions_mapper = {'ANG MO KIO':'North East', 'BEDOK':'East', 'BISHAN':'Central', 'BUKIT BATOK':'West', 'BUKIT MERAH':'Central',\n",
    "       'BUKIT PANJANG':'West', 'BUKIT TIMAH':'Central', 'CENTRAL':'North', 'CHOA CHU KANG':'West',\n",
    "       'CLEMENTI':'West', 'GEYLANG':'Central', 'HOUGANG':'North East', 'JURONG EAST':'West', 'JURONG WEST':'West',\n",
    "       'KALLANG/WHAMPOA':'Central', 'MARINE PARADE':'Central', 'PASIR RIS':'East', 'PUNGGOL':'North East',\n",
    "       'QUEENSTOWN':'Central', 'SEMBAWANG':'North', 'SENGKANG':'North East', 'SERANGOON':'North East', 'TAMPINES':'East',\n",
    "       'TOA PAYOH':'Central', 'WOODLANDS':'North', 'YISHUN':'North'}\n",
    "\n",
    "resale_df['region'] = resale_df['town'].map(regions_mapper)\n",
    "resale_df.head(2)"
   ]
  },
  {
   "cell_type": "code",
   "execution_count": 9,
   "id": "68cd64a2-eb58-4e21-b897-0f3ff6a14032",
   "metadata": {
    "colab": {
     "base_uri": "https://localhost:8080/",
     "height": 201
    },
    "executionInfo": {
     "elapsed": 4,
     "status": "ok",
     "timestamp": 1712678913298,
     "user": {
      "displayName": "Nguyen Ngoc Yen Nga",
      "userId": "05910121350828163339"
     },
     "user_tz": -480
    },
    "id": "68cd64a2-eb58-4e21-b897-0f3ff6a14032",
    "outputId": "446f8382-febb-43d5-f4a9-b913c3aed84a"
   },
   "outputs": [
    {
     "data": {
      "text/html": [
       "<div>\n",
       "<style scoped>\n",
       "    .dataframe tbody tr th:only-of-type {\n",
       "        vertical-align: middle;\n",
       "    }\n",
       "\n",
       "    .dataframe tbody tr th {\n",
       "        vertical-align: top;\n",
       "    }\n",
       "\n",
       "    .dataframe thead th {\n",
       "        text-align: right;\n",
       "    }\n",
       "</style>\n",
       "<table border=\"1\" class=\"dataframe\">\n",
       "  <thead>\n",
       "    <tr style=\"text-align: right;\">\n",
       "      <th></th>\n",
       "      <th>month</th>\n",
       "      <th>town</th>\n",
       "      <th>flat_type</th>\n",
       "      <th>block</th>\n",
       "      <th>street_name</th>\n",
       "      <th>storey_range</th>\n",
       "      <th>floor_area_sqm</th>\n",
       "      <th>flat_model</th>\n",
       "      <th>lease_commence_date</th>\n",
       "      <th>resale_price</th>\n",
       "      <th>year</th>\n",
       "      <th>remaining_lease</th>\n",
       "      <th>region</th>\n",
       "      <th>lat</th>\n",
       "      <th>lng</th>\n",
       "    </tr>\n",
       "  </thead>\n",
       "  <tbody>\n",
       "    <tr>\n",
       "      <th>0</th>\n",
       "      <td>1</td>\n",
       "      <td>ANG MO KIO</td>\n",
       "      <td>2 ROOM</td>\n",
       "      <td>406</td>\n",
       "      <td>ANG MO KIO AVE 10</td>\n",
       "      <td>01 TO 03</td>\n",
       "      <td>44.0</td>\n",
       "      <td>Improved</td>\n",
       "      <td>1979</td>\n",
       "      <td>257800.0</td>\n",
       "      <td>2012</td>\n",
       "      <td>66</td>\n",
       "      <td>North East</td>\n",
       "      <td>1.362005</td>\n",
       "      <td>103.853880</td>\n",
       "    </tr>\n",
       "    <tr>\n",
       "      <th>1</th>\n",
       "      <td>1</td>\n",
       "      <td>ANG MO KIO</td>\n",
       "      <td>2 ROOM</td>\n",
       "      <td>314</td>\n",
       "      <td>ANG MO KIO AVE 3</td>\n",
       "      <td>07 TO 09</td>\n",
       "      <td>44.0</td>\n",
       "      <td>Improved</td>\n",
       "      <td>1978</td>\n",
       "      <td>263000.0</td>\n",
       "      <td>2012</td>\n",
       "      <td>65</td>\n",
       "      <td>North East</td>\n",
       "      <td>1.366227</td>\n",
       "      <td>103.850086</td>\n",
       "    </tr>\n",
       "  </tbody>\n",
       "</table>\n",
       "</div>"
      ],
      "text/plain": [
       "   month        town flat_type block        street_name storey_range  \\\n",
       "0      1  ANG MO KIO    2 ROOM   406  ANG MO KIO AVE 10     01 TO 03   \n",
       "1      1  ANG MO KIO    2 ROOM   314   ANG MO KIO AVE 3     07 TO 09   \n",
       "\n",
       "   floor_area_sqm flat_model  lease_commence_date  resale_price  year  \\\n",
       "0            44.0   Improved                 1979      257800.0  2012   \n",
       "1            44.0   Improved                 1978      263000.0  2012   \n",
       "\n",
       "   remaining_lease      region       lat         lng  \n",
       "0               66  North East  1.362005  103.853880  \n",
       "1               65  North East  1.366227  103.850086  "
      ]
     },
     "execution_count": 9,
     "metadata": {},
     "output_type": "execute_result"
    }
   ],
   "source": [
    "resale_df_with_coord = pd.merge(resale_df,\n",
    "                                zipcode_mapper[['block', 'street_name', 'lat', 'lng']],\n",
    "                                how='left',\n",
    "                                on = ['block', 'street_name'])\n",
    "resale_df_with_coord.dropna(inplace=True)\n",
    "resale_df_with_coord.drop_duplicates(inplace=True)\n",
    "resale_df_with_coord.head(2)"
   ]
  },
  {
   "cell_type": "markdown",
   "id": "44373f39-dd4a-44cf-a4a8-10c37d573e87",
   "metadata": {
    "id": "44373f39-dd4a-44cf-a4a8-10c37d573e87"
   },
   "source": [
    "#### 3.3.2.Proximity to Amenities\n",
    "\n",
    "**Nearest Neighbors algorithm to find the distance from properties to various amenities**"
   ]
  },
  {
   "cell_type": "code",
   "execution_count": 10,
   "id": "06f2d5c0-acc7-4e86-871c-e4b125f7f180",
   "metadata": {
    "executionInfo": {
     "elapsed": 5109,
     "status": "ok",
     "timestamp": 1712678922685,
     "user": {
      "displayName": "Nguyen Ngoc Yen Nga",
      "userId": "05910121350828163339"
     },
     "user_tz": -480
    },
    "id": "06f2d5c0-acc7-4e86-871c-e4b125f7f180"
   },
   "outputs": [],
   "source": [
    "from sklearn.neighbors import NearestNeighbors\n",
    "\n",
    "# Calculating Distance to Existing MRT Stations\n",
    "nn_model_mrt = NearestNeighbors(n_neighbors=1, algorithm='auto', metric='haversine')\n",
    "nn_model_mrt.fit(mrt_locations[['lat', 'lng']])\n",
    "resale_df_with_coord['mrt_dist'], indices = nn_model_mrt.kneighbors(resale_df_with_coord[['lat', 'lng']])\n",
    "resale_df_with_coord\n",
    "\n",
    "# Calculating Distance to Schools\n",
    "nn_model_school = NearestNeighbors(n_neighbors=1, algorithm='auto', metric='haversine')\n",
    "nn_model_school.fit(school_locations[['lat', 'lng']])\n",
    "resale_df_with_coord['school_dist'], indices = nn_model_school.kneighbors(resale_df_with_coord[['lat', 'lng']])\n",
    "\n",
    "# Calculating Distance to Malls\n",
    "nn_model_mall = NearestNeighbors(n_neighbors=1, algorithm='auto', metric='haversine')\n",
    "nn_model_mall.fit(mall_locations[['lat', 'lng']])\n",
    "resale_df_with_coord['mall_dist'], indices = nn_model_mall.kneighbors(resale_df_with_coord[['lat', 'lng']])\n",
    "\n",
    "# Calculating Distance to Upcoming MRT Stations\n",
    "nn_model_mrt_upcoming = NearestNeighbors(n_neighbors=1, algorithm='auto', metric='haversine')\n",
    "nn_model_mrt_upcoming.fit(mrt_upcoming[['lat', 'lng']])\n",
    "resale_df_with_coord['upcoming_mrt_dist'], indices = nn_model_mrt_upcoming.kneighbors(resale_df_with_coord[['lat', 'lng']])"
   ]
  },
  {
   "cell_type": "code",
   "execution_count": 11,
   "id": "6054758c-7ac4-4f92-a595-d3bf67cca52f",
   "metadata": {
    "colab": {
     "base_uri": "https://localhost:8080/",
     "height": 201
    },
    "executionInfo": {
     "elapsed": 13,
     "status": "ok",
     "timestamp": 1712678922685,
     "user": {
      "displayName": "Nguyen Ngoc Yen Nga",
      "userId": "05910121350828163339"
     },
     "user_tz": -480
    },
    "id": "6054758c-7ac4-4f92-a595-d3bf67cca52f",
    "outputId": "e6c636d3-e078-4897-87ee-0ed34dacb020"
   },
   "outputs": [
    {
     "data": {
      "text/html": [
       "<div>\n",
       "<style scoped>\n",
       "    .dataframe tbody tr th:only-of-type {\n",
       "        vertical-align: middle;\n",
       "    }\n",
       "\n",
       "    .dataframe tbody tr th {\n",
       "        vertical-align: top;\n",
       "    }\n",
       "\n",
       "    .dataframe thead th {\n",
       "        text-align: right;\n",
       "    }\n",
       "</style>\n",
       "<table border=\"1\" class=\"dataframe\">\n",
       "  <thead>\n",
       "    <tr style=\"text-align: right;\">\n",
       "      <th></th>\n",
       "      <th>month</th>\n",
       "      <th>town</th>\n",
       "      <th>flat_type</th>\n",
       "      <th>block</th>\n",
       "      <th>street_name</th>\n",
       "      <th>storey_range</th>\n",
       "      <th>floor_area_sqm</th>\n",
       "      <th>flat_model</th>\n",
       "      <th>lease_commence_date</th>\n",
       "      <th>resale_price</th>\n",
       "      <th>year</th>\n",
       "      <th>remaining_lease</th>\n",
       "      <th>region</th>\n",
       "      <th>lat</th>\n",
       "      <th>lng</th>\n",
       "      <th>mrt_dist</th>\n",
       "      <th>school_dist</th>\n",
       "      <th>mall_dist</th>\n",
       "      <th>upcoming_mrt_dist</th>\n",
       "    </tr>\n",
       "  </thead>\n",
       "  <tbody>\n",
       "    <tr>\n",
       "      <th>0</th>\n",
       "      <td>1</td>\n",
       "      <td>ANG MO KIO</td>\n",
       "      <td>2 ROOM</td>\n",
       "      <td>406</td>\n",
       "      <td>ANG MO KIO AVE 10</td>\n",
       "      <td>01 TO 03</td>\n",
       "      <td>44.0</td>\n",
       "      <td>Improved</td>\n",
       "      <td>1979</td>\n",
       "      <td>257800.0</td>\n",
       "      <td>2012</td>\n",
       "      <td>66</td>\n",
       "      <td>North East</td>\n",
       "      <td>1.362005</td>\n",
       "      <td>103.853880</td>\n",
       "      <td>0.004521</td>\n",
       "      <td>0.001972</td>\n",
       "      <td>0.003881</td>\n",
       "      <td>0.019054</td>\n",
       "    </tr>\n",
       "    <tr>\n",
       "      <th>1</th>\n",
       "      <td>1</td>\n",
       "      <td>ANG MO KIO</td>\n",
       "      <td>2 ROOM</td>\n",
       "      <td>314</td>\n",
       "      <td>ANG MO KIO AVE 3</td>\n",
       "      <td>07 TO 09</td>\n",
       "      <td>44.0</td>\n",
       "      <td>Improved</td>\n",
       "      <td>1978</td>\n",
       "      <td>263000.0</td>\n",
       "      <td>2012</td>\n",
       "      <td>65</td>\n",
       "      <td>North East</td>\n",
       "      <td>1.366227</td>\n",
       "      <td>103.850086</td>\n",
       "      <td>0.003707</td>\n",
       "      <td>0.000663</td>\n",
       "      <td>0.003266</td>\n",
       "      <td>0.019245</td>\n",
       "    </tr>\n",
       "  </tbody>\n",
       "</table>\n",
       "</div>"
      ],
      "text/plain": [
       "   month        town flat_type block        street_name storey_range  \\\n",
       "0      1  ANG MO KIO    2 ROOM   406  ANG MO KIO AVE 10     01 TO 03   \n",
       "1      1  ANG MO KIO    2 ROOM   314   ANG MO KIO AVE 3     07 TO 09   \n",
       "\n",
       "   floor_area_sqm flat_model  lease_commence_date  resale_price  year  \\\n",
       "0            44.0   Improved                 1979      257800.0  2012   \n",
       "1            44.0   Improved                 1978      263000.0  2012   \n",
       "\n",
       "   remaining_lease      region       lat         lng  mrt_dist  school_dist  \\\n",
       "0               66  North East  1.362005  103.853880  0.004521     0.001972   \n",
       "1               65  North East  1.366227  103.850086  0.003707     0.000663   \n",
       "\n",
       "   mall_dist  upcoming_mrt_dist  \n",
       "0   0.003881           0.019054  \n",
       "1   0.003266           0.019245  "
      ]
     },
     "execution_count": 11,
     "metadata": {},
     "output_type": "execute_result"
    }
   ],
   "source": [
    "resale_df_with_coord.head(2)"
   ]
  },
  {
   "cell_type": "markdown",
   "id": "7cc4bfdf-1f6d-4268-af5a-04d495fb187e",
   "metadata": {
    "id": "7cc4bfdf-1f6d-4268-af5a-04d495fb187e"
   },
   "source": [
    "**Clean up `nan`, duplicates and drop `lat`, `lng`**"
   ]
  },
  {
   "cell_type": "code",
   "execution_count": 12,
   "id": "9bbbe206-4a64-4bf4-82aa-5beeabd7e791",
   "metadata": {
    "executionInfo": {
     "elapsed": 2,
     "status": "ok",
     "timestamp": 1712678924506,
     "user": {
      "displayName": "Nguyen Ngoc Yen Nga",
      "userId": "05910121350828163339"
     },
     "user_tz": -480
    },
    "id": "9bbbe206-4a64-4bf4-82aa-5beeabd7e791"
   },
   "outputs": [],
   "source": [
    "resale_df_with_coord.drop(columns=['lat', 'lng'], inplace=True)"
   ]
  },
  {
   "cell_type": "code",
   "execution_count": 13,
   "id": "64905407-30fc-47de-9aa0-79fb67836a12",
   "metadata": {
    "colab": {
     "base_uri": "https://localhost:8080/",
     "height": 201
    },
    "executionInfo": {
     "elapsed": 599,
     "status": "ok",
     "timestamp": 1712678925725,
     "user": {
      "displayName": "Nguyen Ngoc Yen Nga",
      "userId": "05910121350828163339"
     },
     "user_tz": -480
    },
    "id": "64905407-30fc-47de-9aa0-79fb67836a12",
    "outputId": "a6fa5a9b-dcff-4a1c-bf45-79fc8bd2c2bb"
   },
   "outputs": [
    {
     "data": {
      "text/html": [
       "<div>\n",
       "<style scoped>\n",
       "    .dataframe tbody tr th:only-of-type {\n",
       "        vertical-align: middle;\n",
       "    }\n",
       "\n",
       "    .dataframe tbody tr th {\n",
       "        vertical-align: top;\n",
       "    }\n",
       "\n",
       "    .dataframe thead th {\n",
       "        text-align: right;\n",
       "    }\n",
       "</style>\n",
       "<table border=\"1\" class=\"dataframe\">\n",
       "  <thead>\n",
       "    <tr style=\"text-align: right;\">\n",
       "      <th></th>\n",
       "      <th>month</th>\n",
       "      <th>town</th>\n",
       "      <th>flat_type</th>\n",
       "      <th>block</th>\n",
       "      <th>street_name</th>\n",
       "      <th>storey_range</th>\n",
       "      <th>floor_area_sqm</th>\n",
       "      <th>flat_model</th>\n",
       "      <th>lease_commence_date</th>\n",
       "      <th>resale_price</th>\n",
       "      <th>year</th>\n",
       "      <th>remaining_lease</th>\n",
       "      <th>region</th>\n",
       "      <th>mrt_dist</th>\n",
       "      <th>school_dist</th>\n",
       "      <th>mall_dist</th>\n",
       "      <th>upcoming_mrt_dist</th>\n",
       "    </tr>\n",
       "  </thead>\n",
       "  <tbody>\n",
       "    <tr>\n",
       "      <th>0</th>\n",
       "      <td>1</td>\n",
       "      <td>ANG MO KIO</td>\n",
       "      <td>2 ROOM</td>\n",
       "      <td>406</td>\n",
       "      <td>ANG MO KIO AVE 10</td>\n",
       "      <td>01 TO 03</td>\n",
       "      <td>44.0</td>\n",
       "      <td>Improved</td>\n",
       "      <td>1979</td>\n",
       "      <td>257800.0</td>\n",
       "      <td>2012</td>\n",
       "      <td>66</td>\n",
       "      <td>North East</td>\n",
       "      <td>0.004521</td>\n",
       "      <td>0.001972</td>\n",
       "      <td>0.003881</td>\n",
       "      <td>0.019054</td>\n",
       "    </tr>\n",
       "    <tr>\n",
       "      <th>1</th>\n",
       "      <td>1</td>\n",
       "      <td>ANG MO KIO</td>\n",
       "      <td>2 ROOM</td>\n",
       "      <td>314</td>\n",
       "      <td>ANG MO KIO AVE 3</td>\n",
       "      <td>07 TO 09</td>\n",
       "      <td>44.0</td>\n",
       "      <td>Improved</td>\n",
       "      <td>1978</td>\n",
       "      <td>263000.0</td>\n",
       "      <td>2012</td>\n",
       "      <td>65</td>\n",
       "      <td>North East</td>\n",
       "      <td>0.003707</td>\n",
       "      <td>0.000663</td>\n",
       "      <td>0.003266</td>\n",
       "      <td>0.019245</td>\n",
       "    </tr>\n",
       "  </tbody>\n",
       "</table>\n",
       "</div>"
      ],
      "text/plain": [
       "   month        town flat_type block        street_name storey_range  \\\n",
       "0      1  ANG MO KIO    2 ROOM   406  ANG MO KIO AVE 10     01 TO 03   \n",
       "1      1  ANG MO KIO    2 ROOM   314   ANG MO KIO AVE 3     07 TO 09   \n",
       "\n",
       "   floor_area_sqm flat_model  lease_commence_date  resale_price  year  \\\n",
       "0            44.0   Improved                 1979      257800.0  2012   \n",
       "1            44.0   Improved                 1978      263000.0  2012   \n",
       "\n",
       "   remaining_lease      region  mrt_dist  school_dist  mall_dist  \\\n",
       "0               66  North East  0.004521     0.001972   0.003881   \n",
       "1               65  North East  0.003707     0.000663   0.003266   \n",
       "\n",
       "   upcoming_mrt_dist  \n",
       "0           0.019054  \n",
       "1           0.019245  "
      ]
     },
     "execution_count": 13,
     "metadata": {},
     "output_type": "execute_result"
    }
   ],
   "source": [
    "resale_df_with_coord.dropna(inplace=True)\n",
    "resale_df_with_coord.drop_duplicates(inplace=True)\n",
    "resale_df_with_coord.reset_index(drop=True, inplace=True)\n",
    "resale_df_with_coord.head(2)"
   ]
  },
  {
   "cell_type": "markdown",
   "id": "f9cfa91a-eb21-4128-84d5-185718640031",
   "metadata": {
    "id": "f9cfa91a-eb21-4128-84d5-185718640031",
    "tags": []
   },
   "source": [
    "#### 3.3.3.Consumer Price Index (CPI) Integration"
   ]
  },
  {
   "cell_type": "code",
   "execution_count": 14,
   "id": "ae1aaf0a-8d69-40b4-8969-032ba6a1eab4",
   "metadata": {
    "colab": {
     "base_uri": "https://localhost:8080/",
     "height": 236
    },
    "executionInfo": {
     "elapsed": 1106,
     "status": "ok",
     "timestamp": 1712678929335,
     "user": {
      "displayName": "Nguyen Ngoc Yen Nga",
      "userId": "05910121350828163339"
     },
     "user_tz": -480
    },
    "id": "ae1aaf0a-8d69-40b4-8969-032ba6a1eab4",
    "outputId": "2e8e7068-1920-41e0-9103-872a9bb48079"
   },
   "outputs": [
    {
     "name": "stderr",
     "output_type": "stream",
     "text": [
      "C:\\Users\\ganas\\AppData\\Local\\Temp\\ipykernel_6944\\49746944.py:5: UserWarning: Could not infer format, so each element will be parsed individually, falling back to `dateutil`. To ensure parsing is consistent and as-expected, please specify a format.\n",
      "  cpi['month'] = pd.to_datetime(cpi['month'])\n"
     ]
    },
    {
     "data": {
      "text/html": [
       "<div>\n",
       "<style scoped>\n",
       "    .dataframe tbody tr th:only-of-type {\n",
       "        vertical-align: middle;\n",
       "    }\n",
       "\n",
       "    .dataframe tbody tr th {\n",
       "        vertical-align: top;\n",
       "    }\n",
       "\n",
       "    .dataframe thead th {\n",
       "        text-align: right;\n",
       "    }\n",
       "</style>\n",
       "<table border=\"1\" class=\"dataframe\">\n",
       "  <thead>\n",
       "    <tr style=\"text-align: right;\">\n",
       "      <th></th>\n",
       "      <th>month</th>\n",
       "      <th>town</th>\n",
       "      <th>flat_type</th>\n",
       "      <th>block</th>\n",
       "      <th>street_name</th>\n",
       "      <th>storey_range</th>\n",
       "      <th>floor_area_sqm</th>\n",
       "      <th>flat_model</th>\n",
       "      <th>lease_commence_date</th>\n",
       "      <th>resale_price</th>\n",
       "      <th>year</th>\n",
       "      <th>remaining_lease</th>\n",
       "      <th>region</th>\n",
       "      <th>mrt_dist</th>\n",
       "      <th>school_dist</th>\n",
       "      <th>mall_dist</th>\n",
       "      <th>upcoming_mrt_dist</th>\n",
       "      <th>cpi</th>\n",
       "    </tr>\n",
       "  </thead>\n",
       "  <tbody>\n",
       "    <tr>\n",
       "      <th>0</th>\n",
       "      <td>1</td>\n",
       "      <td>ANG MO KIO</td>\n",
       "      <td>2 ROOM</td>\n",
       "      <td>406</td>\n",
       "      <td>ANG MO KIO AVE 10</td>\n",
       "      <td>01 TO 03</td>\n",
       "      <td>44.0</td>\n",
       "      <td>Improved</td>\n",
       "      <td>1979</td>\n",
       "      <td>272090.176046</td>\n",
       "      <td>2012</td>\n",
       "      <td>66</td>\n",
       "      <td>North East</td>\n",
       "      <td>0.004521</td>\n",
       "      <td>0.001972</td>\n",
       "      <td>0.003881</td>\n",
       "      <td>0.019054</td>\n",
       "      <td>94.748</td>\n",
       "    </tr>\n",
       "    <tr>\n",
       "      <th>1</th>\n",
       "      <td>1</td>\n",
       "      <td>ANG MO KIO</td>\n",
       "      <td>2 ROOM</td>\n",
       "      <td>314</td>\n",
       "      <td>ANG MO KIO AVE 3</td>\n",
       "      <td>07 TO 09</td>\n",
       "      <td>44.0</td>\n",
       "      <td>Improved</td>\n",
       "      <td>1978</td>\n",
       "      <td>277578.418542</td>\n",
       "      <td>2012</td>\n",
       "      <td>65</td>\n",
       "      <td>North East</td>\n",
       "      <td>0.003707</td>\n",
       "      <td>0.000663</td>\n",
       "      <td>0.003266</td>\n",
       "      <td>0.019245</td>\n",
       "      <td>94.748</td>\n",
       "    </tr>\n",
       "  </tbody>\n",
       "</table>\n",
       "</div>"
      ],
      "text/plain": [
       "   month        town flat_type block        street_name storey_range  \\\n",
       "0      1  ANG MO KIO    2 ROOM   406  ANG MO KIO AVE 10     01 TO 03   \n",
       "1      1  ANG MO KIO    2 ROOM   314   ANG MO KIO AVE 3     07 TO 09   \n",
       "\n",
       "   floor_area_sqm flat_model  lease_commence_date   resale_price  year  \\\n",
       "0            44.0   Improved                 1979  272090.176046  2012   \n",
       "1            44.0   Improved                 1978  277578.418542  2012   \n",
       "\n",
       "   remaining_lease      region  mrt_dist  school_dist  mall_dist  \\\n",
       "0               66  North East  0.004521     0.001972   0.003881   \n",
       "1               65  North East  0.003707     0.000663   0.003266   \n",
       "\n",
       "   upcoming_mrt_dist     cpi  \n",
       "0           0.019054  94.748  \n",
       "1           0.019245  94.748  "
      ]
     },
     "execution_count": 14,
     "metadata": {},
     "output_type": "execute_result"
    }
   ],
   "source": [
    "# Load CPI Data\n",
    "cpi = pd.read_csv('cpi.csv')\n",
    "\n",
    "# Convert 'month' to DateTime and Extract Year and Month\n",
    "cpi['month'] = pd.to_datetime(cpi['month'])\n",
    "cpi['year'] = cpi['month'].dt.year\n",
    "cpi['month'] = cpi['month'].dt.month\n",
    "\n",
    "# Sort CPI Data\n",
    "cpi.sort_values(by=['year', 'month'], inplace=True)\n",
    "\n",
    "# Merge CPI Data with Resale Data\n",
    "resale_df_with_coord = resale_df_with_coord.merge(cpi, on=['month', 'year'], how='left')\n",
    "\n",
    "# Adjust 'price_per_sqm' Based on CPI\n",
    "# resale_df_with_coord['price_per_sqm'] = (resale_df_with_coord['price_per_sqm']/ resale_df_with_coord['cpi']) * 100\n",
    "resale_df_with_coord['resale_price'] = (resale_df_with_coord['resale_price']/ resale_df_with_coord['cpi']) * 100\n",
    "resale_df_with_coord.head(2)"
   ]
  },
  {
   "cell_type": "markdown",
   "id": "49dac27b-f4b0-4123-a451-089fbf7ceafd",
   "metadata": {
    "id": "49dac27b-f4b0-4123-a451-089fbf7ceafd",
    "tags": []
   },
   "source": [
    "## 4.Data Preprocessing"
   ]
  },
  {
   "cell_type": "markdown",
   "id": "3911d65e-4f7a-4038-a92c-462bf493c175",
   "metadata": {
    "id": "3911d65e-4f7a-4038-a92c-462bf493c175"
   },
   "source": [
    "### 4.1.Categorical Feature Encoding"
   ]
  },
  {
   "cell_type": "markdown",
   "id": "1ed2e29f-e421-4af7-9c4f-2e28945682aa",
   "metadata": {
    "id": "1ed2e29f-e421-4af7-9c4f-2e28945682aa",
    "tags": []
   },
   "source": [
    "#### 4.1.1.Ordinal Encoding of Flat Type"
   ]
  },
  {
   "cell_type": "code",
   "execution_count": 15,
   "id": "8ed2a732-d08f-48b6-8567-a5fa875ac8bd",
   "metadata": {
    "colab": {
     "base_uri": "https://localhost:8080/"
    },
    "executionInfo": {
     "elapsed": 488,
     "status": "ok",
     "timestamp": 1712678938675,
     "user": {
      "displayName": "Nguyen Ngoc Yen Nga",
      "userId": "05910121350828163339"
     },
     "user_tz": -480
    },
    "id": "8ed2a732-d08f-48b6-8567-a5fa875ac8bd",
    "outputId": "a2f03f9d-ea96-4a38-ee15-7fecd7638aef"
   },
   "outputs": [
    {
     "data": {
      "text/plain": [
       "array(['2 ROOM', '3 ROOM', '4 ROOM', '5 ROOM', 'EXECUTIVE',\n",
       "       'MULTI-GENERATION'], dtype=object)"
      ]
     },
     "execution_count": 15,
     "metadata": {},
     "output_type": "execute_result"
    }
   ],
   "source": [
    "resale_df_with_coord['flat_type'].unique()"
   ]
  },
  {
   "cell_type": "code",
   "execution_count": 16,
   "id": "24ee4e87-6e5e-4c68-a231-35d5b5404237",
   "metadata": {
    "colab": {
     "base_uri": "https://localhost:8080/"
    },
    "executionInfo": {
     "elapsed": 3,
     "status": "ok",
     "timestamp": 1712678941032,
     "user": {
      "displayName": "Nguyen Ngoc Yen Nga",
      "userId": "05910121350828163339"
     },
     "user_tz": -480
    },
    "id": "24ee4e87-6e5e-4c68-a231-35d5b5404237",
    "outputId": "90492bf1-0640-48ae-b3b4-2047c981e4f3"
   },
   "outputs": [
    {
     "data": {
      "text/plain": [
       "flat_type\n",
       "2 ROOM                3617\n",
       "3 ROOM               63349\n",
       "4 ROOM              106664\n",
       "5 ROOM               63522\n",
       "EXECUTIVE            19878\n",
       "MULTI-GENERATION       102\n",
       "Name: count, dtype: int64"
      ]
     },
     "execution_count": 16,
     "metadata": {},
     "output_type": "execute_result"
    }
   ],
   "source": [
    "resale_df_with_coord.groupby('flat_type')['flat_type'].value_counts()"
   ]
  },
  {
   "cell_type": "code",
   "execution_count": 17,
   "id": "c3ffda7d-26bf-4d9e-93b0-65c9655e9a80",
   "metadata": {
    "executionInfo": {
     "elapsed": 2,
     "status": "ok",
     "timestamp": 1712678941032,
     "user": {
      "displayName": "Nguyen Ngoc Yen Nga",
      "userId": "05910121350828163339"
     },
     "user_tz": -480
    },
    "id": "c3ffda7d-26bf-4d9e-93b0-65c9655e9a80"
   },
   "outputs": [],
   "source": [
    "resale_df_with_coord = resale_df_with_coord[~resale_df_with_coord['flat_type'].isin(['MULTI-GENERATION', '1 ROOM'])]"
   ]
  },
  {
   "cell_type": "code",
   "execution_count": 18,
   "id": "6db1f632-fa9f-405c-8c59-cd48d9c84358",
   "metadata": {
    "colab": {
     "base_uri": "https://localhost:8080/"
    },
    "executionInfo": {
     "elapsed": 3,
     "status": "ok",
     "timestamp": 1712678941524,
     "user": {
      "displayName": "Nguyen Ngoc Yen Nga",
      "userId": "05910121350828163339"
     },
     "user_tz": -480
    },
    "id": "6db1f632-fa9f-405c-8c59-cd48d9c84358",
    "outputId": "aba02981-34f0-4bc7-ce1b-6d65b2c28e8c"
   },
   "outputs": [
    {
     "data": {
      "text/plain": [
       "flat_type\n",
       "2 ROOM         3617\n",
       "3 ROOM        63349\n",
       "4 ROOM       106664\n",
       "5 ROOM        63522\n",
       "EXECUTIVE     19878\n",
       "Name: count, dtype: int64"
      ]
     },
     "execution_count": 18,
     "metadata": {},
     "output_type": "execute_result"
    }
   ],
   "source": [
    "resale_df_with_coord.groupby('flat_type')['flat_type'].value_counts()"
   ]
  },
  {
   "cell_type": "code",
   "execution_count": 19,
   "id": "61952e00-4a03-4785-8184-d63e56994287",
   "metadata": {
    "executionInfo": {
     "elapsed": 2,
     "status": "ok",
     "timestamp": 1712678941525,
     "user": {
      "displayName": "Nguyen Ngoc Yen Nga",
      "userId": "05910121350828163339"
     },
     "user_tz": -480
    },
    "id": "61952e00-4a03-4785-8184-d63e56994287"
   },
   "outputs": [],
   "source": [
    "from sklearn.preprocessing import OrdinalEncoder\n",
    "\n",
    "categories = [sorted(resale_df_with_coord['flat_type'].unique())]\n",
    "ordinal_encoder = OrdinalEncoder(categories=categories, dtype='int')\n",
    "dup = resale_df_with_coord.copy()\n",
    "ordinal_encoder.fit(dup[['flat_type']])\n",
    "\n",
    "dup[['flat_type']] = ordinal_encoder.transform(dup[['flat_type']]) + 1\n",
    "resale_df_with_coord = pd.DataFrame(dup, columns=dup.columns)"
   ]
  },
  {
   "cell_type": "code",
   "execution_count": 20,
   "id": "6a4cd1ef-3067-411d-a069-f7c236db10b9",
   "metadata": {
    "colab": {
     "base_uri": "https://localhost:8080/",
     "height": 201
    },
    "executionInfo": {
     "elapsed": 2,
     "status": "ok",
     "timestamp": 1712678942693,
     "user": {
      "displayName": "Nguyen Ngoc Yen Nga",
      "userId": "05910121350828163339"
     },
     "user_tz": -480
    },
    "id": "6a4cd1ef-3067-411d-a069-f7c236db10b9",
    "outputId": "298d9c98-dcd3-44bb-c5c9-505888e0f8f5"
   },
   "outputs": [
    {
     "data": {
      "text/html": [
       "<div>\n",
       "<style scoped>\n",
       "    .dataframe tbody tr th:only-of-type {\n",
       "        vertical-align: middle;\n",
       "    }\n",
       "\n",
       "    .dataframe tbody tr th {\n",
       "        vertical-align: top;\n",
       "    }\n",
       "\n",
       "    .dataframe thead th {\n",
       "        text-align: right;\n",
       "    }\n",
       "</style>\n",
       "<table border=\"1\" class=\"dataframe\">\n",
       "  <thead>\n",
       "    <tr style=\"text-align: right;\">\n",
       "      <th></th>\n",
       "      <th>month</th>\n",
       "      <th>town</th>\n",
       "      <th>flat_type</th>\n",
       "      <th>block</th>\n",
       "      <th>street_name</th>\n",
       "      <th>storey_range</th>\n",
       "      <th>floor_area_sqm</th>\n",
       "      <th>flat_model</th>\n",
       "      <th>lease_commence_date</th>\n",
       "      <th>resale_price</th>\n",
       "      <th>year</th>\n",
       "      <th>remaining_lease</th>\n",
       "      <th>region</th>\n",
       "      <th>mrt_dist</th>\n",
       "      <th>school_dist</th>\n",
       "      <th>mall_dist</th>\n",
       "      <th>upcoming_mrt_dist</th>\n",
       "      <th>cpi</th>\n",
       "    </tr>\n",
       "  </thead>\n",
       "  <tbody>\n",
       "    <tr>\n",
       "      <th>0</th>\n",
       "      <td>1</td>\n",
       "      <td>ANG MO KIO</td>\n",
       "      <td>1</td>\n",
       "      <td>406</td>\n",
       "      <td>ANG MO KIO AVE 10</td>\n",
       "      <td>01 TO 03</td>\n",
       "      <td>44.0</td>\n",
       "      <td>Improved</td>\n",
       "      <td>1979</td>\n",
       "      <td>272090.176046</td>\n",
       "      <td>2012</td>\n",
       "      <td>66</td>\n",
       "      <td>North East</td>\n",
       "      <td>0.004521</td>\n",
       "      <td>0.001972</td>\n",
       "      <td>0.003881</td>\n",
       "      <td>0.019054</td>\n",
       "      <td>94.748</td>\n",
       "    </tr>\n",
       "    <tr>\n",
       "      <th>1</th>\n",
       "      <td>1</td>\n",
       "      <td>ANG MO KIO</td>\n",
       "      <td>1</td>\n",
       "      <td>314</td>\n",
       "      <td>ANG MO KIO AVE 3</td>\n",
       "      <td>07 TO 09</td>\n",
       "      <td>44.0</td>\n",
       "      <td>Improved</td>\n",
       "      <td>1978</td>\n",
       "      <td>277578.418542</td>\n",
       "      <td>2012</td>\n",
       "      <td>65</td>\n",
       "      <td>North East</td>\n",
       "      <td>0.003707</td>\n",
       "      <td>0.000663</td>\n",
       "      <td>0.003266</td>\n",
       "      <td>0.019245</td>\n",
       "      <td>94.748</td>\n",
       "    </tr>\n",
       "  </tbody>\n",
       "</table>\n",
       "</div>"
      ],
      "text/plain": [
       "   month        town  flat_type block        street_name storey_range  \\\n",
       "0      1  ANG MO KIO          1   406  ANG MO KIO AVE 10     01 TO 03   \n",
       "1      1  ANG MO KIO          1   314   ANG MO KIO AVE 3     07 TO 09   \n",
       "\n",
       "   floor_area_sqm flat_model  lease_commence_date   resale_price  year  \\\n",
       "0            44.0   Improved                 1979  272090.176046  2012   \n",
       "1            44.0   Improved                 1978  277578.418542  2012   \n",
       "\n",
       "   remaining_lease      region  mrt_dist  school_dist  mall_dist  \\\n",
       "0               66  North East  0.004521     0.001972   0.003881   \n",
       "1               65  North East  0.003707     0.000663   0.003266   \n",
       "\n",
       "   upcoming_mrt_dist     cpi  \n",
       "0           0.019054  94.748  \n",
       "1           0.019245  94.748  "
      ]
     },
     "execution_count": 20,
     "metadata": {},
     "output_type": "execute_result"
    }
   ],
   "source": [
    "resale_df_with_coord.head(2)"
   ]
  },
  {
   "cell_type": "markdown",
   "id": "cbbeb156-b78f-4dcb-a73a-9f6492da83c2",
   "metadata": {
    "id": "cbbeb156-b78f-4dcb-a73a-9f6492da83c2"
   },
   "source": [
    "#### 4.1.2.Storey Range Encoding"
   ]
  },
  {
   "cell_type": "code",
   "execution_count": 21,
   "id": "e118b562-1661-4f18-a34c-bcd7facc1b80",
   "metadata": {
    "colab": {
     "base_uri": "https://localhost:8080/",
     "height": 201
    },
    "executionInfo": {
     "elapsed": 753,
     "status": "ok",
     "timestamp": 1712678944825,
     "user": {
      "displayName": "Nguyen Ngoc Yen Nga",
      "userId": "05910121350828163339"
     },
     "user_tz": -480
    },
    "id": "e118b562-1661-4f18-a34c-bcd7facc1b80",
    "outputId": "159cc845-53a8-4220-e1f4-e15e2f113e6f"
   },
   "outputs": [
    {
     "data": {
      "text/html": [
       "<div>\n",
       "<style scoped>\n",
       "    .dataframe tbody tr th:only-of-type {\n",
       "        vertical-align: middle;\n",
       "    }\n",
       "\n",
       "    .dataframe tbody tr th {\n",
       "        vertical-align: top;\n",
       "    }\n",
       "\n",
       "    .dataframe thead th {\n",
       "        text-align: right;\n",
       "    }\n",
       "</style>\n",
       "<table border=\"1\" class=\"dataframe\">\n",
       "  <thead>\n",
       "    <tr style=\"text-align: right;\">\n",
       "      <th></th>\n",
       "      <th>month</th>\n",
       "      <th>town</th>\n",
       "      <th>flat_type</th>\n",
       "      <th>block</th>\n",
       "      <th>street_name</th>\n",
       "      <th>storey_range</th>\n",
       "      <th>floor_area_sqm</th>\n",
       "      <th>flat_model</th>\n",
       "      <th>lease_commence_date</th>\n",
       "      <th>resale_price</th>\n",
       "      <th>year</th>\n",
       "      <th>remaining_lease</th>\n",
       "      <th>region</th>\n",
       "      <th>mrt_dist</th>\n",
       "      <th>school_dist</th>\n",
       "      <th>mall_dist</th>\n",
       "      <th>upcoming_mrt_dist</th>\n",
       "      <th>cpi</th>\n",
       "    </tr>\n",
       "  </thead>\n",
       "  <tbody>\n",
       "    <tr>\n",
       "      <th>0</th>\n",
       "      <td>1</td>\n",
       "      <td>ANG MO KIO</td>\n",
       "      <td>1</td>\n",
       "      <td>406</td>\n",
       "      <td>ANG MO KIO AVE 10</td>\n",
       "      <td>2</td>\n",
       "      <td>44.0</td>\n",
       "      <td>Improved</td>\n",
       "      <td>1979</td>\n",
       "      <td>272090.176046</td>\n",
       "      <td>2012</td>\n",
       "      <td>66</td>\n",
       "      <td>North East</td>\n",
       "      <td>0.004521</td>\n",
       "      <td>0.001972</td>\n",
       "      <td>0.003881</td>\n",
       "      <td>0.019054</td>\n",
       "      <td>94.748</td>\n",
       "    </tr>\n",
       "    <tr>\n",
       "      <th>1</th>\n",
       "      <td>1</td>\n",
       "      <td>ANG MO KIO</td>\n",
       "      <td>1</td>\n",
       "      <td>314</td>\n",
       "      <td>ANG MO KIO AVE 3</td>\n",
       "      <td>8</td>\n",
       "      <td>44.0</td>\n",
       "      <td>Improved</td>\n",
       "      <td>1978</td>\n",
       "      <td>277578.418542</td>\n",
       "      <td>2012</td>\n",
       "      <td>65</td>\n",
       "      <td>North East</td>\n",
       "      <td>0.003707</td>\n",
       "      <td>0.000663</td>\n",
       "      <td>0.003266</td>\n",
       "      <td>0.019245</td>\n",
       "      <td>94.748</td>\n",
       "    </tr>\n",
       "  </tbody>\n",
       "</table>\n",
       "</div>"
      ],
      "text/plain": [
       "   month        town  flat_type block        street_name  storey_range  \\\n",
       "0      1  ANG MO KIO          1   406  ANG MO KIO AVE 10             2   \n",
       "1      1  ANG MO KIO          1   314   ANG MO KIO AVE 3             8   \n",
       "\n",
       "   floor_area_sqm flat_model  lease_commence_date   resale_price  year  \\\n",
       "0            44.0   Improved                 1979  272090.176046  2012   \n",
       "1            44.0   Improved                 1978  277578.418542  2012   \n",
       "\n",
       "   remaining_lease      region  mrt_dist  school_dist  mall_dist  \\\n",
       "0               66  North East  0.004521     0.001972   0.003881   \n",
       "1               65  North East  0.003707     0.000663   0.003266   \n",
       "\n",
       "   upcoming_mrt_dist     cpi  \n",
       "0           0.019054  94.748  \n",
       "1           0.019245  94.748  "
      ]
     },
     "execution_count": 21,
     "metadata": {},
     "output_type": "execute_result"
    }
   ],
   "source": [
    "resale_df_with_coord['storey_range'] = [sum([int(y) for y in x.split(' TO ')])//2 for x in resale_df_with_coord['storey_range']]\n",
    "resale_df_with_coord.head(2)"
   ]
  },
  {
   "cell_type": "markdown",
   "id": "d03a3670-e4b4-4508-a2e2-2d38cd9bb591",
   "metadata": {
    "id": "d03a3670-e4b4-4508-a2e2-2d38cd9bb591"
   },
   "source": [
    "#### 4.1.3.Flat Model Encoding"
   ]
  },
  {
   "cell_type": "code",
   "execution_count": 22,
   "id": "184ce7d6-f3fe-43b9-be11-9380d075b5cf",
   "metadata": {
    "colab": {
     "base_uri": "https://localhost:8080/"
    },
    "executionInfo": {
     "elapsed": 2,
     "status": "ok",
     "timestamp": 1712678947475,
     "user": {
      "displayName": "Nguyen Ngoc Yen Nga",
      "userId": "05910121350828163339"
     },
     "user_tz": -480
    },
    "id": "184ce7d6-f3fe-43b9-be11-9380d075b5cf",
    "outputId": "c71ed008-85c7-46c0-f8c6-a22fe842fbbc"
   },
   "outputs": [
    {
     "data": {
      "text/plain": [
       "array(['Improved', 'New Generation', 'Model A', 'Standard', 'Apartment',\n",
       "       'Premium Apartment', 'Simplified', 'Model A2', 'Maisonette',\n",
       "       'Model A-Maisonette', 'Adjoined flat', 'Terrace',\n",
       "       'Improved-Maisonette', 'Premium Maisonette', 'DBSS',\n",
       "       'Premium Apartment Loft', '2-room', '3Gen'], dtype=object)"
      ]
     },
     "execution_count": 22,
     "metadata": {},
     "output_type": "execute_result"
    }
   ],
   "source": [
    "resale_df_with_coord['flat_model'].unique()"
   ]
  },
  {
   "cell_type": "code",
   "execution_count": 23,
   "id": "26ec1e07-117b-4062-bd33-70ea7a7b0578",
   "metadata": {
    "executionInfo": {
     "elapsed": 2,
     "status": "ok",
     "timestamp": 1712678949278,
     "user": {
      "displayName": "Nguyen Ngoc Yen Nga",
      "userId": "05910121350828163339"
     },
     "user_tz": -480
    },
    "id": "26ec1e07-117b-4062-bd33-70ea7a7b0578"
   },
   "outputs": [],
   "source": [
    "replace_values = {'Executive Maisonette':'Maisonette', 'Terrace':'Special', 'Adjoined flat':'Special',\n",
    "                    'Type S1S2':'Special', 'DBSS':'Special', 'Model A2':'Model A', 'Premium Apartment':'Apartment', 'Improved':'Standard', 'Simplified':'Model A', '2-room':'Standard'}\n",
    "resale_df_with_coord = resale_df_with_coord.replace({'flat_model': replace_values})\n",
    "# resale_df_with_coord = resale_df_with_coord.replace({'flat_model': replace_values})"
   ]
  },
  {
   "cell_type": "code",
   "execution_count": 24,
   "id": "7224a6b9-ba6f-49fe-b636-c37aefc6295d",
   "metadata": {
    "colab": {
     "base_uri": "https://localhost:8080/",
     "height": 265
    },
    "executionInfo": {
     "elapsed": 4,
     "status": "ok",
     "timestamp": 1712678949916,
     "user": {
      "displayName": "Nguyen Ngoc Yen Nga",
      "userId": "05910121350828163339"
     },
     "user_tz": -480
    },
    "id": "7224a6b9-ba6f-49fe-b636-c37aefc6295d",
    "outputId": "6deb93a9-d4ed-4bfe-daa0-3c16db1a9375"
   },
   "outputs": [
    {
     "data": {
      "text/html": [
       "<div>\n",
       "<style scoped>\n",
       "    .dataframe tbody tr th:only-of-type {\n",
       "        vertical-align: middle;\n",
       "    }\n",
       "\n",
       "    .dataframe tbody tr th {\n",
       "        vertical-align: top;\n",
       "    }\n",
       "\n",
       "    .dataframe thead th {\n",
       "        text-align: right;\n",
       "    }\n",
       "</style>\n",
       "<table border=\"1\" class=\"dataframe\">\n",
       "  <thead>\n",
       "    <tr style=\"text-align: right;\">\n",
       "      <th></th>\n",
       "      <th>month</th>\n",
       "      <th>town</th>\n",
       "      <th>flat_type</th>\n",
       "      <th>block</th>\n",
       "      <th>street_name</th>\n",
       "      <th>storey_range</th>\n",
       "      <th>floor_area_sqm</th>\n",
       "      <th>lease_commence_date</th>\n",
       "      <th>resale_price</th>\n",
       "      <th>year</th>\n",
       "      <th>...</th>\n",
       "      <th>model_Apartment</th>\n",
       "      <th>model_Improved-Maisonette</th>\n",
       "      <th>model_Maisonette</th>\n",
       "      <th>model_Model A</th>\n",
       "      <th>model_Model A-Maisonette</th>\n",
       "      <th>model_New Generation</th>\n",
       "      <th>model_Premium Apartment Loft</th>\n",
       "      <th>model_Premium Maisonette</th>\n",
       "      <th>model_Special</th>\n",
       "      <th>model_Standard</th>\n",
       "    </tr>\n",
       "  </thead>\n",
       "  <tbody>\n",
       "    <tr>\n",
       "      <th>0</th>\n",
       "      <td>1</td>\n",
       "      <td>ANG MO KIO</td>\n",
       "      <td>1</td>\n",
       "      <td>406</td>\n",
       "      <td>ANG MO KIO AVE 10</td>\n",
       "      <td>2</td>\n",
       "      <td>44.0</td>\n",
       "      <td>1979</td>\n",
       "      <td>272090.176046</td>\n",
       "      <td>2012</td>\n",
       "      <td>...</td>\n",
       "      <td>0</td>\n",
       "      <td>0</td>\n",
       "      <td>0</td>\n",
       "      <td>0</td>\n",
       "      <td>0</td>\n",
       "      <td>0</td>\n",
       "      <td>0</td>\n",
       "      <td>0</td>\n",
       "      <td>0</td>\n",
       "      <td>1</td>\n",
       "    </tr>\n",
       "    <tr>\n",
       "      <th>1</th>\n",
       "      <td>1</td>\n",
       "      <td>ANG MO KIO</td>\n",
       "      <td>1</td>\n",
       "      <td>314</td>\n",
       "      <td>ANG MO KIO AVE 3</td>\n",
       "      <td>8</td>\n",
       "      <td>44.0</td>\n",
       "      <td>1978</td>\n",
       "      <td>277578.418542</td>\n",
       "      <td>2012</td>\n",
       "      <td>...</td>\n",
       "      <td>0</td>\n",
       "      <td>0</td>\n",
       "      <td>0</td>\n",
       "      <td>0</td>\n",
       "      <td>0</td>\n",
       "      <td>0</td>\n",
       "      <td>0</td>\n",
       "      <td>0</td>\n",
       "      <td>0</td>\n",
       "      <td>1</td>\n",
       "    </tr>\n",
       "  </tbody>\n",
       "</table>\n",
       "<p>2 rows × 28 columns</p>\n",
       "</div>"
      ],
      "text/plain": [
       "   month        town  flat_type block        street_name  storey_range  \\\n",
       "0      1  ANG MO KIO          1   406  ANG MO KIO AVE 10             2   \n",
       "1      1  ANG MO KIO          1   314   ANG MO KIO AVE 3             8   \n",
       "\n",
       "   floor_area_sqm  lease_commence_date   resale_price  year  ...  \\\n",
       "0            44.0                 1979  272090.176046  2012  ...   \n",
       "1            44.0                 1978  277578.418542  2012  ...   \n",
       "\n",
       "   model_Apartment model_Improved-Maisonette  model_Maisonette  model_Model A  \\\n",
       "0                0                         0                 0              0   \n",
       "1                0                         0                 0              0   \n",
       "\n",
       "   model_Model A-Maisonette  model_New Generation  \\\n",
       "0                         0                     0   \n",
       "1                         0                     0   \n",
       "\n",
       "   model_Premium Apartment Loft  model_Premium Maisonette  model_Special  \\\n",
       "0                             0                         0              0   \n",
       "1                             0                         0              0   \n",
       "\n",
       "   model_Standard  \n",
       "0               1  \n",
       "1               1  \n",
       "\n",
       "[2 rows x 28 columns]"
      ]
     },
     "execution_count": 24,
     "metadata": {},
     "output_type": "execute_result"
    }
   ],
   "source": [
    "resale_df_with_coord = pd.get_dummies(resale_df_with_coord, columns=['flat_model'], prefix=['model'], dtype='int')\n",
    "resale_df_with_coord.head(2)"
   ]
  },
  {
   "cell_type": "markdown",
   "id": "131cef54-5a72-4c54-ad33-3792774f2ea7",
   "metadata": {
    "id": "131cef54-5a72-4c54-ad33-3792774f2ea7"
   },
   "source": [
    "#### 4.1.4.Region Encoding"
   ]
  },
  {
   "cell_type": "code",
   "execution_count": 25,
   "id": "ebe8cf0a-015c-4a79-a458-de068d284315",
   "metadata": {
    "executionInfo": {
     "elapsed": 567,
     "status": "ok",
     "timestamp": 1712678951145,
     "user": {
      "displayName": "Nguyen Ngoc Yen Nga",
      "userId": "05910121350828163339"
     },
     "user_tz": -480
    },
    "id": "ebe8cf0a-015c-4a79-a458-de068d284315"
   },
   "outputs": [],
   "source": [
    "resale_df_with_coord = pd.get_dummies(resale_df_with_coord, columns=['region'], prefix=['region'], dtype='int')"
   ]
  },
  {
   "cell_type": "markdown",
   "id": "eb81Nc-RNJ6T",
   "metadata": {
    "id": "eb81Nc-RNJ6T"
   },
   "source": [
    "#### 4.1.5.Town Encoding"
   ]
  },
  {
   "cell_type": "code",
   "execution_count": 26,
   "id": "m7ujKaLgQPZs",
   "metadata": {
    "colab": {
     "base_uri": "https://localhost:8080/"
    },
    "executionInfo": {
     "elapsed": 2,
     "status": "ok",
     "timestamp": 1712678953615,
     "user": {
      "displayName": "Nguyen Ngoc Yen Nga",
      "userId": "05910121350828163339"
     },
     "user_tz": -480
    },
    "id": "m7ujKaLgQPZs",
    "outputId": "3e51b411-f15c-4eb2-b3ed-31817a49f3e4"
   },
   "outputs": [
    {
     "name": "stdout",
     "output_type": "stream",
     "text": [
      "town\n",
      "SENGKANG           20074\n",
      "WOODLANDS          19267\n",
      "JURONG WEST        18562\n",
      "TAMPINES           17930\n",
      "YISHUN             17307\n",
      "PUNGGOL            15743\n",
      "BEDOK              14842\n",
      "HOUGANG            13022\n",
      "CHOA CHU KANG      11646\n",
      "ANG MO KIO         11611\n",
      "BUKIT BATOK         9850\n",
      "BUKIT MERAH         9754\n",
      "BUKIT PANJANG       9554\n",
      "TOA PAYOH           8271\n",
      "PASIR RIS           8095\n",
      "KALLANG/WHAMPOA     7092\n",
      "QUEENSTOWN          7066\n",
      "SEMBAWANG           6938\n",
      "GEYLANG             6721\n",
      "CLEMENTI            6139\n",
      "JURONG EAST         5454\n",
      "SERANGOON           5036\n",
      "BISHAN              4722\n",
      "MARINE PARADE       1709\n",
      "BUKIT TIMAH          625\n",
      "Name: count, dtype: int64\n"
     ]
    }
   ],
   "source": [
    "print(resale_df_with_coord['town'].value_counts())"
   ]
  },
  {
   "cell_type": "code",
   "execution_count": 27,
   "id": "Aqn_D2z-QTpe",
   "metadata": {
    "executionInfo": {
     "elapsed": 724,
     "status": "ok",
     "timestamp": 1712678955045,
     "user": {
      "displayName": "Nguyen Ngoc Yen Nga",
      "userId": "05910121350828163339"
     },
     "user_tz": -480
    },
    "id": "Aqn_D2z-QTpe"
   },
   "outputs": [],
   "source": [
    "resale_df_with_coord = pd.get_dummies(resale_df_with_coord, columns=['town'], prefix=['town'], dtype='int')"
   ]
  },
  {
   "cell_type": "code",
   "execution_count": 28,
   "id": "UNK5UEWqNTK4",
   "metadata": {
    "colab": {
     "base_uri": "https://localhost:8080/",
     "height": 213
    },
    "executionInfo": {
     "elapsed": 3,
     "status": "ok",
     "timestamp": 1712678956528,
     "user": {
      "displayName": "Nguyen Ngoc Yen Nga",
      "userId": "05910121350828163339"
     },
     "user_tz": -480
    },
    "id": "UNK5UEWqNTK4",
    "outputId": "a39f2204-d55b-4f73-80a8-376a98525a6f"
   },
   "outputs": [
    {
     "data": {
      "text/html": [
       "<div>\n",
       "<style scoped>\n",
       "    .dataframe tbody tr th:only-of-type {\n",
       "        vertical-align: middle;\n",
       "    }\n",
       "\n",
       "    .dataframe tbody tr th {\n",
       "        vertical-align: top;\n",
       "    }\n",
       "\n",
       "    .dataframe thead th {\n",
       "        text-align: right;\n",
       "    }\n",
       "</style>\n",
       "<table border=\"1\" class=\"dataframe\">\n",
       "  <thead>\n",
       "    <tr style=\"text-align: right;\">\n",
       "      <th></th>\n",
       "      <th>month</th>\n",
       "      <th>flat_type</th>\n",
       "      <th>block</th>\n",
       "      <th>street_name</th>\n",
       "      <th>storey_range</th>\n",
       "      <th>floor_area_sqm</th>\n",
       "      <th>lease_commence_date</th>\n",
       "      <th>resale_price</th>\n",
       "      <th>year</th>\n",
       "      <th>remaining_lease</th>\n",
       "      <th>...</th>\n",
       "      <th>town_PASIR RIS</th>\n",
       "      <th>town_PUNGGOL</th>\n",
       "      <th>town_QUEENSTOWN</th>\n",
       "      <th>town_SEMBAWANG</th>\n",
       "      <th>town_SENGKANG</th>\n",
       "      <th>town_SERANGOON</th>\n",
       "      <th>town_TAMPINES</th>\n",
       "      <th>town_TOA PAYOH</th>\n",
       "      <th>town_WOODLANDS</th>\n",
       "      <th>town_YISHUN</th>\n",
       "    </tr>\n",
       "  </thead>\n",
       "  <tbody>\n",
       "    <tr>\n",
       "      <th>0</th>\n",
       "      <td>1</td>\n",
       "      <td>1</td>\n",
       "      <td>406</td>\n",
       "      <td>ANG MO KIO AVE 10</td>\n",
       "      <td>2</td>\n",
       "      <td>44.0</td>\n",
       "      <td>1979</td>\n",
       "      <td>272090.176046</td>\n",
       "      <td>2012</td>\n",
       "      <td>66</td>\n",
       "      <td>...</td>\n",
       "      <td>0</td>\n",
       "      <td>0</td>\n",
       "      <td>0</td>\n",
       "      <td>0</td>\n",
       "      <td>0</td>\n",
       "      <td>0</td>\n",
       "      <td>0</td>\n",
       "      <td>0</td>\n",
       "      <td>0</td>\n",
       "      <td>0</td>\n",
       "    </tr>\n",
       "    <tr>\n",
       "      <th>1</th>\n",
       "      <td>1</td>\n",
       "      <td>1</td>\n",
       "      <td>314</td>\n",
       "      <td>ANG MO KIO AVE 3</td>\n",
       "      <td>8</td>\n",
       "      <td>44.0</td>\n",
       "      <td>1978</td>\n",
       "      <td>277578.418542</td>\n",
       "      <td>2012</td>\n",
       "      <td>65</td>\n",
       "      <td>...</td>\n",
       "      <td>0</td>\n",
       "      <td>0</td>\n",
       "      <td>0</td>\n",
       "      <td>0</td>\n",
       "      <td>0</td>\n",
       "      <td>0</td>\n",
       "      <td>0</td>\n",
       "      <td>0</td>\n",
       "      <td>0</td>\n",
       "      <td>0</td>\n",
       "    </tr>\n",
       "  </tbody>\n",
       "</table>\n",
       "<p>2 rows × 56 columns</p>\n",
       "</div>"
      ],
      "text/plain": [
       "   month  flat_type block        street_name  storey_range  floor_area_sqm  \\\n",
       "0      1          1   406  ANG MO KIO AVE 10             2            44.0   \n",
       "1      1          1   314   ANG MO KIO AVE 3             8            44.0   \n",
       "\n",
       "   lease_commence_date   resale_price  year  remaining_lease  ...  \\\n",
       "0                 1979  272090.176046  2012               66  ...   \n",
       "1                 1978  277578.418542  2012               65  ...   \n",
       "\n",
       "   town_PASIR RIS  town_PUNGGOL  town_QUEENSTOWN  town_SEMBAWANG  \\\n",
       "0               0             0                0               0   \n",
       "1               0             0                0               0   \n",
       "\n",
       "   town_SENGKANG  town_SERANGOON  town_TAMPINES  town_TOA PAYOH  \\\n",
       "0              0               0              0               0   \n",
       "1              0               0              0               0   \n",
       "\n",
       "   town_WOODLANDS  town_YISHUN  \n",
       "0               0            0  \n",
       "1               0            0  \n",
       "\n",
       "[2 rows x 56 columns]"
      ]
     },
     "execution_count": 28,
     "metadata": {},
     "output_type": "execute_result"
    }
   ],
   "source": [
    "resale_df_with_coord.head(2)"
   ]
  },
  {
   "cell_type": "markdown",
   "id": "a9fc974c-9488-4c18-aa58-2b56f135b687",
   "metadata": {
    "id": "a9fc974c-9488-4c18-aa58-2b56f135b687"
   },
   "source": [
    "### 4.2.Cyclical Feature Encoding (Month)"
   ]
  },
  {
   "cell_type": "code",
   "execution_count": 29,
   "id": "98350a49-a9ec-4ee8-8223-69f4b01dc7e1",
   "metadata": {
    "colab": {
     "base_uri": "https://localhost:8080/",
     "height": 314
    },
    "executionInfo": {
     "elapsed": 2,
     "status": "ok",
     "timestamp": 1712678952208,
     "user": {
      "displayName": "Nguyen Ngoc Yen Nga",
      "userId": "05910121350828163339"
     },
     "user_tz": -480
    },
    "id": "98350a49-a9ec-4ee8-8223-69f4b01dc7e1",
    "outputId": "fe303b05-03b0-41fc-9900-dedb4c934c53"
   },
   "outputs": [
    {
     "data": {
      "text/html": [
       "<div>\n",
       "<style scoped>\n",
       "    .dataframe tbody tr th:only-of-type {\n",
       "        vertical-align: middle;\n",
       "    }\n",
       "\n",
       "    .dataframe tbody tr th {\n",
       "        vertical-align: top;\n",
       "    }\n",
       "\n",
       "    .dataframe thead th {\n",
       "        text-align: right;\n",
       "    }\n",
       "</style>\n",
       "<table border=\"1\" class=\"dataframe\">\n",
       "  <thead>\n",
       "    <tr style=\"text-align: right;\">\n",
       "      <th></th>\n",
       "      <th>flat_type</th>\n",
       "      <th>block</th>\n",
       "      <th>street_name</th>\n",
       "      <th>storey_range</th>\n",
       "      <th>floor_area_sqm</th>\n",
       "      <th>lease_commence_date</th>\n",
       "      <th>resale_price</th>\n",
       "      <th>year</th>\n",
       "      <th>remaining_lease</th>\n",
       "      <th>mrt_dist</th>\n",
       "      <th>...</th>\n",
       "      <th>town_QUEENSTOWN</th>\n",
       "      <th>town_SEMBAWANG</th>\n",
       "      <th>town_SENGKANG</th>\n",
       "      <th>town_SERANGOON</th>\n",
       "      <th>town_TAMPINES</th>\n",
       "      <th>town_TOA PAYOH</th>\n",
       "      <th>town_WOODLANDS</th>\n",
       "      <th>town_YISHUN</th>\n",
       "      <th>month_sin</th>\n",
       "      <th>month_cos</th>\n",
       "    </tr>\n",
       "  </thead>\n",
       "  <tbody>\n",
       "    <tr>\n",
       "      <th>0</th>\n",
       "      <td>1</td>\n",
       "      <td>406</td>\n",
       "      <td>ANG MO KIO AVE 10</td>\n",
       "      <td>2</td>\n",
       "      <td>44.0</td>\n",
       "      <td>1979</td>\n",
       "      <td>272090.176046</td>\n",
       "      <td>2012</td>\n",
       "      <td>66</td>\n",
       "      <td>0.004521</td>\n",
       "      <td>...</td>\n",
       "      <td>0</td>\n",
       "      <td>0</td>\n",
       "      <td>0</td>\n",
       "      <td>0</td>\n",
       "      <td>0</td>\n",
       "      <td>0</td>\n",
       "      <td>0</td>\n",
       "      <td>0</td>\n",
       "      <td>0.0</td>\n",
       "      <td>1.0</td>\n",
       "    </tr>\n",
       "    <tr>\n",
       "      <th>1</th>\n",
       "      <td>1</td>\n",
       "      <td>314</td>\n",
       "      <td>ANG MO KIO AVE 3</td>\n",
       "      <td>8</td>\n",
       "      <td>44.0</td>\n",
       "      <td>1978</td>\n",
       "      <td>277578.418542</td>\n",
       "      <td>2012</td>\n",
       "      <td>65</td>\n",
       "      <td>0.003707</td>\n",
       "      <td>...</td>\n",
       "      <td>0</td>\n",
       "      <td>0</td>\n",
       "      <td>0</td>\n",
       "      <td>0</td>\n",
       "      <td>0</td>\n",
       "      <td>0</td>\n",
       "      <td>0</td>\n",
       "      <td>0</td>\n",
       "      <td>0.0</td>\n",
       "      <td>1.0</td>\n",
       "    </tr>\n",
       "    <tr>\n",
       "      <th>2</th>\n",
       "      <td>1</td>\n",
       "      <td>314</td>\n",
       "      <td>ANG MO KIO AVE 3</td>\n",
       "      <td>11</td>\n",
       "      <td>44.0</td>\n",
       "      <td>1978</td>\n",
       "      <td>290243.593532</td>\n",
       "      <td>2012</td>\n",
       "      <td>65</td>\n",
       "      <td>0.003707</td>\n",
       "      <td>...</td>\n",
       "      <td>0</td>\n",
       "      <td>0</td>\n",
       "      <td>0</td>\n",
       "      <td>0</td>\n",
       "      <td>0</td>\n",
       "      <td>0</td>\n",
       "      <td>0</td>\n",
       "      <td>0</td>\n",
       "      <td>0.0</td>\n",
       "      <td>1.0</td>\n",
       "    </tr>\n",
       "  </tbody>\n",
       "</table>\n",
       "<p>3 rows × 57 columns</p>\n",
       "</div>"
      ],
      "text/plain": [
       "   flat_type block        street_name  storey_range  floor_area_sqm  \\\n",
       "0          1   406  ANG MO KIO AVE 10             2            44.0   \n",
       "1          1   314   ANG MO KIO AVE 3             8            44.0   \n",
       "2          1   314   ANG MO KIO AVE 3            11            44.0   \n",
       "\n",
       "   lease_commence_date   resale_price  year  remaining_lease  mrt_dist  ...  \\\n",
       "0                 1979  272090.176046  2012               66  0.004521  ...   \n",
       "1                 1978  277578.418542  2012               65  0.003707  ...   \n",
       "2                 1978  290243.593532  2012               65  0.003707  ...   \n",
       "\n",
       "   town_QUEENSTOWN  town_SEMBAWANG  town_SENGKANG  town_SERANGOON  \\\n",
       "0                0               0              0               0   \n",
       "1                0               0              0               0   \n",
       "2                0               0              0               0   \n",
       "\n",
       "   town_TAMPINES  town_TOA PAYOH  town_WOODLANDS  town_YISHUN  month_sin  \\\n",
       "0              0               0               0            0        0.0   \n",
       "1              0               0               0            0        0.0   \n",
       "2              0               0               0            0        0.0   \n",
       "\n",
       "   month_cos  \n",
       "0        1.0  \n",
       "1        1.0  \n",
       "2        1.0  \n",
       "\n",
       "[3 rows x 57 columns]"
      ]
     },
     "execution_count": 29,
     "metadata": {},
     "output_type": "execute_result"
    }
   ],
   "source": [
    "resale_df_with_coord['month_sin'] = np.sin((resale_df_with_coord.month-1)*(2.*np.pi/12))\n",
    "resale_df_with_coord['month_cos'] = np.cos((resale_df_with_coord.month-1)*(2.*np.pi/12))\n",
    "resale_df_with_coord.drop(columns=['month'], inplace=True)\n",
    "resale_df_with_coord.head(3)"
   ]
  },
  {
   "cell_type": "markdown",
   "id": "b8dfe366-3780-4de1-af61-9c7f9179f756",
   "metadata": {
    "id": "b8dfe366-3780-4de1-af61-9c7f9179f756"
   },
   "source": [
    "## 5.Model Development and Evaluation"
   ]
  },
  {
   "cell_type": "markdown",
   "id": "dFnxnmyhFSRK",
   "metadata": {
    "id": "dFnxnmyhFSRK"
   },
   "source": [
    "### 5.1.Initial Model Implementation and Analysis"
   ]
  },
  {
   "cell_type": "code",
   "execution_count": 30,
   "id": "7eae884e-95af-49c4-bbcf-8bb3c353ee03",
   "metadata": {
    "colab": {
     "base_uri": "https://localhost:8080/",
     "height": 582
    },
    "executionInfo": {
     "elapsed": 821,
     "status": "ok",
     "timestamp": 1712678967508,
     "user": {
      "displayName": "Nguyen Ngoc Yen Nga",
      "userId": "05910121350828163339"
     },
     "user_tz": -480
    },
    "id": "7eae884e-95af-49c4-bbcf-8bb3c353ee03",
    "outputId": "d10a8172-72a1-4f48-94d9-a7fc6d9da2b3"
   },
   "outputs": [
    {
     "data": {
      "text/html": [
       "<div>\n",
       "<style scoped>\n",
       "    .dataframe tbody tr th:only-of-type {\n",
       "        vertical-align: middle;\n",
       "    }\n",
       "\n",
       "    .dataframe tbody tr th {\n",
       "        vertical-align: top;\n",
       "    }\n",
       "\n",
       "    .dataframe thead th {\n",
       "        text-align: right;\n",
       "    }\n",
       "</style>\n",
       "<table border=\"1\" class=\"dataframe\">\n",
       "  <thead>\n",
       "    <tr style=\"text-align: right;\">\n",
       "      <th></th>\n",
       "      <th>flat_type</th>\n",
       "      <th>block</th>\n",
       "      <th>street_name</th>\n",
       "      <th>storey_range</th>\n",
       "      <th>floor_area_sqm</th>\n",
       "      <th>lease_commence_date</th>\n",
       "      <th>resale_price</th>\n",
       "      <th>year</th>\n",
       "      <th>remaining_lease</th>\n",
       "      <th>mrt_dist</th>\n",
       "      <th>...</th>\n",
       "      <th>town_QUEENSTOWN</th>\n",
       "      <th>town_SEMBAWANG</th>\n",
       "      <th>town_SENGKANG</th>\n",
       "      <th>town_SERANGOON</th>\n",
       "      <th>town_TAMPINES</th>\n",
       "      <th>town_TOA PAYOH</th>\n",
       "      <th>town_WOODLANDS</th>\n",
       "      <th>town_YISHUN</th>\n",
       "      <th>month_sin</th>\n",
       "      <th>month_cos</th>\n",
       "    </tr>\n",
       "  </thead>\n",
       "  <tbody>\n",
       "    <tr>\n",
       "      <th>0</th>\n",
       "      <td>1</td>\n",
       "      <td>406</td>\n",
       "      <td>ANG MO KIO AVE 10</td>\n",
       "      <td>2</td>\n",
       "      <td>44.0</td>\n",
       "      <td>1979</td>\n",
       "      <td>272090.176046</td>\n",
       "      <td>2012</td>\n",
       "      <td>66</td>\n",
       "      <td>0.004521</td>\n",
       "      <td>...</td>\n",
       "      <td>0</td>\n",
       "      <td>0</td>\n",
       "      <td>0</td>\n",
       "      <td>0</td>\n",
       "      <td>0</td>\n",
       "      <td>0</td>\n",
       "      <td>0</td>\n",
       "      <td>0</td>\n",
       "      <td>0.0</td>\n",
       "      <td>1.000000</td>\n",
       "    </tr>\n",
       "    <tr>\n",
       "      <th>1</th>\n",
       "      <td>1</td>\n",
       "      <td>314</td>\n",
       "      <td>ANG MO KIO AVE 3</td>\n",
       "      <td>8</td>\n",
       "      <td>44.0</td>\n",
       "      <td>1978</td>\n",
       "      <td>277578.418542</td>\n",
       "      <td>2012</td>\n",
       "      <td>65</td>\n",
       "      <td>0.003707</td>\n",
       "      <td>...</td>\n",
       "      <td>0</td>\n",
       "      <td>0</td>\n",
       "      <td>0</td>\n",
       "      <td>0</td>\n",
       "      <td>0</td>\n",
       "      <td>0</td>\n",
       "      <td>0</td>\n",
       "      <td>0</td>\n",
       "      <td>0.0</td>\n",
       "      <td>1.000000</td>\n",
       "    </tr>\n",
       "    <tr>\n",
       "      <th>2</th>\n",
       "      <td>1</td>\n",
       "      <td>314</td>\n",
       "      <td>ANG MO KIO AVE 3</td>\n",
       "      <td>11</td>\n",
       "      <td>44.0</td>\n",
       "      <td>1978</td>\n",
       "      <td>290243.593532</td>\n",
       "      <td>2012</td>\n",
       "      <td>65</td>\n",
       "      <td>0.003707</td>\n",
       "      <td>...</td>\n",
       "      <td>0</td>\n",
       "      <td>0</td>\n",
       "      <td>0</td>\n",
       "      <td>0</td>\n",
       "      <td>0</td>\n",
       "      <td>0</td>\n",
       "      <td>0</td>\n",
       "      <td>0</td>\n",
       "      <td>0.0</td>\n",
       "      <td>1.000000</td>\n",
       "    </tr>\n",
       "    <tr>\n",
       "      <th>3</th>\n",
       "      <td>1</td>\n",
       "      <td>170</td>\n",
       "      <td>ANG MO KIO AVE 4</td>\n",
       "      <td>2</td>\n",
       "      <td>45.0</td>\n",
       "      <td>1986</td>\n",
       "      <td>274412.124794</td>\n",
       "      <td>2012</td>\n",
       "      <td>73</td>\n",
       "      <td>0.002538</td>\n",
       "      <td>...</td>\n",
       "      <td>0</td>\n",
       "      <td>0</td>\n",
       "      <td>0</td>\n",
       "      <td>0</td>\n",
       "      <td>0</td>\n",
       "      <td>0</td>\n",
       "      <td>0</td>\n",
       "      <td>0</td>\n",
       "      <td>0.0</td>\n",
       "      <td>1.000000</td>\n",
       "    </tr>\n",
       "    <tr>\n",
       "      <th>4</th>\n",
       "      <td>1</td>\n",
       "      <td>174</td>\n",
       "      <td>ANG MO KIO AVE 4</td>\n",
       "      <td>8</td>\n",
       "      <td>45.0</td>\n",
       "      <td>1986</td>\n",
       "      <td>238527.462321</td>\n",
       "      <td>2012</td>\n",
       "      <td>73</td>\n",
       "      <td>0.003640</td>\n",
       "      <td>...</td>\n",
       "      <td>0</td>\n",
       "      <td>0</td>\n",
       "      <td>0</td>\n",
       "      <td>0</td>\n",
       "      <td>0</td>\n",
       "      <td>0</td>\n",
       "      <td>0</td>\n",
       "      <td>0</td>\n",
       "      <td>0.0</td>\n",
       "      <td>1.000000</td>\n",
       "    </tr>\n",
       "    <tr>\n",
       "      <th>...</th>\n",
       "      <td>...</td>\n",
       "      <td>...</td>\n",
       "      <td>...</td>\n",
       "      <td>...</td>\n",
       "      <td>...</td>\n",
       "      <td>...</td>\n",
       "      <td>...</td>\n",
       "      <td>...</td>\n",
       "      <td>...</td>\n",
       "      <td>...</td>\n",
       "      <td>...</td>\n",
       "      <td>...</td>\n",
       "      <td>...</td>\n",
       "      <td>...</td>\n",
       "      <td>...</td>\n",
       "      <td>...</td>\n",
       "      <td>...</td>\n",
       "      <td>...</td>\n",
       "      <td>...</td>\n",
       "      <td>...</td>\n",
       "      <td>...</td>\n",
       "    </tr>\n",
       "    <tr>\n",
       "      <th>257126</th>\n",
       "      <td>5</td>\n",
       "      <td>325</td>\n",
       "      <td>YISHUN CTRL</td>\n",
       "      <td>5</td>\n",
       "      <td>146.0</td>\n",
       "      <td>1988</td>\n",
       "      <td>742839.373942</td>\n",
       "      <td>2024</td>\n",
       "      <td>63</td>\n",
       "      <td>0.001059</td>\n",
       "      <td>...</td>\n",
       "      <td>0</td>\n",
       "      <td>0</td>\n",
       "      <td>0</td>\n",
       "      <td>0</td>\n",
       "      <td>0</td>\n",
       "      <td>0</td>\n",
       "      <td>0</td>\n",
       "      <td>1</td>\n",
       "      <td>0.5</td>\n",
       "      <td>0.866025</td>\n",
       "    </tr>\n",
       "    <tr>\n",
       "      <th>257127</th>\n",
       "      <td>5</td>\n",
       "      <td>387</td>\n",
       "      <td>YISHUN RING RD</td>\n",
       "      <td>5</td>\n",
       "      <td>142.0</td>\n",
       "      <td>1988</td>\n",
       "      <td>708288.705386</td>\n",
       "      <td>2024</td>\n",
       "      <td>63</td>\n",
       "      <td>0.001722</td>\n",
       "      <td>...</td>\n",
       "      <td>0</td>\n",
       "      <td>0</td>\n",
       "      <td>0</td>\n",
       "      <td>0</td>\n",
       "      <td>0</td>\n",
       "      <td>0</td>\n",
       "      <td>0</td>\n",
       "      <td>1</td>\n",
       "      <td>0.5</td>\n",
       "      <td>0.866025</td>\n",
       "    </tr>\n",
       "    <tr>\n",
       "      <th>257128</th>\n",
       "      <td>5</td>\n",
       "      <td>355</td>\n",
       "      <td>YISHUN RING RD</td>\n",
       "      <td>2</td>\n",
       "      <td>154.0</td>\n",
       "      <td>1988</td>\n",
       "      <td>734201.706803</td>\n",
       "      <td>2024</td>\n",
       "      <td>63</td>\n",
       "      <td>0.004412</td>\n",
       "      <td>...</td>\n",
       "      <td>0</td>\n",
       "      <td>0</td>\n",
       "      <td>0</td>\n",
       "      <td>0</td>\n",
       "      <td>0</td>\n",
       "      <td>0</td>\n",
       "      <td>0</td>\n",
       "      <td>1</td>\n",
       "      <td>0.5</td>\n",
       "      <td>0.866025</td>\n",
       "    </tr>\n",
       "    <tr>\n",
       "      <th>257129</th>\n",
       "      <td>5</td>\n",
       "      <td>606</td>\n",
       "      <td>YISHUN ST 61</td>\n",
       "      <td>11</td>\n",
       "      <td>142.0</td>\n",
       "      <td>1987</td>\n",
       "      <td>686694.537539</td>\n",
       "      <td>2024</td>\n",
       "      <td>62</td>\n",
       "      <td>0.003777</td>\n",
       "      <td>...</td>\n",
       "      <td>0</td>\n",
       "      <td>0</td>\n",
       "      <td>0</td>\n",
       "      <td>0</td>\n",
       "      <td>0</td>\n",
       "      <td>0</td>\n",
       "      <td>0</td>\n",
       "      <td>1</td>\n",
       "      <td>0.5</td>\n",
       "      <td>0.866025</td>\n",
       "    </tr>\n",
       "    <tr>\n",
       "      <th>257130</th>\n",
       "      <td>5</td>\n",
       "      <td>824</td>\n",
       "      <td>YISHUN ST 81</td>\n",
       "      <td>8</td>\n",
       "      <td>146.0</td>\n",
       "      <td>1987</td>\n",
       "      <td>807621.877483</td>\n",
       "      <td>2024</td>\n",
       "      <td>62</td>\n",
       "      <td>0.003844</td>\n",
       "      <td>...</td>\n",
       "      <td>0</td>\n",
       "      <td>0</td>\n",
       "      <td>0</td>\n",
       "      <td>0</td>\n",
       "      <td>0</td>\n",
       "      <td>0</td>\n",
       "      <td>0</td>\n",
       "      <td>1</td>\n",
       "      <td>0.5</td>\n",
       "      <td>0.866025</td>\n",
       "    </tr>\n",
       "  </tbody>\n",
       "</table>\n",
       "<p>257030 rows × 57 columns</p>\n",
       "</div>"
      ],
      "text/plain": [
       "        flat_type block        street_name  storey_range  floor_area_sqm  \\\n",
       "0               1   406  ANG MO KIO AVE 10             2            44.0   \n",
       "1               1   314   ANG MO KIO AVE 3             8            44.0   \n",
       "2               1   314   ANG MO KIO AVE 3            11            44.0   \n",
       "3               1   170   ANG MO KIO AVE 4             2            45.0   \n",
       "4               1   174   ANG MO KIO AVE 4             8            45.0   \n",
       "...           ...   ...                ...           ...             ...   \n",
       "257126          5   325        YISHUN CTRL             5           146.0   \n",
       "257127          5   387     YISHUN RING RD             5           142.0   \n",
       "257128          5   355     YISHUN RING RD             2           154.0   \n",
       "257129          5   606       YISHUN ST 61            11           142.0   \n",
       "257130          5   824       YISHUN ST 81             8           146.0   \n",
       "\n",
       "        lease_commence_date   resale_price  year  remaining_lease  mrt_dist  \\\n",
       "0                      1979  272090.176046  2012               66  0.004521   \n",
       "1                      1978  277578.418542  2012               65  0.003707   \n",
       "2                      1978  290243.593532  2012               65  0.003707   \n",
       "3                      1986  274412.124794  2012               73  0.002538   \n",
       "4                      1986  238527.462321  2012               73  0.003640   \n",
       "...                     ...            ...   ...              ...       ...   \n",
       "257126                 1988  742839.373942  2024               63  0.001059   \n",
       "257127                 1988  708288.705386  2024               63  0.001722   \n",
       "257128                 1988  734201.706803  2024               63  0.004412   \n",
       "257129                 1987  686694.537539  2024               62  0.003777   \n",
       "257130                 1987  807621.877483  2024               62  0.003844   \n",
       "\n",
       "        ...  town_QUEENSTOWN  town_SEMBAWANG  town_SENGKANG  town_SERANGOON  \\\n",
       "0       ...                0               0              0               0   \n",
       "1       ...                0               0              0               0   \n",
       "2       ...                0               0              0               0   \n",
       "3       ...                0               0              0               0   \n",
       "4       ...                0               0              0               0   \n",
       "...     ...              ...             ...            ...             ...   \n",
       "257126  ...                0               0              0               0   \n",
       "257127  ...                0               0              0               0   \n",
       "257128  ...                0               0              0               0   \n",
       "257129  ...                0               0              0               0   \n",
       "257130  ...                0               0              0               0   \n",
       "\n",
       "        town_TAMPINES  town_TOA PAYOH  town_WOODLANDS  town_YISHUN  month_sin  \\\n",
       "0                   0               0               0            0        0.0   \n",
       "1                   0               0               0            0        0.0   \n",
       "2                   0               0               0            0        0.0   \n",
       "3                   0               0               0            0        0.0   \n",
       "4                   0               0               0            0        0.0   \n",
       "...               ...             ...             ...          ...        ...   \n",
       "257126              0               0               0            1        0.5   \n",
       "257127              0               0               0            1        0.5   \n",
       "257128              0               0               0            1        0.5   \n",
       "257129              0               0               0            1        0.5   \n",
       "257130              0               0               0            1        0.5   \n",
       "\n",
       "        month_cos  \n",
       "0        1.000000  \n",
       "1        1.000000  \n",
       "2        1.000000  \n",
       "3        1.000000  \n",
       "4        1.000000  \n",
       "...           ...  \n",
       "257126   0.866025  \n",
       "257127   0.866025  \n",
       "257128   0.866025  \n",
       "257129   0.866025  \n",
       "257130   0.866025  \n",
       "\n",
       "[257030 rows x 57 columns]"
      ]
     },
     "execution_count": 30,
     "metadata": {},
     "output_type": "execute_result"
    }
   ],
   "source": [
    "lr_df = resale_df_with_coord.copy()\n",
    "lr_df"
   ]
  },
  {
   "cell_type": "code",
   "execution_count": 31,
   "id": "2e9053e5-6d97-4556-8955-2f5c487ef8d0",
   "metadata": {
    "executionInfo": {
     "elapsed": 2,
     "status": "ok",
     "timestamp": 1712679111683,
     "user": {
      "displayName": "Nguyen Ngoc Yen Nga",
      "userId": "05910121350828163339"
     },
     "user_tz": -480
    },
    "id": "2e9053e5-6d97-4556-8955-2f5c487ef8d0"
   },
   "outputs": [],
   "source": [
    "from sklearn.preprocessing import StandardScaler\n",
    "scaler = StandardScaler()\n",
    "\n",
    "# fit to continuous columns and transform\n",
    "scaled_columns = ['floor_area_sqm','lease_commence_date','mrt_dist','school_dist','mall_dist','upcoming_mrt_dist']\n",
    "scaler.fit(lr_df[scaled_columns])\n",
    "scaled_columns = pd.DataFrame(scaler.transform(lr_df[scaled_columns]), index=lr_df.index, columns=scaled_columns)\n",
    "\n",
    "# separate unscaled features\n",
    "unscaled_columns = lr_df.drop(scaled_columns, axis=1)\n",
    "\n",
    "# concatenate scaled and unscaled features\n",
    "lr_df = pd.concat([scaled_columns,unscaled_columns], axis=1)"
   ]
  },
  {
   "cell_type": "code",
   "execution_count": 32,
   "id": "bcf03d2b-19c9-45dc-9e20-cf11dd852d3e",
   "metadata": {
    "colab": {
     "base_uri": "https://localhost:8080/",
     "height": 320
    },
    "executionInfo": {
     "elapsed": 4,
     "status": "ok",
     "timestamp": 1712679117135,
     "user": {
      "displayName": "Nguyen Ngoc Yen Nga",
      "userId": "05910121350828163339"
     },
     "user_tz": -480
    },
    "id": "bcf03d2b-19c9-45dc-9e20-cf11dd852d3e",
    "outputId": "72b354b8-54b9-4edb-93bf-8ca0669da2da"
   },
   "outputs": [
    {
     "data": {
      "text/html": [
       "<div>\n",
       "<style scoped>\n",
       "    .dataframe tbody tr th:only-of-type {\n",
       "        vertical-align: middle;\n",
       "    }\n",
       "\n",
       "    .dataframe tbody tr th {\n",
       "        vertical-align: top;\n",
       "    }\n",
       "\n",
       "    .dataframe thead th {\n",
       "        text-align: right;\n",
       "    }\n",
       "</style>\n",
       "<table border=\"1\" class=\"dataframe\">\n",
       "  <thead>\n",
       "    <tr style=\"text-align: right;\">\n",
       "      <th></th>\n",
       "      <th>floor_area_sqm</th>\n",
       "      <th>lease_commence_date</th>\n",
       "      <th>mrt_dist</th>\n",
       "      <th>school_dist</th>\n",
       "      <th>mall_dist</th>\n",
       "      <th>upcoming_mrt_dist</th>\n",
       "    </tr>\n",
       "  </thead>\n",
       "  <tbody>\n",
       "    <tr>\n",
       "      <th>count</th>\n",
       "      <td>2.570300e+05</td>\n",
       "      <td>2.570300e+05</td>\n",
       "      <td>2.570300e+05</td>\n",
       "      <td>2.570300e+05</td>\n",
       "      <td>2.570300e+05</td>\n",
       "      <td>2.570300e+05</td>\n",
       "    </tr>\n",
       "    <tr>\n",
       "      <th>mean</th>\n",
       "      <td>-5.215936e-16</td>\n",
       "      <td>-3.557054e-15</td>\n",
       "      <td>1.710632e-16</td>\n",
       "      <td>1.647603e-17</td>\n",
       "      <td>-8.779846e-17</td>\n",
       "      <td>-1.556930e-16</td>\n",
       "    </tr>\n",
       "    <tr>\n",
       "      <th>std</th>\n",
       "      <td>1.000002e+00</td>\n",
       "      <td>1.000002e+00</td>\n",
       "      <td>1.000002e+00</td>\n",
       "      <td>1.000002e+00</td>\n",
       "      <td>1.000002e+00</td>\n",
       "      <td>1.000002e+00</td>\n",
       "    </tr>\n",
       "    <tr>\n",
       "      <th>min</th>\n",
       "      <td>-2.508975e+00</td>\n",
       "      <td>-2.136367e+00</td>\n",
       "      <td>-1.799613e+00</td>\n",
       "      <td>-1.370915e+00</td>\n",
       "      <td>-1.567116e+00</td>\n",
       "      <td>-1.605741e+00</td>\n",
       "    </tr>\n",
       "    <tr>\n",
       "      <th>25%</th>\n",
       "      <td>-6.814276e-01</td>\n",
       "      <td>-7.653716e-01</td>\n",
       "      <td>-7.598814e-01</td>\n",
       "      <td>-6.671027e-01</td>\n",
       "      <td>-7.528601e-01</td>\n",
       "      <td>-9.240362e-01</td>\n",
       "    </tr>\n",
       "    <tr>\n",
       "      <th>50%</th>\n",
       "      <td>-1.414703e-01</td>\n",
       "      <td>-7.987384e-02</td>\n",
       "      <td>-1.348048e-01</td>\n",
       "      <td>-2.323065e-01</td>\n",
       "      <td>-2.387124e-01</td>\n",
       "      <td>2.893834e-02</td>\n",
       "    </tr>\n",
       "    <tr>\n",
       "      <th>75%</th>\n",
       "      <td>6.061628e-01</td>\n",
       "      <td>6.817904e-01</td>\n",
       "      <td>6.014403e-01</td>\n",
       "      <td>3.657758e-01</td>\n",
       "      <td>5.560210e-01</td>\n",
       "      <td>7.323522e-01</td>\n",
       "    </tr>\n",
       "    <tr>\n",
       "      <th>max</th>\n",
       "      <td>7.584072e+00</td>\n",
       "      <td>1.976620e+00</td>\n",
       "      <td>7.797750e+00</td>\n",
       "      <td>9.553133e+00</td>\n",
       "      <td>5.337737e+00</td>\n",
       "      <td>2.549177e+00</td>\n",
       "    </tr>\n",
       "  </tbody>\n",
       "</table>\n",
       "</div>"
      ],
      "text/plain": [
       "       floor_area_sqm  lease_commence_date      mrt_dist   school_dist  \\\n",
       "count    2.570300e+05         2.570300e+05  2.570300e+05  2.570300e+05   \n",
       "mean    -5.215936e-16        -3.557054e-15  1.710632e-16  1.647603e-17   \n",
       "std      1.000002e+00         1.000002e+00  1.000002e+00  1.000002e+00   \n",
       "min     -2.508975e+00        -2.136367e+00 -1.799613e+00 -1.370915e+00   \n",
       "25%     -6.814276e-01        -7.653716e-01 -7.598814e-01 -6.671027e-01   \n",
       "50%     -1.414703e-01        -7.987384e-02 -1.348048e-01 -2.323065e-01   \n",
       "75%      6.061628e-01         6.817904e-01  6.014403e-01  3.657758e-01   \n",
       "max      7.584072e+00         1.976620e+00  7.797750e+00  9.553133e+00   \n",
       "\n",
       "          mall_dist  upcoming_mrt_dist  \n",
       "count  2.570300e+05       2.570300e+05  \n",
       "mean  -8.779846e-17      -1.556930e-16  \n",
       "std    1.000002e+00       1.000002e+00  \n",
       "min   -1.567116e+00      -1.605741e+00  \n",
       "25%   -7.528601e-01      -9.240362e-01  \n",
       "50%   -2.387124e-01       2.893834e-02  \n",
       "75%    5.560210e-01       7.323522e-01  \n",
       "max    5.337737e+00       2.549177e+00  "
      ]
     },
     "execution_count": 32,
     "metadata": {},
     "output_type": "execute_result"
    }
   ],
   "source": [
    "lr_df[['floor_area_sqm','lease_commence_date','mrt_dist','school_dist','mall_dist','upcoming_mrt_dist']].describe()"
   ]
  },
  {
   "cell_type": "code",
   "execution_count": 33,
   "id": "aea4fa5f-daa9-4fbb-94cd-c3f3578aff69",
   "metadata": {
    "executionInfo": {
     "elapsed": 704,
     "status": "ok",
     "timestamp": 1712679123800,
     "user": {
      "displayName": "Nguyen Ngoc Yen Nga",
      "userId": "05910121350828163339"
     },
     "user_tz": -480
    },
    "id": "aea4fa5f-daa9-4fbb-94cd-c3f3578aff69"
   },
   "outputs": [],
   "source": [
    "lr_y = lr_df[['resale_price']]\n",
    "lr_X = lr_df.drop(['resale_price', 'street_name', 'block', 'year'], axis=1)"
   ]
  },
  {
   "cell_type": "markdown",
   "id": "cfa5124a-ebab-4535-a808-6ddaef7ea0e0",
   "metadata": {
    "id": "cfa5124a-ebab-4535-a808-6ddaef7ea0e0"
   },
   "source": [
    "#### 5.1.1.Generation of Feature Correlation Matrix"
   ]
  },
  {
   "cell_type": "code",
   "execution_count": 34,
   "id": "f0a421e2-4f9d-4ea5-a1b8-edd99ce37a7a",
   "metadata": {
    "colab": {
     "base_uri": "https://localhost:8080/",
     "height": 638
    },
    "executionInfo": {
     "elapsed": 14591,
     "status": "ok",
     "timestamp": 1712679140577,
     "user": {
      "displayName": "Nguyen Ngoc Yen Nga",
      "userId": "05910121350828163339"
     },
     "user_tz": -480
    },
    "id": "f0a421e2-4f9d-4ea5-a1b8-edd99ce37a7a",
    "outputId": "2fdc3bd1-b084-4a56-a654-b903780e6134"
   },
   "outputs": [
    {
     "name": "stderr",
     "output_type": "stream",
     "text": [
      "C:\\Users\\ganas\\AppData\\Local\\Temp\\ipykernel_6944\\2001555788.py:10: UserWarning: FigureCanvasAgg is non-interactive, and thus cannot be shown\n",
      "  fig.show()\n"
     ]
    },
    {
     "data": {
      "image/png": "[encoded data removed]",
      "text/plain": [
       "<Figure size 1000x1000 with 2 Axes>"
      ]
     },
     "metadata": {},
     "output_type": "display_data"
    }
   ],
   "source": [
    "import matplotlib.pyplot as plt\n",
    "import seaborn as sns\n",
    "\n",
    "fig = plt.figure(figsize=(10,10))\n",
    "ax = sns.heatmap(lr_df.select_dtypes(include=['int64','float64']).corr(), annot = True, fmt='.2g',\n",
    "    vmin=-1, vmax=1, center= 0, cmap= 'coolwarm_r', linecolor='black', linewidth=1, annot_kws={\"size\": 7})\n",
    "#ax.set_ylim(0 ,5)\n",
    "plt.xticks(rotation=45, ha='right')\n",
    "plt.title('Correlation Heatmap')\n",
    "fig.show()"
   ]
  },
  {
   "cell_type": "code",
   "execution_count": 35,
   "id": "7ba0a1a5-a49f-42d1-b6aa-255b5c7e394b",
   "metadata": {
    "colab": {
     "base_uri": "https://localhost:8080/"
    },
    "executionInfo": {
     "elapsed": 2670,
     "status": "ok",
     "timestamp": 1712679152770,
     "user": {
      "displayName": "Nguyen Ngoc Yen Nga",
      "userId": "05910121350828163339"
     },
     "user_tz": -480
    },
    "id": "7ba0a1a5-a49f-42d1-b6aa-255b5c7e394b",
    "outputId": "98b5986d-da3d-4655-af5e-7bf0de775531"
   },
   "outputs": [
    {
     "name": "stdout",
     "output_type": "stream",
     "text": [
      "               Feature1         Feature2  Correlation\n",
      "17  lease_commence_date  remaining_lease     0.962784\n",
      "6        floor_area_sqm     resale_price     0.655672\n"
     ]
    }
   ],
   "source": [
    "import pandas as pd\n",
    "\n",
    "# Correlation matrix\n",
    "corr_matrix = lr_df.select_dtypes(include=['int64', 'float64']).corr()\n",
    "\n",
    "corr_pairs = []\n",
    "\n",
    "# Extract feature pairs and their correlation\n",
    "for i in range(len(corr_matrix.columns)):\n",
    "    for j in range(i+1, len(corr_matrix.columns)):  # j starts from i+1 to avoid duplicate pairs\n",
    "        corr_pairs.append((corr_matrix.columns[i], corr_matrix.columns[j], corr_matrix.iloc[i, j]))\n",
    "\n",
    "corr_pairs_df = pd.DataFrame(corr_pairs, columns=['Feature1', 'Feature2', 'Correlation'])\n",
    "sorted_corr_pairs = corr_pairs_df.reindex(corr_pairs_df.Correlation.abs().sort_values(ascending=False).index)\n",
    "\n",
    "# Filter out low correlations\n",
    "threshold = 0.4\n",
    "high_corr_pairs = sorted_corr_pairs[sorted_corr_pairs['Correlation'].abs() > threshold]\n",
    "\n",
    "print(high_corr_pairs)"
   ]
  },
  {
   "cell_type": "markdown",
   "id": "4922a0fe-a6fd-419a-97c1-5542ff42e527",
   "metadata": {
    "id": "4922a0fe-a6fd-419a-97c1-5542ff42e527"
   },
   "source": [
    "#### 5.1.2.Linear Regression Analysis"
   ]
  },
  {
   "cell_type": "code",
   "execution_count": 36,
   "id": "WvtXolFiN3X1",
   "metadata": {
    "executionInfo": {
     "elapsed": 487,
     "status": "ok",
     "timestamp": 1712679163751,
     "user": {
      "displayName": "Nguyen Ngoc Yen Nga",
      "userId": "05910121350828163339"
     },
     "user_tz": -480
    },
    "id": "WvtXolFiN3X1"
   },
   "outputs": [],
   "source": [
    "lr_y = lr_df['resale_price']\n",
    "lr_X = lr_df.drop(['resale_price', 'lease_commence_date', 'street_name', 'block', 'year'], axis=1)"
   ]
  },
  {
   "cell_type": "code",
   "execution_count": 37,
   "id": "b333b73c-e22c-42db-9457-ff83c841faec",
   "metadata": {
    "colab": {
     "base_uri": "https://localhost:8080/"
    },
    "executionInfo": {
     "elapsed": 742,
     "status": "ok",
     "timestamp": 1712679166221,
     "user": {
      "displayName": "Nguyen Ngoc Yen Nga",
      "userId": "05910121350828163339"
     },
     "user_tz": -480
    },
    "id": "b333b73c-e22c-42db-9457-ff83c841faec",
    "outputId": "5e2229ab-c69a-4d9c-e2c4-69b7c2885736"
   },
   "outputs": [
    {
     "name": "stdout",
     "output_type": "stream",
     "text": [
      "Coefficients: [ 0.17038981 -0.03380199  0.00323942 -0.0129409  -0.01848059  0.06799526\n",
      "  0.00756525  0.00984146  0.00949003 -0.11095274 -0.0662514   0.24617736\n",
      " -0.04214685 -0.0579212   0.07668058 -0.02831196  0.02603357 -0.05185733\n",
      "  0.09294138 -0.08439142  0.22686775  0.00904042 -0.13861348 -0.02030675\n",
      " -0.07698794  0.10401303  0.03674234  0.01522355 -0.02190048  0.04045572\n",
      " -0.09655126  0.14010644 -0.15117098  0.23307358 -0.11230115 -0.00439712\n",
      "  0.04676367 -0.08720248 -0.05176835  0.2211876  -0.04609143 -0.1142902\n",
      "  0.04208393 -0.07209726 -0.1302465   0.12461404  0.01838951 -0.06811999\n",
      " -0.08155748  0.01504127  0.00701737  0.00197504]\n",
      "Intercept: 11.123501310409784\n",
      "R^2 score: 0.8728779225597564\n"
     ]
    }
   ],
   "source": [
    "from sklearn.linear_model import LinearRegression\n",
    "import numpy as np\n",
    "\n",
    "# sklearn method, which doesn't give much additional info\n",
    "\n",
    "lin_reg = LinearRegression()\n",
    "lin_reg.fit(lr_X, np.log(lr_y))\n",
    "\n",
    "print(f'Coefficients: {lin_reg.coef_}')\n",
    "print(f'Intercept: {lin_reg.intercept_}')\n",
    "print(f'R^2 score: {lin_reg.score(lr_X, np.log(lr_y))}')"
   ]
  },
  {
   "cell_type": "code",
   "execution_count": 38,
   "id": "3fd5f436-6605-4816-96f2-906c4081ba0a",
   "metadata": {
    "colab": {
     "base_uri": "https://localhost:8080/",
     "height": 1000
    },
    "executionInfo": {
     "elapsed": 1774,
     "status": "ok",
     "timestamp": 1712679171268,
     "user": {
      "displayName": "Nguyen Ngoc Yen Nga",
      "userId": "05910121350828163339"
     },
     "user_tz": -480
    },
    "id": "3fd5f436-6605-4816-96f2-906c4081ba0a",
    "outputId": "7f56eedf-534f-48e6-88c4-c9db934d05b4"
   },
   "outputs": [
    {
     "data": {
      "text/html": [
       "<table class=\"simpletable\">\n",
       "<caption>OLS Regression Results</caption>\n",
       "<tr>\n",
       "  <th>Dep. Variable:</th>      <td>resale_price</td>   <th>  R-squared:         </th>  <td>   0.873</td> \n",
       "</tr>\n",
       "<tr>\n",
       "  <th>Model:</th>                   <td>OLS</td>       <th>  Adj. R-squared:    </th>  <td>   0.873</td> \n",
       "</tr>\n",
       "<tr>\n",
       "  <th>Method:</th>             <td>Least Squares</td>  <th>  F-statistic:       </th>  <td>3.921e+04</td>\n",
       "</tr>\n",
       "<tr>\n",
       "  <th>Date:</th>             <td>Fri, 19 Apr 2024</td> <th>  Prob (F-statistic):</th>   <td>  0.00</td>  \n",
       "</tr>\n",
       "<tr>\n",
       "  <th>Time:</th>                 <td>15:07:49</td>     <th>  Log-Likelihood:    </th> <td>2.0790e+05</td>\n",
       "</tr>\n",
       "<tr>\n",
       "  <th>No. Observations:</th>      <td>257030</td>      <th>  AIC:               </th> <td>-4.157e+05</td>\n",
       "</tr>\n",
       "<tr>\n",
       "  <th>Df Residuals:</th>          <td>256984</td>      <th>  BIC:               </th> <td>-4.152e+05</td>\n",
       "</tr>\n",
       "<tr>\n",
       "  <th>Df Model:</th>              <td>    45</td>      <th>                     </th>      <td> </td>    \n",
       "</tr>\n",
       "<tr>\n",
       "  <th>Covariance Type:</th>      <td>nonrobust</td>    <th>                     </th>      <td> </td>    \n",
       "</tr>\n",
       "</table>\n",
       "<table class=\"simpletable\">\n",
       "<tr>\n",
       "                <td></td>                  <th>coef</th>     <th>std err</th>      <th>t</th>      <th>P>|t|</th>  <th>[0.025</th>    <th>0.975]</th>  \n",
       "</tr>\n",
       "<tr>\n",
       "  <th>const</th>                        <td>    8.3257</td> <td>    0.005</td> <td> 1750.257</td> <td> 0.000</td> <td>    8.316</td> <td>    8.335</td>\n",
       "</tr>\n",
       "<tr>\n",
       "  <th>floor_area_sqm</th>               <td>    0.1704</td> <td>    0.001</td> <td>  210.581</td> <td> 0.000</td> <td>    0.169</td> <td>    0.172</td>\n",
       "</tr>\n",
       "<tr>\n",
       "  <th>mrt_dist</th>                     <td>   -0.0338</td> <td>    0.000</td> <td> -131.076</td> <td> 0.000</td> <td>   -0.034</td> <td>   -0.033</td>\n",
       "</tr>\n",
       "<tr>\n",
       "  <th>school_dist</th>                  <td>    0.0032</td> <td>    0.000</td> <td>   12.764</td> <td> 0.000</td> <td>    0.003</td> <td>    0.004</td>\n",
       "</tr>\n",
       "<tr>\n",
       "  <th>mall_dist</th>                    <td>   -0.0129</td> <td>    0.000</td> <td>  -47.923</td> <td> 0.000</td> <td>   -0.013</td> <td>   -0.012</td>\n",
       "</tr>\n",
       "<tr>\n",
       "  <th>upcoming_mrt_dist</th>            <td>   -0.0185</td> <td>    0.001</td> <td>  -27.233</td> <td> 0.000</td> <td>   -0.020</td> <td>   -0.017</td>\n",
       "</tr>\n",
       "<tr>\n",
       "  <th>flat_type</th>                    <td>    0.0680</td> <td>    0.001</td> <td>   73.848</td> <td> 0.000</td> <td>    0.066</td> <td>    0.070</td>\n",
       "</tr>\n",
       "<tr>\n",
       "  <th>storey_range</th>                 <td>    0.0076</td> <td> 4.18e-05</td> <td>  181.032</td> <td> 0.000</td> <td>    0.007</td> <td>    0.008</td>\n",
       "</tr>\n",
       "<tr>\n",
       "  <th>remaining_lease</th>              <td>    0.0098</td> <td> 2.49e-05</td> <td>  395.141</td> <td> 0.000</td> <td>    0.010</td> <td>    0.010</td>\n",
       "</tr>\n",
       "<tr>\n",
       "  <th>cpi</th>                          <td>    0.0095</td> <td> 4.09e-05</td> <td>  231.936</td> <td> 0.000</td> <td>    0.009</td> <td>    0.010</td>\n",
       "</tr>\n",
       "<tr>\n",
       "  <th>model_3Gen</th>                   <td>    0.6459</td> <td>    0.020</td> <td>   32.981</td> <td> 0.000</td> <td>    0.608</td> <td>    0.684</td>\n",
       "</tr>\n",
       "<tr>\n",
       "  <th>model_Apartment</th>              <td>    0.6906</td> <td>    0.003</td> <td>  199.113</td> <td> 0.000</td> <td>    0.684</td> <td>    0.697</td>\n",
       "</tr>\n",
       "<tr>\n",
       "  <th>model_Improved-Maisonette</th>    <td>    1.0031</td> <td>    0.019</td> <td>   52.168</td> <td> 0.000</td> <td>    0.965</td> <td>    1.041</td>\n",
       "</tr>\n",
       "<tr>\n",
       "  <th>model_Maisonette</th>             <td>    0.7147</td> <td>    0.004</td> <td>  196.938</td> <td> 0.000</td> <td>    0.708</td> <td>    0.722</td>\n",
       "</tr>\n",
       "<tr>\n",
       "  <th>model_Model A</th>                <td>    0.6990</td> <td>    0.003</td> <td>  203.479</td> <td> 0.000</td> <td>    0.692</td> <td>    0.706</td>\n",
       "</tr>\n",
       "<tr>\n",
       "  <th>model_Model A-Maisonette</th>     <td>    0.8336</td> <td>    0.006</td> <td>  145.556</td> <td> 0.000</td> <td>    0.822</td> <td>    0.845</td>\n",
       "</tr>\n",
       "<tr>\n",
       "  <th>model_New Generation</th>         <td>    0.7286</td> <td>    0.003</td> <td>  208.786</td> <td> 0.000</td> <td>    0.722</td> <td>    0.735</td>\n",
       "</tr>\n",
       "<tr>\n",
       "  <th>model_Premium Apartment Loft</th> <td>    0.7829</td> <td>    0.010</td> <td>   77.008</td> <td> 0.000</td> <td>    0.763</td> <td>    0.803</td>\n",
       "</tr>\n",
       "<tr>\n",
       "  <th>model_Premium Maisonette</th>     <td>    0.7050</td> <td>    0.022</td> <td>   31.698</td> <td> 0.000</td> <td>    0.661</td> <td>    0.749</td>\n",
       "</tr>\n",
       "<tr>\n",
       "  <th>model_Special</th>                <td>    0.8498</td> <td>    0.004</td> <td>  222.172</td> <td> 0.000</td> <td>    0.842</td> <td>    0.857</td>\n",
       "</tr>\n",
       "<tr>\n",
       "  <th>model_Standard</th>               <td>    0.6725</td> <td>    0.003</td> <td>  195.244</td> <td> 0.000</td> <td>    0.666</td> <td>    0.679</td>\n",
       "</tr>\n",
       "<tr>\n",
       "  <th>region_Central</th>               <td>    2.0410</td> <td>    0.001</td> <td> 1724.983</td> <td> 0.000</td> <td>    2.039</td> <td>    2.043</td>\n",
       "</tr>\n",
       "<tr>\n",
       "  <th>region_East</th>                  <td>    1.5397</td> <td>    0.001</td> <td> 1579.506</td> <td> 0.000</td> <td>    1.538</td> <td>    1.542</td>\n",
       "</tr>\n",
       "<tr>\n",
       "  <th>region_North</th>                 <td>    1.3921</td> <td>    0.001</td> <td> 1221.043</td> <td> 0.000</td> <td>    1.390</td> <td>    1.394</td>\n",
       "</tr>\n",
       "<tr>\n",
       "  <th>region_North East</th>            <td>    1.6805</td> <td>    0.001</td> <td> 1512.421</td> <td> 0.000</td> <td>    1.678</td> <td>    1.683</td>\n",
       "</tr>\n",
       "<tr>\n",
       "  <th>region_West</th>                  <td>    1.6724</td> <td>    0.001</td> <td> 1337.744</td> <td> 0.000</td> <td>    1.670</td> <td>    1.675</td>\n",
       "</tr>\n",
       "<tr>\n",
       "  <th>town_ANG MO KIO</th>              <td>    0.4442</td> <td>    0.001</td> <td>  432.085</td> <td> 0.000</td> <td>    0.442</td> <td>    0.446</td>\n",
       "</tr>\n",
       "<tr>\n",
       "  <th>town_BEDOK</th>                   <td>    0.5470</td> <td>    0.001</td> <td>  405.895</td> <td> 0.000</td> <td>    0.544</td> <td>    0.550</td>\n",
       "</tr>\n",
       "<tr>\n",
       "  <th>town_BISHAN</th>                  <td>    0.2420</td> <td>    0.002</td> <td>  152.638</td> <td> 0.000</td> <td>    0.239</td> <td>    0.245</td>\n",
       "</tr>\n",
       "<tr>\n",
       "  <th>town_BUKIT BATOK</th>             <td>    0.2697</td> <td>    0.001</td> <td>  257.068</td> <td> 0.000</td> <td>    0.268</td> <td>    0.272</td>\n",
       "</tr>\n",
       "<tr>\n",
       "  <th>town_BUKIT MERAH</th>             <td>    0.2672</td> <td>    0.001</td> <td>  217.123</td> <td> 0.000</td> <td>    0.265</td> <td>    0.270</td>\n",
       "</tr>\n",
       "<tr>\n",
       "  <th>town_BUKIT PANJANG</th>           <td>    0.1950</td> <td>    0.001</td> <td>  180.933</td> <td> 0.000</td> <td>    0.193</td> <td>    0.197</td>\n",
       "</tr>\n",
       "<tr>\n",
       "  <th>town_BUKIT TIMAH</th>             <td>    0.3669</td> <td>    0.004</td> <td>   94.818</td> <td> 0.000</td> <td>    0.359</td> <td>    0.374</td>\n",
       "</tr>\n",
       "<tr>\n",
       "  <th>town_CHOA CHU KANG</th>           <td>    0.1404</td> <td>    0.001</td> <td>  140.974</td> <td> 0.000</td> <td>    0.138</td> <td>    0.142</td>\n",
       "</tr>\n",
       "<tr>\n",
       "  <th>town_CLEMENTI</th>                <td>    0.5246</td> <td>    0.001</td> <td>  398.895</td> <td> 0.000</td> <td>    0.522</td> <td>    0.527</td>\n",
       "</tr>\n",
       "<tr>\n",
       "  <th>town_GEYLANG</th>                 <td>    0.1145</td> <td>    0.001</td> <td>   82.131</td> <td> 0.000</td> <td>    0.112</td> <td>    0.117</td>\n",
       "</tr>\n",
       "<tr>\n",
       "  <th>town_HOUGANG</th>                 <td>    0.3358</td> <td>    0.001</td> <td>  339.507</td> <td> 0.000</td> <td>    0.334</td> <td>    0.338</td>\n",
       "</tr>\n",
       "<tr>\n",
       "  <th>town_JURONG EAST</th>             <td>    0.3383</td> <td>    0.001</td> <td>  240.642</td> <td> 0.000</td> <td>    0.336</td> <td>    0.341</td>\n",
       "</tr>\n",
       "<tr>\n",
       "  <th>town_JURONG WEST</th>             <td>    0.2044</td> <td>    0.001</td> <td>  233.656</td> <td> 0.000</td> <td>    0.203</td> <td>    0.206</td>\n",
       "</tr>\n",
       "<tr>\n",
       "  <th>town_KALLANG/WHAMPOA</th>         <td>    0.1750</td> <td>    0.001</td> <td>  130.274</td> <td> 0.000</td> <td>    0.172</td> <td>    0.178</td>\n",
       "</tr>\n",
       "<tr>\n",
       "  <th>town_MARINE PARADE</th>           <td>    0.4480</td> <td>    0.003</td> <td>  168.417</td> <td> 0.000</td> <td>    0.443</td> <td>    0.453</td>\n",
       "</tr>\n",
       "<tr>\n",
       "  <th>town_PASIR RIS</th>               <td>    0.4641</td> <td>    0.002</td> <td>  305.137</td> <td> 0.000</td> <td>    0.461</td> <td>    0.467</td>\n",
       "</tr>\n",
       "<tr>\n",
       "  <th>town_PUNGGOL</th>                 <td>    0.2259</td> <td>    0.001</td> <td>  215.873</td> <td> 0.000</td> <td>    0.224</td> <td>    0.228</td>\n",
       "</tr>\n",
       "<tr>\n",
       "  <th>town_QUEENSTOWN</th>              <td>    0.2689</td> <td>    0.001</td> <td>  187.544</td> <td> 0.000</td> <td>    0.266</td> <td>    0.272</td>\n",
       "</tr>\n",
       "<tr>\n",
       "  <th>town_SEMBAWANG</th>               <td>    0.4381</td> <td>    0.001</td> <td>  325.129</td> <td> 0.000</td> <td>    0.435</td> <td>    0.441</td>\n",
       "</tr>\n",
       "<tr>\n",
       "  <th>town_SENGKANG</th>                <td>    0.2099</td> <td>    0.001</td> <td>  241.641</td> <td> 0.000</td> <td>    0.208</td> <td>    0.212</td>\n",
       "</tr>\n",
       "<tr>\n",
       "  <th>town_SERANGOON</th>               <td>    0.4648</td> <td>    0.001</td> <td>  349.064</td> <td> 0.000</td> <td>    0.462</td> <td>    0.467</td>\n",
       "</tr>\n",
       "<tr>\n",
       "  <th>town_TAMPINES</th>                <td>    0.5286</td> <td>    0.001</td> <td>  662.232</td> <td> 0.000</td> <td>    0.527</td> <td>    0.530</td>\n",
       "</tr>\n",
       "<tr>\n",
       "  <th>town_TOA PAYOH</th>               <td>    0.1586</td> <td>    0.001</td> <td>  115.731</td> <td> 0.000</td> <td>    0.156</td> <td>    0.161</td>\n",
       "</tr>\n",
       "<tr>\n",
       "  <th>town_WOODLANDS</th>               <td>    0.4287</td> <td>    0.001</td> <td>  520.466</td> <td> 0.000</td> <td>    0.427</td> <td>    0.430</td>\n",
       "</tr>\n",
       "<tr>\n",
       "  <th>town_YISHUN</th>                  <td>    0.5253</td> <td>    0.001</td> <td>  546.537</td> <td> 0.000</td> <td>    0.523</td> <td>    0.527</td>\n",
       "</tr>\n",
       "<tr>\n",
       "  <th>month_sin</th>                    <td>    0.0070</td> <td>    0.000</td> <td>   23.257</td> <td> 0.000</td> <td>    0.006</td> <td>    0.008</td>\n",
       "</tr>\n",
       "<tr>\n",
       "  <th>month_cos</th>                    <td>    0.0020</td> <td>    0.000</td> <td>    6.548</td> <td> 0.000</td> <td>    0.001</td> <td>    0.003</td>\n",
       "</tr>\n",
       "</table>\n",
       "<table class=\"simpletable\">\n",
       "<tr>\n",
       "  <th>Omnibus:</th>       <td>1778.022</td> <th>  Durbin-Watson:     </th> <td>   0.896</td>\n",
       "</tr>\n",
       "<tr>\n",
       "  <th>Prob(Omnibus):</th>  <td> 0.000</td>  <th>  Jarque-Bera (JB):  </th> <td>2724.742</td>\n",
       "</tr>\n",
       "<tr>\n",
       "  <th>Skew:</th>           <td> 0.027</td>  <th>  Prob(JB):          </th> <td>    0.00</td>\n",
       "</tr>\n",
       "<tr>\n",
       "  <th>Kurtosis:</th>       <td> 3.502</td>  <th>  Cond. No.          </th> <td>1.00e+16</td>\n",
       "</tr>\n",
       "</table><br/><br/>Notes:<br/>[1] Standard Errors assume that the covariance matrix of the errors is correctly specified.<br/>[2] The smallest eigenvalue is 4.13e-23. This might indicate that there are<br/>strong multicollinearity problems or that the design matrix is singular."
      ],
      "text/latex": [
       "\\begin{center}\n",
       "\\begin{tabular}{lclc}\n",
       "\\toprule\n",
       "\\textbf{Dep. Variable:}                &  resale\\_price   & \\textbf{  R-squared:         } &     0.873   \\\\\n",
       "\\textbf{Model:}                        &       OLS        & \\textbf{  Adj. R-squared:    } &     0.873   \\\\\n",
       "\\textbf{Method:}                       &  Least Squares   & \\textbf{  F-statistic:       } & 3.921e+04   \\\\\n",
       "\\textbf{Date:}                         & Fri, 19 Apr 2024 & \\textbf{  Prob (F-statistic):} &     0.00    \\\\\n",
       "\\textbf{Time:}                         &     15:07:49     & \\textbf{  Log-Likelihood:    } & 2.0790e+05  \\\\\n",
       "\\textbf{No. Observations:}             &      257030      & \\textbf{  AIC:               } & -4.157e+05  \\\\\n",
       "\\textbf{Df Residuals:}                 &      256984      & \\textbf{  BIC:               } & -4.152e+05  \\\\\n",
       "\\textbf{Df Model:}                     &          45      & \\textbf{                     } &             \\\\\n",
       "\\textbf{Covariance Type:}              &    nonrobust     & \\textbf{                     } &             \\\\\n",
       "\\bottomrule\n",
       "\\end{tabular}\n",
       "\\begin{tabular}{lcccccc}\n",
       "                                       & \\textbf{coef} & \\textbf{std err} & \\textbf{t} & \\textbf{P$> |$t$|$} & \\textbf{[0.025} & \\textbf{0.975]}  \\\\\n",
       "\\midrule\n",
       "\\textbf{const}                         &       8.3257  &        0.005     &  1750.257  &         0.000        &        8.316    &        8.335     \\\\\n",
       "\\textbf{floor\\_area\\_sqm}              &       0.1704  &        0.001     &   210.581  &         0.000        &        0.169    &        0.172     \\\\\n",
       "\\textbf{mrt\\_dist}                     &      -0.0338  &        0.000     &  -131.076  &         0.000        &       -0.034    &       -0.033     \\\\\n",
       "\\textbf{school\\_dist}                  &       0.0032  &        0.000     &    12.764  &         0.000        &        0.003    &        0.004     \\\\\n",
       "\\textbf{mall\\_dist}                    &      -0.0129  &        0.000     &   -47.923  &         0.000        &       -0.013    &       -0.012     \\\\\n",
       "\\textbf{upcoming\\_mrt\\_dist}           &      -0.0185  &        0.001     &   -27.233  &         0.000        &       -0.020    &       -0.017     \\\\\n",
       "\\textbf{flat\\_type}                    &       0.0680  &        0.001     &    73.848  &         0.000        &        0.066    &        0.070     \\\\\n",
       "\\textbf{storey\\_range}                 &       0.0076  &     4.18e-05     &   181.032  &         0.000        &        0.007    &        0.008     \\\\\n",
       "\\textbf{remaining\\_lease}              &       0.0098  &     2.49e-05     &   395.141  &         0.000        &        0.010    &        0.010     \\\\\n",
       "\\textbf{cpi}                           &       0.0095  &     4.09e-05     &   231.936  &         0.000        &        0.009    &        0.010     \\\\\n",
       "\\textbf{model\\_3Gen}                   &       0.6459  &        0.020     &    32.981  &         0.000        &        0.608    &        0.684     \\\\\n",
       "\\textbf{model\\_Apartment}              &       0.6906  &        0.003     &   199.113  &         0.000        &        0.684    &        0.697     \\\\\n",
       "\\textbf{model\\_Improved-Maisonette}    &       1.0031  &        0.019     &    52.168  &         0.000        &        0.965    &        1.041     \\\\\n",
       "\\textbf{model\\_Maisonette}             &       0.7147  &        0.004     &   196.938  &         0.000        &        0.708    &        0.722     \\\\\n",
       "\\textbf{model\\_Model A}                &       0.6990  &        0.003     &   203.479  &         0.000        &        0.692    &        0.706     \\\\\n",
       "\\textbf{model\\_Model A-Maisonette}     &       0.8336  &        0.006     &   145.556  &         0.000        &        0.822    &        0.845     \\\\\n",
       "\\textbf{model\\_New Generation}         &       0.7286  &        0.003     &   208.786  &         0.000        &        0.722    &        0.735     \\\\\n",
       "\\textbf{model\\_Premium Apartment Loft} &       0.7829  &        0.010     &    77.008  &         0.000        &        0.763    &        0.803     \\\\\n",
       "\\textbf{model\\_Premium Maisonette}     &       0.7050  &        0.022     &    31.698  &         0.000        &        0.661    &        0.749     \\\\\n",
       "\\textbf{model\\_Special}                &       0.8498  &        0.004     &   222.172  &         0.000        &        0.842    &        0.857     \\\\\n",
       "\\textbf{model\\_Standard}               &       0.6725  &        0.003     &   195.244  &         0.000        &        0.666    &        0.679     \\\\\n",
       "\\textbf{region\\_Central}               &       2.0410  &        0.001     &  1724.983  &         0.000        &        2.039    &        2.043     \\\\\n",
       "\\textbf{region\\_East}                  &       1.5397  &        0.001     &  1579.506  &         0.000        &        1.538    &        1.542     \\\\\n",
       "\\textbf{region\\_North}                 &       1.3921  &        0.001     &  1221.043  &         0.000        &        1.390    &        1.394     \\\\\n",
       "\\textbf{region\\_North East}            &       1.6805  &        0.001     &  1512.421  &         0.000        &        1.678    &        1.683     \\\\\n",
       "\\textbf{region\\_West}                  &       1.6724  &        0.001     &  1337.744  &         0.000        &        1.670    &        1.675     \\\\\n",
       "\\textbf{town\\_ANG MO KIO}              &       0.4442  &        0.001     &   432.085  &         0.000        &        0.442    &        0.446     \\\\\n",
       "\\textbf{town\\_BEDOK}                   &       0.5470  &        0.001     &   405.895  &         0.000        &        0.544    &        0.550     \\\\\n",
       "\\textbf{town\\_BISHAN}                  &       0.2420  &        0.002     &   152.638  &         0.000        &        0.239    &        0.245     \\\\\n",
       "\\textbf{town\\_BUKIT BATOK}             &       0.2697  &        0.001     &   257.068  &         0.000        &        0.268    &        0.272     \\\\\n",
       "\\textbf{town\\_BUKIT MERAH}             &       0.2672  &        0.001     &   217.123  &         0.000        &        0.265    &        0.270     \\\\\n",
       "\\textbf{town\\_BUKIT PANJANG}           &       0.1950  &        0.001     &   180.933  &         0.000        &        0.193    &        0.197     \\\\\n",
       "\\textbf{town\\_BUKIT TIMAH}             &       0.3669  &        0.004     &    94.818  &         0.000        &        0.359    &        0.374     \\\\\n",
       "\\textbf{town\\_CHOA CHU KANG}           &       0.1404  &        0.001     &   140.974  &         0.000        &        0.138    &        0.142     \\\\\n",
       "\\textbf{town\\_CLEMENTI}                &       0.5246  &        0.001     &   398.895  &         0.000        &        0.522    &        0.527     \\\\\n",
       "\\textbf{town\\_GEYLANG}                 &       0.1145  &        0.001     &    82.131  &         0.000        &        0.112    &        0.117     \\\\\n",
       "\\textbf{town\\_HOUGANG}                 &       0.3358  &        0.001     &   339.507  &         0.000        &        0.334    &        0.338     \\\\\n",
       "\\textbf{town\\_JURONG EAST}             &       0.3383  &        0.001     &   240.642  &         0.000        &        0.336    &        0.341     \\\\\n",
       "\\textbf{town\\_JURONG WEST}             &       0.2044  &        0.001     &   233.656  &         0.000        &        0.203    &        0.206     \\\\\n",
       "\\textbf{town\\_KALLANG/WHAMPOA}         &       0.1750  &        0.001     &   130.274  &         0.000        &        0.172    &        0.178     \\\\\n",
       "\\textbf{town\\_MARINE PARADE}           &       0.4480  &        0.003     &   168.417  &         0.000        &        0.443    &        0.453     \\\\\n",
       "\\textbf{town\\_PASIR RIS}               &       0.4641  &        0.002     &   305.137  &         0.000        &        0.461    &        0.467     \\\\\n",
       "\\textbf{town\\_PUNGGOL}                 &       0.2259  &        0.001     &   215.873  &         0.000        &        0.224    &        0.228     \\\\\n",
       "\\textbf{town\\_QUEENSTOWN}              &       0.2689  &        0.001     &   187.544  &         0.000        &        0.266    &        0.272     \\\\\n",
       "\\textbf{town\\_SEMBAWANG}               &       0.4381  &        0.001     &   325.129  &         0.000        &        0.435    &        0.441     \\\\\n",
       "\\textbf{town\\_SENGKANG}                &       0.2099  &        0.001     &   241.641  &         0.000        &        0.208    &        0.212     \\\\\n",
       "\\textbf{town\\_SERANGOON}               &       0.4648  &        0.001     &   349.064  &         0.000        &        0.462    &        0.467     \\\\\n",
       "\\textbf{town\\_TAMPINES}                &       0.5286  &        0.001     &   662.232  &         0.000        &        0.527    &        0.530     \\\\\n",
       "\\textbf{town\\_TOA PAYOH}               &       0.1586  &        0.001     &   115.731  &         0.000        &        0.156    &        0.161     \\\\\n",
       "\\textbf{town\\_WOODLANDS}               &       0.4287  &        0.001     &   520.466  &         0.000        &        0.427    &        0.430     \\\\\n",
       "\\textbf{town\\_YISHUN}                  &       0.5253  &        0.001     &   546.537  &         0.000        &        0.523    &        0.527     \\\\\n",
       "\\textbf{month\\_sin}                    &       0.0070  &        0.000     &    23.257  &         0.000        &        0.006    &        0.008     \\\\\n",
       "\\textbf{month\\_cos}                    &       0.0020  &        0.000     &     6.548  &         0.000        &        0.001    &        0.003     \\\\\n",
       "\\bottomrule\n",
       "\\end{tabular}\n",
       "\\begin{tabular}{lclc}\n",
       "\\textbf{Omnibus:}       & 1778.022 & \\textbf{  Durbin-Watson:     } &    0.896  \\\\\n",
       "\\textbf{Prob(Omnibus):} &   0.000  & \\textbf{  Jarque-Bera (JB):  } & 2724.742  \\\\\n",
       "\\textbf{Skew:}          &   0.027  & \\textbf{  Prob(JB):          } &     0.00  \\\\\n",
       "\\textbf{Kurtosis:}      &   3.502  & \\textbf{  Cond. No.          } & 1.00e+16  \\\\\n",
       "\\bottomrule\n",
       "\\end{tabular}\n",
       "%\\caption{OLS Regression Results}\n",
       "\\end{center}\n",
       "\n",
       "Notes: \\newline\n",
       " [1] Standard Errors assume that the covariance matrix of the errors is correctly specified. \\newline\n",
       " [2] The smallest eigenvalue is 4.13e-23. This might indicate that there are \\newline\n",
       " strong multicollinearity problems or that the design matrix is singular."
      ],
      "text/plain": [
       "<class 'statsmodels.iolib.summary.Summary'>\n",
       "\"\"\"\n",
       "                            OLS Regression Results                            \n",
       "==============================================================================\n",
       "Dep. Variable:           resale_price   R-squared:                       0.873\n",
       "Model:                            OLS   Adj. R-squared:                  0.873\n",
       "Method:                 Least Squares   F-statistic:                 3.921e+04\n",
       "Date:                Fri, 19 Apr 2024   Prob (F-statistic):               0.00\n",
       "Time:                        15:07:49   Log-Likelihood:             2.0790e+05\n",
       "No. Observations:              257030   AIC:                        -4.157e+05\n",
       "Df Residuals:                  256984   BIC:                        -4.152e+05\n",
       "Df Model:                          45                                         \n",
       "Covariance Type:            nonrobust                                         \n",
       "================================================================================================\n",
       "                                   coef    std err          t      P>|t|      [0.025      0.975]\n",
       "------------------------------------------------------------------------------------------------\n",
       "const                            8.3257      0.005   1750.257      0.000       8.316       8.335\n",
       "floor_area_sqm                   0.1704      0.001    210.581      0.000       0.169       0.172\n",
       "mrt_dist                        -0.0338      0.000   -131.076      0.000      -0.034      -0.033\n",
       "school_dist                      0.0032      0.000     12.764      0.000       0.003       0.004\n",
       "mall_dist                       -0.0129      0.000    -47.923      0.000      -0.013      -0.012\n",
       "upcoming_mrt_dist               -0.0185      0.001    -27.233      0.000      -0.020      -0.017\n",
       "flat_type                        0.0680      0.001     73.848      0.000       0.066       0.070\n",
       "storey_range                     0.0076   4.18e-05    181.032      0.000       0.007       0.008\n",
       "remaining_lease                  0.0098   2.49e-05    395.141      0.000       0.010       0.010\n",
       "cpi                              0.0095   4.09e-05    231.936      0.000       0.009       0.010\n",
       "model_3Gen                       0.6459      0.020     32.981      0.000       0.608       0.684\n",
       "model_Apartment                  0.6906      0.003    199.113      0.000       0.684       0.697\n",
       "model_Improved-Maisonette        1.0031      0.019     52.168      0.000       0.965       1.041\n",
       "model_Maisonette                 0.7147      0.004    196.938      0.000       0.708       0.722\n",
       "model_Model A                    0.6990      0.003    203.479      0.000       0.692       0.706\n",
       "model_Model A-Maisonette         0.8336      0.006    145.556      0.000       0.822       0.845\n",
       "model_New Generation             0.7286      0.003    208.786      0.000       0.722       0.735\n",
       "model_Premium Apartment Loft     0.7829      0.010     77.008      0.000       0.763       0.803\n",
       "model_Premium Maisonette         0.7050      0.022     31.698      0.000       0.661       0.749\n",
       "model_Special                    0.8498      0.004    222.172      0.000       0.842       0.857\n",
       "model_Standard                   0.6725      0.003    195.244      0.000       0.666       0.679\n",
       "region_Central                   2.0410      0.001   1724.983      0.000       2.039       2.043\n",
       "region_East                      1.5397      0.001   1579.506      0.000       1.538       1.542\n",
       "region_North                     1.3921      0.001   1221.043      0.000       1.390       1.394\n",
       "region_North East                1.6805      0.001   1512.421      0.000       1.678       1.683\n",
       "region_West                      1.6724      0.001   1337.744      0.000       1.670       1.675\n",
       "town_ANG MO KIO                  0.4442      0.001    432.085      0.000       0.442       0.446\n",
       "town_BEDOK                       0.5470      0.001    405.895      0.000       0.544       0.550\n",
       "town_BISHAN                      0.2420      0.002    152.638      0.000       0.239       0.245\n",
       "town_BUKIT BATOK                 0.2697      0.001    257.068      0.000       0.268       0.272\n",
       "town_BUKIT MERAH                 0.2672      0.001    217.123      0.000       0.265       0.270\n",
       "town_BUKIT PANJANG               0.1950      0.001    180.933      0.000       0.193       0.197\n",
       "town_BUKIT TIMAH                 0.3669      0.004     94.818      0.000       0.359       0.374\n",
       "town_CHOA CHU KANG               0.1404      0.001    140.974      0.000       0.138       0.142\n",
       "town_CLEMENTI                    0.5246      0.001    398.895      0.000       0.522       0.527\n",
       "town_GEYLANG                     0.1145      0.001     82.131      0.000       0.112       0.117\n",
       "town_HOUGANG                     0.3358      0.001    339.507      0.000       0.334       0.338\n",
       "town_JURONG EAST                 0.3383      0.001    240.642      0.000       0.336       0.341\n",
       "town_JURONG WEST                 0.2044      0.001    233.656      0.000       0.203       0.206\n",
       "town_KALLANG/WHAMPOA             0.1750      0.001    130.274      0.000       0.172       0.178\n",
       "town_MARINE PARADE               0.4480      0.003    168.417      0.000       0.443       0.453\n",
       "town_PASIR RIS                   0.4641      0.002    305.137      0.000       0.461       0.467\n",
       "town_PUNGGOL                     0.2259      0.001    215.873      0.000       0.224       0.228\n",
       "town_QUEENSTOWN                  0.2689      0.001    187.544      0.000       0.266       0.272\n",
       "town_SEMBAWANG                   0.4381      0.001    325.129      0.000       0.435       0.441\n",
       "town_SENGKANG                    0.2099      0.001    241.641      0.000       0.208       0.212\n",
       "town_SERANGOON                   0.4648      0.001    349.064      0.000       0.462       0.467\n",
       "town_TAMPINES                    0.5286      0.001    662.232      0.000       0.527       0.530\n",
       "town_TOA PAYOH                   0.1586      0.001    115.731      0.000       0.156       0.161\n",
       "town_WOODLANDS                   0.4287      0.001    520.466      0.000       0.427       0.430\n",
       "town_YISHUN                      0.5253      0.001    546.537      0.000       0.523       0.527\n",
       "month_sin                        0.0070      0.000     23.257      0.000       0.006       0.008\n",
       "month_cos                        0.0020      0.000      6.548      0.000       0.001       0.003\n",
       "==============================================================================\n",
       "Omnibus:                     1778.022   Durbin-Watson:                   0.896\n",
       "Prob(Omnibus):                  0.000   Jarque-Bera (JB):             2724.742\n",
       "Skew:                           0.027   Prob(JB):                         0.00\n",
       "Kurtosis:                       3.502   Cond. No.                     1.00e+16\n",
       "==============================================================================\n",
       "\n",
       "Notes:\n",
       "[1] Standard Errors assume that the covariance matrix of the errors is correctly specified.\n",
       "[2] The smallest eigenvalue is 4.13e-23. This might indicate that there are\n",
       "strong multicollinearity problems or that the design matrix is singular.\n",
       "\"\"\""
      ]
     },
     "execution_count": 38,
     "metadata": {},
     "output_type": "execute_result"
    }
   ],
   "source": [
    "import statsmodels.api as sm\n",
    "# alternate way using statistical formula, which does not require dummy coding manually\n",
    "# https://stackoverflow.com/questions/50733014/linear-regression-with-dummy-categorical-variables\n",
    "# https://stackoverflow.com/questions/34007308/linear-regression-analysis-with-string-categorical-features-variables\n",
    "\n",
    "X_constant = sm.add_constant(lr_X)\n",
    "lin_reg = sm.OLS(np.log(lr_y),X_constant).fit()\n",
    "lin_reg.summary()"
   ]
  },
  {
   "cell_type": "markdown",
   "id": "8b1b677d-fcfa-4317-91a2-5148f03149d0",
   "metadata": {
    "id": "8b1b677d-fcfa-4317-91a2-5148f03149d0"
   },
   "source": [
    "#### 5.1.3.Training-Testing Data Split"
   ]
  },
  {
   "cell_type": "code",
   "execution_count": 39,
   "id": "lB4I9iUlPb0n",
   "metadata": {
    "colab": {
     "base_uri": "https://localhost:8080/",
     "height": 582
    },
    "executionInfo": {
     "elapsed": 762,
     "status": "ok",
     "timestamp": 1712679176734,
     "user": {
      "displayName": "Nguyen Ngoc Yen Nga",
      "userId": "05910121350828163339"
     },
     "user_tz": -480
    },
    "id": "lB4I9iUlPb0n",
    "outputId": "0fe02260-afe4-41b5-fcd3-6667b1eec5f1"
   },
   "outputs": [
    {
     "data": {
      "text/html": [
       "<div>\n",
       "<style scoped>\n",
       "    .dataframe tbody tr th:only-of-type {\n",
       "        vertical-align: middle;\n",
       "    }\n",
       "\n",
       "    .dataframe tbody tr th {\n",
       "        vertical-align: top;\n",
       "    }\n",
       "\n",
       "    .dataframe thead th {\n",
       "        text-align: right;\n",
       "    }\n",
       "</style>\n",
       "<table border=\"1\" class=\"dataframe\">\n",
       "  <thead>\n",
       "    <tr style=\"text-align: right;\">\n",
       "      <th></th>\n",
       "      <th>flat_type</th>\n",
       "      <th>block</th>\n",
       "      <th>street_name</th>\n",
       "      <th>storey_range</th>\n",
       "      <th>floor_area_sqm</th>\n",
       "      <th>lease_commence_date</th>\n",
       "      <th>resale_price</th>\n",
       "      <th>year</th>\n",
       "      <th>remaining_lease</th>\n",
       "      <th>mrt_dist</th>\n",
       "      <th>...</th>\n",
       "      <th>town_QUEENSTOWN</th>\n",
       "      <th>town_SEMBAWANG</th>\n",
       "      <th>town_SENGKANG</th>\n",
       "      <th>town_SERANGOON</th>\n",
       "      <th>town_TAMPINES</th>\n",
       "      <th>town_TOA PAYOH</th>\n",
       "      <th>town_WOODLANDS</th>\n",
       "      <th>town_YISHUN</th>\n",
       "      <th>month_sin</th>\n",
       "      <th>month_cos</th>\n",
       "    </tr>\n",
       "  </thead>\n",
       "  <tbody>\n",
       "    <tr>\n",
       "      <th>0</th>\n",
       "      <td>1</td>\n",
       "      <td>406</td>\n",
       "      <td>ANG MO KIO AVE 10</td>\n",
       "      <td>2</td>\n",
       "      <td>44.0</td>\n",
       "      <td>1979</td>\n",
       "      <td>272090.176046</td>\n",
       "      <td>2012</td>\n",
       "      <td>66</td>\n",
       "      <td>0.004521</td>\n",
       "      <td>...</td>\n",
       "      <td>0</td>\n",
       "      <td>0</td>\n",
       "      <td>0</td>\n",
       "      <td>0</td>\n",
       "      <td>0</td>\n",
       "      <td>0</td>\n",
       "      <td>0</td>\n",
       "      <td>0</td>\n",
       "      <td>0.0</td>\n",
       "      <td>1.000000</td>\n",
       "    </tr>\n",
       "    <tr>\n",
       "      <th>1</th>\n",
       "      <td>1</td>\n",
       "      <td>314</td>\n",
       "      <td>ANG MO KIO AVE 3</td>\n",
       "      <td>8</td>\n",
       "      <td>44.0</td>\n",
       "      <td>1978</td>\n",
       "      <td>277578.418542</td>\n",
       "      <td>2012</td>\n",
       "      <td>65</td>\n",
       "      <td>0.003707</td>\n",
       "      <td>...</td>\n",
       "      <td>0</td>\n",
       "      <td>0</td>\n",
       "      <td>0</td>\n",
       "      <td>0</td>\n",
       "      <td>0</td>\n",
       "      <td>0</td>\n",
       "      <td>0</td>\n",
       "      <td>0</td>\n",
       "      <td>0.0</td>\n",
       "      <td>1.000000</td>\n",
       "    </tr>\n",
       "    <tr>\n",
       "      <th>2</th>\n",
       "      <td>1</td>\n",
       "      <td>314</td>\n",
       "      <td>ANG MO KIO AVE 3</td>\n",
       "      <td>11</td>\n",
       "      <td>44.0</td>\n",
       "      <td>1978</td>\n",
       "      <td>290243.593532</td>\n",
       "      <td>2012</td>\n",
       "      <td>65</td>\n",
       "      <td>0.003707</td>\n",
       "      <td>...</td>\n",
       "      <td>0</td>\n",
       "      <td>0</td>\n",
       "      <td>0</td>\n",
       "      <td>0</td>\n",
       "      <td>0</td>\n",
       "      <td>0</td>\n",
       "      <td>0</td>\n",
       "      <td>0</td>\n",
       "      <td>0.0</td>\n",
       "      <td>1.000000</td>\n",
       "    </tr>\n",
       "    <tr>\n",
       "      <th>3</th>\n",
       "      <td>1</td>\n",
       "      <td>170</td>\n",
       "      <td>ANG MO KIO AVE 4</td>\n",
       "      <td>2</td>\n",
       "      <td>45.0</td>\n",
       "      <td>1986</td>\n",
       "      <td>274412.124794</td>\n",
       "      <td>2012</td>\n",
       "      <td>73</td>\n",
       "      <td>0.002538</td>\n",
       "      <td>...</td>\n",
       "      <td>0</td>\n",
       "      <td>0</td>\n",
       "      <td>0</td>\n",
       "      <td>0</td>\n",
       "      <td>0</td>\n",
       "      <td>0</td>\n",
       "      <td>0</td>\n",
       "      <td>0</td>\n",
       "      <td>0.0</td>\n",
       "      <td>1.000000</td>\n",
       "    </tr>\n",
       "    <tr>\n",
       "      <th>4</th>\n",
       "      <td>1</td>\n",
       "      <td>174</td>\n",
       "      <td>ANG MO KIO AVE 4</td>\n",
       "      <td>8</td>\n",
       "      <td>45.0</td>\n",
       "      <td>1986</td>\n",
       "      <td>238527.462321</td>\n",
       "      <td>2012</td>\n",
       "      <td>73</td>\n",
       "      <td>0.003640</td>\n",
       "      <td>...</td>\n",
       "      <td>0</td>\n",
       "      <td>0</td>\n",
       "      <td>0</td>\n",
       "      <td>0</td>\n",
       "      <td>0</td>\n",
       "      <td>0</td>\n",
       "      <td>0</td>\n",
       "      <td>0</td>\n",
       "      <td>0.0</td>\n",
       "      <td>1.000000</td>\n",
       "    </tr>\n",
       "    <tr>\n",
       "      <th>...</th>\n",
       "      <td>...</td>\n",
       "      <td>...</td>\n",
       "      <td>...</td>\n",
       "      <td>...</td>\n",
       "      <td>...</td>\n",
       "      <td>...</td>\n",
       "      <td>...</td>\n",
       "      <td>...</td>\n",
       "      <td>...</td>\n",
       "      <td>...</td>\n",
       "      <td>...</td>\n",
       "      <td>...</td>\n",
       "      <td>...</td>\n",
       "      <td>...</td>\n",
       "      <td>...</td>\n",
       "      <td>...</td>\n",
       "      <td>...</td>\n",
       "      <td>...</td>\n",
       "      <td>...</td>\n",
       "      <td>...</td>\n",
       "      <td>...</td>\n",
       "    </tr>\n",
       "    <tr>\n",
       "      <th>257126</th>\n",
       "      <td>5</td>\n",
       "      <td>325</td>\n",
       "      <td>YISHUN CTRL</td>\n",
       "      <td>5</td>\n",
       "      <td>146.0</td>\n",
       "      <td>1988</td>\n",
       "      <td>742839.373942</td>\n",
       "      <td>2024</td>\n",
       "      <td>63</td>\n",
       "      <td>0.001059</td>\n",
       "      <td>...</td>\n",
       "      <td>0</td>\n",
       "      <td>0</td>\n",
       "      <td>0</td>\n",
       "      <td>0</td>\n",
       "      <td>0</td>\n",
       "      <td>0</td>\n",
       "      <td>0</td>\n",
       "      <td>1</td>\n",
       "      <td>0.5</td>\n",
       "      <td>0.866025</td>\n",
       "    </tr>\n",
       "    <tr>\n",
       "      <th>257127</th>\n",
       "      <td>5</td>\n",
       "      <td>387</td>\n",
       "      <td>YISHUN RING RD</td>\n",
       "      <td>5</td>\n",
       "      <td>142.0</td>\n",
       "      <td>1988</td>\n",
       "      <td>708288.705386</td>\n",
       "      <td>2024</td>\n",
       "      <td>63</td>\n",
       "      <td>0.001722</td>\n",
       "      <td>...</td>\n",
       "      <td>0</td>\n",
       "      <td>0</td>\n",
       "      <td>0</td>\n",
       "      <td>0</td>\n",
       "      <td>0</td>\n",
       "      <td>0</td>\n",
       "      <td>0</td>\n",
       "      <td>1</td>\n",
       "      <td>0.5</td>\n",
       "      <td>0.866025</td>\n",
       "    </tr>\n",
       "    <tr>\n",
       "      <th>257128</th>\n",
       "      <td>5</td>\n",
       "      <td>355</td>\n",
       "      <td>YISHUN RING RD</td>\n",
       "      <td>2</td>\n",
       "      <td>154.0</td>\n",
       "      <td>1988</td>\n",
       "      <td>734201.706803</td>\n",
       "      <td>2024</td>\n",
       "      <td>63</td>\n",
       "      <td>0.004412</td>\n",
       "      <td>...</td>\n",
       "      <td>0</td>\n",
       "      <td>0</td>\n",
       "      <td>0</td>\n",
       "      <td>0</td>\n",
       "      <td>0</td>\n",
       "      <td>0</td>\n",
       "      <td>0</td>\n",
       "      <td>1</td>\n",
       "      <td>0.5</td>\n",
       "      <td>0.866025</td>\n",
       "    </tr>\n",
       "    <tr>\n",
       "      <th>257129</th>\n",
       "      <td>5</td>\n",
       "      <td>606</td>\n",
       "      <td>YISHUN ST 61</td>\n",
       "      <td>11</td>\n",
       "      <td>142.0</td>\n",
       "      <td>1987</td>\n",
       "      <td>686694.537539</td>\n",
       "      <td>2024</td>\n",
       "      <td>62</td>\n",
       "      <td>0.003777</td>\n",
       "      <td>...</td>\n",
       "      <td>0</td>\n",
       "      <td>0</td>\n",
       "      <td>0</td>\n",
       "      <td>0</td>\n",
       "      <td>0</td>\n",
       "      <td>0</td>\n",
       "      <td>0</td>\n",
       "      <td>1</td>\n",
       "      <td>0.5</td>\n",
       "      <td>0.866025</td>\n",
       "    </tr>\n",
       "    <tr>\n",
       "      <th>257130</th>\n",
       "      <td>5</td>\n",
       "      <td>824</td>\n",
       "      <td>YISHUN ST 81</td>\n",
       "      <td>8</td>\n",
       "      <td>146.0</td>\n",
       "      <td>1987</td>\n",
       "      <td>807621.877483</td>\n",
       "      <td>2024</td>\n",
       "      <td>62</td>\n",
       "      <td>0.003844</td>\n",
       "      <td>...</td>\n",
       "      <td>0</td>\n",
       "      <td>0</td>\n",
       "      <td>0</td>\n",
       "      <td>0</td>\n",
       "      <td>0</td>\n",
       "      <td>0</td>\n",
       "      <td>0</td>\n",
       "      <td>1</td>\n",
       "      <td>0.5</td>\n",
       "      <td>0.866025</td>\n",
       "    </tr>\n",
       "  </tbody>\n",
       "</table>\n",
       "<p>257030 rows × 57 columns</p>\n",
       "</div>"
      ],
      "text/plain": [
       "        flat_type block        street_name  storey_range  floor_area_sqm  \\\n",
       "0               1   406  ANG MO KIO AVE 10             2            44.0   \n",
       "1               1   314   ANG MO KIO AVE 3             8            44.0   \n",
       "2               1   314   ANG MO KIO AVE 3            11            44.0   \n",
       "3               1   170   ANG MO KIO AVE 4             2            45.0   \n",
       "4               1   174   ANG MO KIO AVE 4             8            45.0   \n",
       "...           ...   ...                ...           ...             ...   \n",
       "257126          5   325        YISHUN CTRL             5           146.0   \n",
       "257127          5   387     YISHUN RING RD             5           142.0   \n",
       "257128          5   355     YISHUN RING RD             2           154.0   \n",
       "257129          5   606       YISHUN ST 61            11           142.0   \n",
       "257130          5   824       YISHUN ST 81             8           146.0   \n",
       "\n",
       "        lease_commence_date   resale_price  year  remaining_lease  mrt_dist  \\\n",
       "0                      1979  272090.176046  2012               66  0.004521   \n",
       "1                      1978  277578.418542  2012               65  0.003707   \n",
       "2                      1978  290243.593532  2012               65  0.003707   \n",
       "3                      1986  274412.124794  2012               73  0.002538   \n",
       "4                      1986  238527.462321  2012               73  0.003640   \n",
       "...                     ...            ...   ...              ...       ...   \n",
       "257126                 1988  742839.373942  2024               63  0.001059   \n",
       "257127                 1988  708288.705386  2024               63  0.001722   \n",
       "257128                 1988  734201.706803  2024               63  0.004412   \n",
       "257129                 1987  686694.537539  2024               62  0.003777   \n",
       "257130                 1987  807621.877483  2024               62  0.003844   \n",
       "\n",
       "        ...  town_QUEENSTOWN  town_SEMBAWANG  town_SENGKANG  town_SERANGOON  \\\n",
       "0       ...                0               0              0               0   \n",
       "1       ...                0               0              0               0   \n",
       "2       ...                0               0              0               0   \n",
       "3       ...                0               0              0               0   \n",
       "4       ...                0               0              0               0   \n",
       "...     ...              ...             ...            ...             ...   \n",
       "257126  ...                0               0              0               0   \n",
       "257127  ...                0               0              0               0   \n",
       "257128  ...                0               0              0               0   \n",
       "257129  ...                0               0              0               0   \n",
       "257130  ...                0               0              0               0   \n",
       "\n",
       "        town_TAMPINES  town_TOA PAYOH  town_WOODLANDS  town_YISHUN  month_sin  \\\n",
       "0                   0               0               0            0        0.0   \n",
       "1                   0               0               0            0        0.0   \n",
       "2                   0               0               0            0        0.0   \n",
       "3                   0               0               0            0        0.0   \n",
       "4                   0               0               0            0        0.0   \n",
       "...               ...             ...             ...          ...        ...   \n",
       "257126              0               0               0            1        0.5   \n",
       "257127              0               0               0            1        0.5   \n",
       "257128              0               0               0            1        0.5   \n",
       "257129              0               0               0            1        0.5   \n",
       "257130              0               0               0            1        0.5   \n",
       "\n",
       "        month_cos  \n",
       "0        1.000000  \n",
       "1        1.000000  \n",
       "2        1.000000  \n",
       "3        1.000000  \n",
       "4        1.000000  \n",
       "...           ...  \n",
       "257126   0.866025  \n",
       "257127   0.866025  \n",
       "257128   0.866025  \n",
       "257129   0.866025  \n",
       "257130   0.866025  \n",
       "\n",
       "[257030 rows x 57 columns]"
      ]
     },
     "execution_count": 39,
     "metadata": {},
     "output_type": "execute_result"
    }
   ],
   "source": [
    "resale_df_with_coord"
   ]
  },
  {
   "cell_type": "code",
   "execution_count": 40,
   "id": "5248f2f1-2924-4f50-82d9-9a0aacb4e450",
   "metadata": {
    "colab": {
     "base_uri": "https://localhost:8080/"
    },
    "executionInfo": {
     "elapsed": 478,
     "status": "ok",
     "timestamp": 1712679192258,
     "user": {
      "displayName": "Nguyen Ngoc Yen Nga",
      "userId": "05910121350828163339"
     },
     "user_tz": -480
    },
    "id": "5248f2f1-2924-4f50-82d9-9a0aacb4e450",
    "outputId": "8162c0ec-9ec7-4703-c73d-e181c6746e53"
   },
   "outputs": [
    {
     "name": "stdout",
     "output_type": "stream",
     "text": [
      "Shape of X_train: (231327, 53)\n",
      "Shape of X_test: (25703, 53)\n",
      "Shape of y_train: (231327,)\n",
      "Shape of y_test: (25703,)\n"
     ]
    }
   ],
   "source": [
    "from sklearn.model_selection import train_test_split\n",
    "\n",
    "# Train Test Split\n",
    "y = resale_df_with_coord['resale_price']\n",
    "X = resale_df_with_coord.drop(['resale_price', 'street_name', 'block', 'year'], axis=1)\n",
    "\n",
    "X_train, X_test, y_train, y_test = train_test_split(X,y, test_size = 0.1, shuffle=True, random_state=0)\n",
    "print('Shape of X_train:', X_train.shape)\n",
    "print('Shape of X_test:', X_test.shape)\n",
    "print('Shape of y_train:', y_train.shape)\n",
    "print('Shape of y_test:', y_test.shape)"
   ]
  },
  {
   "cell_type": "markdown",
   "id": "979071cf-5f5b-4dff-a7df-c18cab8477ac",
   "metadata": {},
   "source": [
    "**`r2`**"
   ]
  },
  {
   "cell_type": "code",
   "execution_count": 41,
   "id": "6f03086b-ec9a-4320-a49f-6f4cf17a5cd0",
   "metadata": {
    "colab": {
     "base_uri": "https://localhost:8080/"
    },
    "executionInfo": {
     "elapsed": 1201,
     "status": "ok",
     "timestamp": 1712679195963,
     "user": {
      "displayName": "Nguyen Ngoc Yen Nga",
      "userId": "05910121350828163339"
     },
     "user_tz": -480
    },
    "id": "6f03086b-ec9a-4320-a49f-6f4cf17a5cd0",
    "outputId": "9cc95442-8347-47ab-f711-308f4f07bb2d"
   },
   "outputs": [
    {
     "data": {
      "text/plain": [
       "0.8786159709498538"
      ]
     },
     "execution_count": 41,
     "metadata": {},
     "output_type": "execute_result"
    }
   ],
   "source": [
    "cross_val_score(LinearRegression(),\n",
    "                X_train, np.log(y_train),\n",
    "                cv=3,\n",
    "                scoring='r2').mean()"
   ]
  },
  {
   "cell_type": "markdown",
   "id": "3fe2a673-ef3b-4423-a1e5-1e57ce95fa62",
   "metadata": {},
   "source": [
    "**`rmse`**"
   ]
  },
  {
   "cell_type": "code",
   "execution_count": 42,
   "id": "39132807-037a-44d3-b13e-7adf87349bc5",
   "metadata": {},
   "outputs": [
    {
     "data": {
      "text/plain": [
       "0.10536486683918506"
      ]
     },
     "execution_count": 42,
     "metadata": {},
     "output_type": "execute_result"
    }
   ],
   "source": [
    "cross_val_score(LinearRegression(),\n",
    "                X_train, np.log(y_train),\n",
    "                cv=3,\n",
    "                scoring=rmse).mean()"
   ]
  },
  {
   "cell_type": "markdown",
   "id": "wvCLc5BwGBJk",
   "metadata": {
    "id": "wvCLc5BwGBJk"
   },
   "source": [
    "#### 5.1.4.Initial Random Forest Model"
   ]
  },
  {
   "cell_type": "code",
   "execution_count": 43,
   "id": "52e30091-04be-4323-8f8b-5f2614264402",
   "metadata": {
    "colab": {
     "base_uri": "https://localhost:8080/"
    },
    "executionInfo": {
     "elapsed": 248044,
     "status": "ok",
     "timestamp": 1712679463031,
     "user": {
      "displayName": "Nguyen Ngoc Yen Nga",
      "userId": "05910121350828163339"
     },
     "user_tz": -480
    },
    "id": "52e30091-04be-4323-8f8b-5f2614264402",
    "outputId": "74cb7b96-b8af-4e7d-d139-3e760dca7c48"
   },
   "outputs": [
    {
     "name": "stdout",
     "output_type": "stream",
     "text": [
      "Out-of-bag R² score estimate:  0.97\n"
     ]
    }
   ],
   "source": [
    "from sklearn.ensemble import RandomForestRegressor\n",
    "from sklearn.metrics import r2_score, mean_absolute_error\n",
    "from scipy.stats import spearmanr, pearsonr\n",
    "\n",
    "# Validation using out-of-bag method\n",
    "rf = RandomForestRegressor(n_estimators=100, oob_score=True, random_state=0)\n",
    "rf.fit(X_train, y_train)\n",
    "predicted_train = rf.predict(X_train)\n",
    "\n",
    "print(f'Out-of-bag R\\u00b2 score estimate: {rf.oob_score_:>5.3}')"
   ]
  },
  {
   "cell_type": "code",
   "execution_count": 44,
   "id": "b72d9cab-c2e5-4d74-a162-b2c6ecc36075",
   "metadata": {
    "colab": {
     "base_uri": "https://localhost:8080/"
    },
    "executionInfo": {
     "elapsed": 1325,
     "status": "ok",
     "timestamp": 1712679464354,
     "user": {
      "displayName": "Nguyen Ngoc Yen Nga",
      "userId": "05910121350828163339"
     },
     "user_tz": -480
    },
    "id": "b72d9cab-c2e5-4d74-a162-b2c6ecc36075",
    "outputId": "e1f5f9d6-6aeb-48de-dc99-ec85c4b13db0"
   },
   "outputs": [
    {
     "name": "stdout",
     "output_type": "stream",
     "text": [
      "Test data R² score:  0.97\n",
      "Test data Spearman correlation: 0.984\n",
      "Test data Pearson correlation: 0.985\n",
      "Test data Mean Absolute Error: 18270\n"
     ]
    }
   ],
   "source": [
    "predicted_test = rf.predict(X_test)\n",
    "oob_test_score = r2_score(y_test, predicted_test)\n",
    "spearman = spearmanr(y_test, predicted_test)\n",
    "pearson = pearsonr(y_test, predicted_test)\n",
    "oob_mae = mean_absolute_error(y_test, predicted_test)\n",
    "\n",
    "print(f'Test data R\\u00b2 score: {oob_test_score:>5.3}')\n",
    "print(f'Test data Spearman correlation: {spearman[0]:.3}')\n",
    "print(f'Test data Pearson correlation: {pearson[0]:.3}')\n",
    "print(f'Test data Mean Absolute Error: {round(oob_mae)}')"
   ]
  },
  {
   "cell_type": "markdown",
   "id": "5b317fb8-860c-4cdc-aae9-a0d123e149e6",
   "metadata": {},
   "source": [
    "**`rmse`**"
   ]
  },
  {
   "cell_type": "code",
   "execution_count": 45,
   "id": "358f9289-addf-4e8d-b10a-74fe6544611a",
   "metadata": {},
   "outputs": [
    {
     "name": "stdout",
     "output_type": "stream",
     "text": [
      "Test data Root Mean Absolute Error: 135.16604118027038\n"
     ]
    }
   ],
   "source": [
    "print(f'Test data Root Mean Absolute Error: {np.sqrt(oob_mae)}')"
   ]
  },
  {
   "cell_type": "code",
   "execution_count": 46,
   "id": "6eed8a3c-4652-41c1-9c93-ec4578ba0977",
   "metadata": {
    "colab": {
     "base_uri": "https://localhost:8080/"
    },
    "executionInfo": {
     "elapsed": 8,
     "status": "ok",
     "timestamp": 1712679464354,
     "user": {
      "displayName": "Nguyen Ngoc Yen Nga",
      "userId": "05910121350828163339"
     },
     "user_tz": -480
    },
    "id": "6eed8a3c-4652-41c1-9c93-ec4578ba0977",
    "outputId": "73ebd163-24eb-46bc-9867-366717ddc615"
   },
   "outputs": [
    {
     "data": {
      "text/plain": [
       "array([346294.64727417, 237588.47695887, 371347.50360894, ...,\n",
       "       579286.0149532 , 385750.17984299, 253809.63282206])"
      ]
     },
     "execution_count": 46,
     "metadata": {},
     "output_type": "execute_result"
    }
   ],
   "source": [
    "y_test.values"
   ]
  },
  {
   "cell_type": "code",
   "execution_count": 47,
   "id": "bc13e3d2-1493-4fa6-81aa-8b0d29e4c058",
   "metadata": {
    "colab": {
     "base_uri": "https://localhost:8080/"
    },
    "executionInfo": {
     "elapsed": 7,
     "status": "ok",
     "timestamp": 1712679464354,
     "user": {
      "displayName": "Nguyen Ngoc Yen Nga",
      "userId": "05910121350828163339"
     },
     "user_tz": -480
    },
    "id": "bc13e3d2-1493-4fa6-81aa-8b0d29e4c058",
    "outputId": "9e9aaffd-ed1f-49c2-8707-840c2275c054"
   },
   "outputs": [
    {
     "data": {
      "text/plain": [
       "array([351146.21505911, 241882.49364109, 388005.77314305, ...,\n",
       "       578964.40307027, 404001.91805929, 246391.51079316])"
      ]
     },
     "execution_count": 47,
     "metadata": {},
     "output_type": "execute_result"
    }
   ],
   "source": [
    "predicted_test"
   ]
  },
  {
   "cell_type": "code",
   "execution_count": 48,
   "id": "0c0b9300-7a7a-424c-acc6-8433eede2407",
   "metadata": {
    "executionInfo": {
     "elapsed": 6,
     "status": "ok",
     "timestamp": 1712679464354,
     "user": {
      "displayName": "Nguyen Ngoc Yen Nga",
      "userId": "05910121350828163339"
     },
     "user_tz": -480
    },
    "id": "0c0b9300-7a7a-424c-acc6-8433eede2407"
   },
   "outputs": [],
   "source": [
    "result1 = np.concatenate(([y_test.values], [predicted_test],[y_test.values - predicted_test])).T\n",
    "result1_df = pd.DataFrame(result1, columns=['actual','predict','difference'])"
   ]
  },
  {
   "cell_type": "code",
   "execution_count": 49,
   "id": "cdb5d3ea-7806-4901-b5ed-19093b3556e9",
   "metadata": {
    "colab": {
     "base_uri": "https://localhost:8080/",
     "height": 423
    },
    "executionInfo": {
     "elapsed": 6,
     "status": "ok",
     "timestamp": 1712679464354,
     "user": {
      "displayName": "Nguyen Ngoc Yen Nga",
      "userId": "05910121350828163339"
     },
     "user_tz": -480
    },
    "id": "cdb5d3ea-7806-4901-b5ed-19093b3556e9",
    "outputId": "2afca511-0220-406e-ba84-05ecd7bcdd08"
   },
   "outputs": [
    {
     "data": {
      "text/html": [
       "<div>\n",
       "<style scoped>\n",
       "    .dataframe tbody tr th:only-of-type {\n",
       "        vertical-align: middle;\n",
       "    }\n",
       "\n",
       "    .dataframe tbody tr th {\n",
       "        vertical-align: top;\n",
       "    }\n",
       "\n",
       "    .dataframe thead th {\n",
       "        text-align: right;\n",
       "    }\n",
       "</style>\n",
       "<table border=\"1\" class=\"dataframe\">\n",
       "  <thead>\n",
       "    <tr style=\"text-align: right;\">\n",
       "      <th></th>\n",
       "      <th>actual</th>\n",
       "      <th>predict</th>\n",
       "      <th>difference</th>\n",
       "    </tr>\n",
       "  </thead>\n",
       "  <tbody>\n",
       "    <tr>\n",
       "      <th>0</th>\n",
       "      <td>346294.647274</td>\n",
       "      <td>351146.215059</td>\n",
       "      <td>-4851.567785</td>\n",
       "    </tr>\n",
       "    <tr>\n",
       "      <th>1</th>\n",
       "      <td>237588.476959</td>\n",
       "      <td>241882.493641</td>\n",
       "      <td>-4294.016682</td>\n",
       "    </tr>\n",
       "    <tr>\n",
       "      <th>2</th>\n",
       "      <td>371347.503609</td>\n",
       "      <td>388005.773143</td>\n",
       "      <td>-16658.269534</td>\n",
       "    </tr>\n",
       "    <tr>\n",
       "      <th>3</th>\n",
       "      <td>482181.567698</td>\n",
       "      <td>457750.199889</td>\n",
       "      <td>24431.367808</td>\n",
       "    </tr>\n",
       "    <tr>\n",
       "      <th>4</th>\n",
       "      <td>235581.887262</td>\n",
       "      <td>255662.990332</td>\n",
       "      <td>-20081.103070</td>\n",
       "    </tr>\n",
       "    <tr>\n",
       "      <th>...</th>\n",
       "      <td>...</td>\n",
       "      <td>...</td>\n",
       "      <td>...</td>\n",
       "    </tr>\n",
       "    <tr>\n",
       "      <th>25698</th>\n",
       "      <td>542135.387887</td>\n",
       "      <td>546565.067596</td>\n",
       "      <td>-4429.679708</td>\n",
       "    </tr>\n",
       "    <tr>\n",
       "      <th>25699</th>\n",
       "      <td>393421.984420</td>\n",
       "      <td>407076.067666</td>\n",
       "      <td>-13654.083245</td>\n",
       "    </tr>\n",
       "    <tr>\n",
       "      <th>25700</th>\n",
       "      <td>579286.014953</td>\n",
       "      <td>578964.403070</td>\n",
       "      <td>321.611883</td>\n",
       "    </tr>\n",
       "    <tr>\n",
       "      <th>25701</th>\n",
       "      <td>385750.179843</td>\n",
       "      <td>404001.918059</td>\n",
       "      <td>-18251.738216</td>\n",
       "    </tr>\n",
       "    <tr>\n",
       "      <th>25702</th>\n",
       "      <td>253809.632822</td>\n",
       "      <td>246391.510793</td>\n",
       "      <td>7418.122029</td>\n",
       "    </tr>\n",
       "  </tbody>\n",
       "</table>\n",
       "<p>25703 rows × 3 columns</p>\n",
       "</div>"
      ],
      "text/plain": [
       "              actual        predict    difference\n",
       "0      346294.647274  351146.215059  -4851.567785\n",
       "1      237588.476959  241882.493641  -4294.016682\n",
       "2      371347.503609  388005.773143 -16658.269534\n",
       "3      482181.567698  457750.199889  24431.367808\n",
       "4      235581.887262  255662.990332 -20081.103070\n",
       "...              ...            ...           ...\n",
       "25698  542135.387887  546565.067596  -4429.679708\n",
       "25699  393421.984420  407076.067666 -13654.083245\n",
       "25700  579286.014953  578964.403070    321.611883\n",
       "25701  385750.179843  404001.918059 -18251.738216\n",
       "25702  253809.632822  246391.510793   7418.122029\n",
       "\n",
       "[25703 rows x 3 columns]"
      ]
     },
     "execution_count": 49,
     "metadata": {},
     "output_type": "execute_result"
    }
   ],
   "source": [
    "result1_df"
   ]
  },
  {
   "cell_type": "code",
   "execution_count": 50,
   "id": "00d9b6c1-b678-47a8-8173-67d08b9abed7",
   "metadata": {
    "colab": {
     "base_uri": "https://localhost:8080/",
     "height": 423
    },
    "executionInfo": {
     "elapsed": 5,
     "status": "ok",
     "timestamp": 1712679464354,
     "user": {
      "displayName": "Nguyen Ngoc Yen Nga",
      "userId": "05910121350828163339"
     },
     "user_tz": -480
    },
    "id": "00d9b6c1-b678-47a8-8173-67d08b9abed7",
    "outputId": "91449e50-5ed6-438d-e9a1-e3dd92f34cf5"
   },
   "outputs": [
    {
     "data": {
      "text/html": [
       "<div>\n",
       "<style scoped>\n",
       "    .dataframe tbody tr th:only-of-type {\n",
       "        vertical-align: middle;\n",
       "    }\n",
       "\n",
       "    .dataframe tbody tr th {\n",
       "        vertical-align: top;\n",
       "    }\n",
       "\n",
       "    .dataframe thead th {\n",
       "        text-align: right;\n",
       "    }\n",
       "</style>\n",
       "<table border=\"1\" class=\"dataframe\">\n",
       "  <thead>\n",
       "    <tr style=\"text-align: right;\">\n",
       "      <th></th>\n",
       "      <th>code</th>\n",
       "      <th>name</th>\n",
       "      <th>lat</th>\n",
       "      <th>lng</th>\n",
       "      <th>year</th>\n",
       "      <th>month</th>\n",
       "    </tr>\n",
       "  </thead>\n",
       "  <tbody>\n",
       "    <tr>\n",
       "      <th>0</th>\n",
       "      <td>NS1</td>\n",
       "      <td>JURONG EAST</td>\n",
       "      <td>1.333295</td>\n",
       "      <td>103.742154</td>\n",
       "      <td>1990</td>\n",
       "      <td>3</td>\n",
       "    </tr>\n",
       "    <tr>\n",
       "      <th>1</th>\n",
       "      <td>NS2</td>\n",
       "      <td>BUKIT BATOK</td>\n",
       "      <td>1.349035</td>\n",
       "      <td>103.749526</td>\n",
       "      <td>1990</td>\n",
       "      <td>3</td>\n",
       "    </tr>\n",
       "    <tr>\n",
       "      <th>2</th>\n",
       "      <td>NS3</td>\n",
       "      <td>BUKIT GOMBAK</td>\n",
       "      <td>1.358663</td>\n",
       "      <td>103.751913</td>\n",
       "      <td>1990</td>\n",
       "      <td>3</td>\n",
       "    </tr>\n",
       "    <tr>\n",
       "      <th>3</th>\n",
       "      <td>NS4</td>\n",
       "      <td>CHOA CHU KANG</td>\n",
       "      <td>1.385363</td>\n",
       "      <td>103.744371</td>\n",
       "      <td>1990</td>\n",
       "      <td>3</td>\n",
       "    </tr>\n",
       "    <tr>\n",
       "      <th>4</th>\n",
       "      <td>NS5</td>\n",
       "      <td>YEW TEE</td>\n",
       "      <td>1.397476</td>\n",
       "      <td>103.747418</td>\n",
       "      <td>1996</td>\n",
       "      <td>2</td>\n",
       "    </tr>\n",
       "    <tr>\n",
       "      <th>...</th>\n",
       "      <td>...</td>\n",
       "      <td>...</td>\n",
       "      <td>...</td>\n",
       "      <td>...</td>\n",
       "      <td>...</td>\n",
       "      <td>...</td>\n",
       "    </tr>\n",
       "    <tr>\n",
       "      <th>157</th>\n",
       "      <td>TE17</td>\n",
       "      <td>OUTRAM PARK</td>\n",
       "      <td>1.280242</td>\n",
       "      <td>103.840052</td>\n",
       "      <td>2022</td>\n",
       "      <td>11</td>\n",
       "    </tr>\n",
       "    <tr>\n",
       "      <th>158</th>\n",
       "      <td>TE18</td>\n",
       "      <td>MAXWELL</td>\n",
       "      <td>1.280533</td>\n",
       "      <td>103.843884</td>\n",
       "      <td>2022</td>\n",
       "      <td>11</td>\n",
       "    </tr>\n",
       "    <tr>\n",
       "      <th>159</th>\n",
       "      <td>TE19</td>\n",
       "      <td>SHENTON WAY</td>\n",
       "      <td>1.277717</td>\n",
       "      <td>103.850368</td>\n",
       "      <td>2022</td>\n",
       "      <td>11</td>\n",
       "    </tr>\n",
       "    <tr>\n",
       "      <th>160</th>\n",
       "      <td>TE20</td>\n",
       "      <td>MARINA BAY</td>\n",
       "      <td>1.276311</td>\n",
       "      <td>103.854605</td>\n",
       "      <td>2022</td>\n",
       "      <td>11</td>\n",
       "    </tr>\n",
       "    <tr>\n",
       "      <th>161</th>\n",
       "      <td>TE22</td>\n",
       "      <td>GARDENS BY THE BAY</td>\n",
       "      <td>1.278487</td>\n",
       "      <td>103.867455</td>\n",
       "      <td>2022</td>\n",
       "      <td>11</td>\n",
       "    </tr>\n",
       "  </tbody>\n",
       "</table>\n",
       "<p>162 rows × 6 columns</p>\n",
       "</div>"
      ],
      "text/plain": [
       "     code                name       lat         lng  year  month\n",
       "0     NS1         JURONG EAST  1.333295  103.742154  1990      3\n",
       "1     NS2         BUKIT BATOK  1.349035  103.749526  1990      3\n",
       "2     NS3        BUKIT GOMBAK  1.358663  103.751913  1990      3\n",
       "3     NS4       CHOA CHU KANG  1.385363  103.744371  1990      3\n",
       "4     NS5             YEW TEE  1.397476  103.747418  1996      2\n",
       "..    ...                 ...       ...         ...   ...    ...\n",
       "157  TE17         OUTRAM PARK  1.280242  103.840052  2022     11\n",
       "158  TE18             MAXWELL  1.280533  103.843884  2022     11\n",
       "159  TE19         SHENTON WAY  1.277717  103.850368  2022     11\n",
       "160  TE20          MARINA BAY  1.276311  103.854605  2022     11\n",
       "161  TE22  GARDENS BY THE BAY  1.278487  103.867455  2022     11\n",
       "\n",
       "[162 rows x 6 columns]"
      ]
     },
     "execution_count": 50,
     "metadata": {},
     "output_type": "execute_result"
    }
   ],
   "source": [
    "mrt_locations"
   ]
  },
  {
   "cell_type": "markdown",
   "id": "ttWZP_ECFjR2",
   "metadata": {
    "id": "ttWZP_ECFjR2"
   },
   "source": [
    "### 5.2.Enhanced Model Exploration and Evaluation"
   ]
  },
  {
   "cell_type": "code",
   "execution_count": 51,
   "id": "jn2GeDB0XGPo",
   "metadata": {
    "executionInfo": {
     "elapsed": 4,
     "status": "ok",
     "timestamp": 1712679464354,
     "user": {
      "displayName": "Nguyen Ngoc Yen Nga",
      "userId": "05910121350828163339"
     },
     "user_tz": -480
    },
    "id": "jn2GeDB0XGPo"
   },
   "outputs": [],
   "source": [
    "from sklearn.model_selection import train_test_split\n",
    "\n",
    "# Train Test Split\n",
    "y = resale_df_with_coord['resale_price']\n",
    "X = resale_df_with_coord.drop(['resale_price', 'lease_commence_date', 'street_name', 'block', 'year'], axis=1)"
   ]
  },
  {
   "cell_type": "markdown",
   "id": "5lwiwbHGXQTm",
   "metadata": {
    "id": "5lwiwbHGXQTm"
   },
   "source": [
    "#### 5.2.1.Data Split for Linear and Advanced Models"
   ]
  },
  {
   "cell_type": "code",
   "execution_count": 52,
   "id": "AkJXcJ4sXmGd",
   "metadata": {
    "executionInfo": {
     "elapsed": 4,
     "status": "ok",
     "timestamp": 1712679464354,
     "user": {
      "displayName": "Nguyen Ngoc Yen Nga",
      "userId": "05910121350828163339"
     },
     "user_tz": -480
    },
    "id": "AkJXcJ4sXmGd"
   },
   "outputs": [],
   "source": [
    "y_log = np.log(y)"
   ]
  },
  {
   "cell_type": "code",
   "execution_count": 53,
   "id": "0symLQ5AXMfJ",
   "metadata": {
    "executionInfo": {
     "elapsed": 4,
     "status": "ok",
     "timestamp": 1712679464354,
     "user": {
      "displayName": "Nguyen Ngoc Yen Nga",
      "userId": "05910121350828163339"
     },
     "user_tz": -480
    },
    "id": "0symLQ5AXMfJ"
   },
   "outputs": [],
   "source": [
    "from sklearn.preprocessing import StandardScaler\n",
    "scaler = StandardScaler()\n",
    "\n",
    "# fit to continuous columns and transform\n",
    "scaled_columns = ['floor_area_sqm','mrt_dist','school_dist','mall_dist','upcoming_mrt_dist']\n",
    "scaler.fit(X[scaled_columns])\n",
    "scaled_columns = pd.DataFrame(scaler.transform(X[scaled_columns]), index=X.index, columns=scaled_columns)\n",
    "\n",
    "# separate unscaled features\n",
    "unscaled_columns = X.drop(scaled_columns, axis=1)\n",
    "\n",
    "# concatenate scaled and unscaled features\n",
    "X_scaled = pd.concat([scaled_columns,unscaled_columns], axis=1)"
   ]
  },
  {
   "cell_type": "code",
   "execution_count": 54,
   "id": "VNi5CZaBXKf_",
   "metadata": {
    "colab": {
     "base_uri": "https://localhost:8080/"
    },
    "executionInfo": {
     "elapsed": 5,
     "status": "ok",
     "timestamp": 1712679464355,
     "user": {
      "displayName": "Nguyen Ngoc Yen Nga",
      "userId": "05910121350828163339"
     },
     "user_tz": -480
    },
    "id": "VNi5CZaBXKf_",
    "outputId": "5aae8282-f694-40dc-d360-18940005db40"
   },
   "outputs": [
    {
     "name": "stdout",
     "output_type": "stream",
     "text": [
      "Shape of X_train: (231327, 52)\n",
      "Shape of X_test: (25703, 52)\n",
      "Shape of y_train: (231327,)\n",
      "Shape of y_test: (25703,)\n"
     ]
    }
   ],
   "source": [
    "X_train, X_test, y_train, y_test = train_test_split(X,y, test_size = 0.1, shuffle=True, random_state=0)\n",
    "print('Shape of X_train:', X_train.shape)\n",
    "print('Shape of X_test:', X_test.shape)\n",
    "print('Shape of y_train:', y_train.shape)\n",
    "print('Shape of y_test:', y_test.shape)"
   ]
  },
  {
   "cell_type": "code",
   "execution_count": 55,
   "id": "0jXLvI7-YajA",
   "metadata": {
    "colab": {
     "base_uri": "https://localhost:8080/"
    },
    "executionInfo": {
     "elapsed": 496,
     "status": "ok",
     "timestamp": 1712679464847,
     "user": {
      "displayName": "Nguyen Ngoc Yen Nga",
      "userId": "05910121350828163339"
     },
     "user_tz": -480
    },
    "id": "0jXLvI7-YajA",
    "outputId": "e96edf2a-9abe-4b96-900f-29efa40fa80e"
   },
   "outputs": [
    {
     "name": "stdout",
     "output_type": "stream",
     "text": [
      "Shape of X_scaled_train: (231327, 52)\n",
      "Shape of X_scaled_test: (25703, 52)\n",
      "Shape of y_log_train: (231327,)\n",
      "Shape of y_log_test: (25703,)\n"
     ]
    }
   ],
   "source": [
    "X_scaled_train, X_scaled_test, y_log_train, y_log_test = train_test_split(X_scaled, y_log, test_size = 0.1, shuffle=True, random_state=0)\n",
    "print('Shape of X_scaled_train:', X_scaled_train.shape)\n",
    "print('Shape of X_scaled_test:', X_scaled_test.shape)\n",
    "print('Shape of y_log_train:', y_log_train.shape)\n",
    "print('Shape of y_log_test:', y_log_test.shape)"
   ]
  },
  {
   "cell_type": "markdown",
   "id": "8eed9612-3086-470f-a07f-92ac2ab24491",
   "metadata": {
    "id": "8eed9612-3086-470f-a07f-92ac2ab24491"
   },
   "source": [
    "#### 5.2.2.Linear Model Variants (Linear Regression, Ridge Regression)"
   ]
  },
  {
   "cell_type": "markdown",
   "id": "a06b01f7-22c5-4b72-a847-95a54ed81464",
   "metadata": {},
   "source": [
    "**`r2`**"
   ]
  },
  {
   "cell_type": "code",
   "execution_count": 56,
   "id": "6956ed59-3daf-48e1-ba4d-b198ae6e67df",
   "metadata": {
    "colab": {
     "base_uri": "https://localhost:8080/"
    },
    "executionInfo": {
     "elapsed": 1347,
     "status": "ok",
     "timestamp": 1712679488687,
     "user": {
      "displayName": "Nguyen Ngoc Yen Nga",
      "userId": "05910121350828163339"
     },
     "user_tz": -480
    },
    "id": "6956ed59-3daf-48e1-ba4d-b198ae6e67df",
    "outputId": "dad986a9-54bb-4f7c-cf6b-656ab4ae34fd"
   },
   "outputs": [
    {
     "data": {
      "text/plain": [
       "0.8729131925758707"
      ]
     },
     "execution_count": 56,
     "metadata": {},
     "output_type": "execute_result"
    }
   ],
   "source": [
    "from sklearn.linear_model import Ridge, Lasso, LinearRegression\n",
    "\n",
    "cross_val_score(LinearRegression(), X_scaled_train, y_log_train, cv=3, scoring='r2').mean()"
   ]
  },
  {
   "cell_type": "markdown",
   "id": "ac7e7c30-51cc-4eab-9102-edd432685f74",
   "metadata": {},
   "source": [
    "**`rmse`**"
   ]
  },
  {
   "cell_type": "code",
   "execution_count": 57,
   "id": "ecfd59ac-2e02-4e5a-a94c-f10d30e9ae7e",
   "metadata": {},
   "outputs": [
    {
     "data": {
      "text/plain": [
       "0.10781146590687386"
      ]
     },
     "execution_count": 57,
     "metadata": {},
     "output_type": "execute_result"
    }
   ],
   "source": [
    "cross_val_score(LinearRegression(), X_scaled_train, y_log_train, cv=3, scoring=rmse).mean()"
   ]
  },
  {
   "cell_type": "markdown",
   "id": "fbe1e197-d6a0-4331-8301-dfff32cf920c",
   "metadata": {},
   "source": [
    "**`r2`**"
   ]
  },
  {
   "cell_type": "code",
   "execution_count": 58,
   "id": "t1wYxWkLYzds",
   "metadata": {
    "colab": {
     "base_uri": "https://localhost:8080/"
    },
    "executionInfo": {
     "elapsed": 1477,
     "status": "ok",
     "timestamp": 1712679492083,
     "user": {
      "displayName": "Nguyen Ngoc Yen Nga",
      "userId": "05910121350828163339"
     },
     "user_tz": -480
    },
    "id": "t1wYxWkLYzds",
    "outputId": "fbc5cb59-887e-498a-f24d-8f48c8b4bea7"
   },
   "outputs": [
    {
     "data": {
      "text/plain": [
       "0.8729179752033465"
      ]
     },
     "execution_count": 58,
     "metadata": {},
     "output_type": "execute_result"
    }
   ],
   "source": [
    "cross_val_score(Ridge(), X_scaled_train, y_log_train, cv=5, scoring='r2').mean()"
   ]
  },
  {
   "cell_type": "markdown",
   "id": "a0e5f5c4-a4fd-4b45-bf55-cba137617666",
   "metadata": {},
   "source": [
    "**`rmse`**"
   ]
  },
  {
   "cell_type": "code",
   "execution_count": 59,
   "id": "a69247d0-c713-4f45-ae31-142856bf1b1b",
   "metadata": {},
   "outputs": [
    {
     "data": {
      "text/plain": [
       "0.1078086036013445"
      ]
     },
     "execution_count": 59,
     "metadata": {},
     "output_type": "execute_result"
    }
   ],
   "source": [
    "cross_val_score(Ridge(), X_scaled_train, y_log_train, cv=5, scoring=rmse).mean()"
   ]
  },
  {
   "cell_type": "code",
   "execution_count": 60,
   "id": "e11134ee-ace0-493d-b27a-0a9254102d19",
   "metadata": {
    "colab": {
     "base_uri": "https://localhost:8080/"
    },
    "executionInfo": {
     "elapsed": 5276,
     "status": "ok",
     "timestamp": 1712675356961,
     "user": {
      "displayName": "Nguyen Ngoc Yen Nga",
      "userId": "05910121350828163339"
     },
     "user_tz": -480
    },
    "id": "e11134ee-ace0-493d-b27a-0a9254102d19",
    "outputId": "ed030b09-81f1-4763-e40b-7acb72d748c2"
   },
   "outputs": [
    {
     "name": "stdout",
     "output_type": "stream",
     "text": [
      "Best params:  {'alpha': 0.5}\n",
      "Best RMSE (of log):  0.12446374249276082\n"
     ]
    }
   ],
   "source": [
    "# GridSearch the Ridge regularization\n",
    "param_grid =  {'alpha': np.linspace(0.5,2,num=20)}\n",
    "search_ridge = GridSearchCV(estimator=Ridge(), param_grid=param_grid,\n",
    "                            cv=5, n_jobs=-1, scoring=rmse_neg)\n",
    "\n",
    "search_ridge.fit(X_scaled, y_log);\n",
    "\n",
    "# print('Best estimator: ', search_ridge.best_estimator_)\n",
    "print('Best params: ', search_ridge.best_params_)\n",
    "print('Best RMSE (of log): ', -search_ridge.best_score_) # Inverse to turn into positive"
   ]
  },
  {
   "cell_type": "markdown",
   "id": "99c9f13a-9da2-4c59-a835-5b87b27309a4",
   "metadata": {},
   "source": [
    "**`r2`**"
   ]
  },
  {
   "cell_type": "code",
   "execution_count": 61,
   "id": "3u6AQIUBaAso",
   "metadata": {
    "colab": {
     "base_uri": "https://localhost:8080/"
    },
    "executionInfo": {
     "elapsed": 1019,
     "status": "ok",
     "timestamp": 1712675418251,
     "user": {
      "displayName": "Nguyen Ngoc Yen Nga",
      "userId": "05910121350828163339"
     },
     "user_tz": -480
    },
    "id": "3u6AQIUBaAso",
    "outputId": "8ea96a5b-f911-41ce-a210-db6d33f63613"
   },
   "outputs": [
    {
     "data": {
      "text/plain": [
       "0.8110654838227672"
      ]
     },
     "execution_count": 61,
     "metadata": {},
     "output_type": "execute_result"
    }
   ],
   "source": [
    "cross_val_score(Ridge(alpha=0.5), X_scaled, y_log, cv=5, scoring='r2').mean()"
   ]
  },
  {
   "cell_type": "markdown",
   "id": "2c1780a0-1be8-43d5-a097-2eb1e5a54cae",
   "metadata": {},
   "source": [
    "**`rmse`**"
   ]
  },
  {
   "cell_type": "code",
   "execution_count": 62,
   "id": "f085296d-acb8-4143-8a56-3d0d06b597e3",
   "metadata": {},
   "outputs": [
    {
     "data": {
      "text/plain": [
       "0.12446374249276078"
      ]
     },
     "execution_count": 62,
     "metadata": {},
     "output_type": "execute_result"
    }
   ],
   "source": [
    "cross_val_score(Ridge(alpha=0.5), X_scaled, y_log, cv=5, scoring=rmse).mean()"
   ]
  },
  {
   "cell_type": "markdown",
   "id": "5b88e6ce-aca9-476e-af65-8aeb923ee93c",
   "metadata": {
    "id": "5b88e6ce-aca9-476e-af65-8aeb923ee93c"
   },
   "source": [
    "#### 5.2.3.K-Nearest Neighbors (KNN)"
   ]
  },
  {
   "cell_type": "code",
   "execution_count": 63,
   "id": "c197e450-4acf-4377-b39d-f30257dc99ac",
   "metadata": {
    "colab": {
     "base_uri": "https://localhost:8080/"
    },
    "executionInfo": {
     "elapsed": 835819,
     "status": "ok",
     "timestamp": 1712676458082,
     "user": {
      "displayName": "Nguyen Ngoc Yen Nga",
      "userId": "05910121350828163339"
     },
     "user_tz": -480
    },
    "id": "c197e450-4acf-4377-b39d-f30257dc99ac",
    "outputId": "6cad58c5-2142-4dd9-d7ef-b30effc8edcf"
   },
   "outputs": [
    {
     "name": "stdout",
     "output_type": "stream",
     "text": [
      "Fitting 3 folds for each of 11 candidates, totalling 33 fits\n",
      "Best params:  {'n_neighbors': 8}\n",
      "Best RMSE (of log):  0.17433580543743532\n"
     ]
    }
   ],
   "source": [
    "# GridSearch the KNN\n",
    "from sklearn.neighbors import KNeighborsRegressor\n",
    "param_grid =  {'n_neighbors': [3,4,5,6,7,8,9,10,15,20,30]}\n",
    "search_knn = GridSearchCV(KNeighborsRegressor(),\n",
    "                          param_grid=param_grid,\n",
    "                          cv=3, n_jobs=-1,\n",
    "                          verbose=2, scoring=rmse_neg)\n",
    "\n",
    "search_knn.fit(X_scaled, y_log);\n",
    "print('Best params: ', search_knn.best_params_)\n",
    "print('Best RMSE (of log): ', -search_knn.best_score_) # Inverse to turn into positive"
   ]
  },
  {
   "cell_type": "code",
   "execution_count": 64,
   "id": "df404201-18af-4672-b00b-0e98eb379095",
   "metadata": {
    "colab": {
     "base_uri": "https://localhost:8080/"
    },
    "executionInfo": {
     "elapsed": 84922,
     "status": "ok",
     "timestamp": 1712675622267,
     "user": {
      "displayName": "Nguyen Ngoc Yen Nga",
      "userId": "05910121350828163339"
     },
     "user_tz": -480
    },
    "id": "df404201-18af-4672-b00b-0e98eb379095",
    "outputId": "0bcbb758-f879-4d2f-be21-e3a2c6c27401"
   },
   "outputs": [
    {
     "name": "stdout",
     "output_type": "stream",
     "text": [
      "R2:  0.7469951600054523\n"
     ]
    }
   ],
   "source": [
    "\n",
    "scores = cross_val_score(KNeighborsRegressor(n_neighbors=8),\n",
    "                         X_scaled, y_log,\n",
    "                         cv=5,\n",
    "                         scoring='r2',\n",
    "                         verbose=False)\n",
    "\n",
    "print('R2: ', scores.mean())"
   ]
  },
  {
   "cell_type": "markdown",
   "id": "1aa54401-cfd7-4d5e-990a-2f5d085d436c",
   "metadata": {
    "id": "1aa54401-cfd7-4d5e-990a-2f5d085d436c"
   },
   "source": [
    "#### 5.2.4.Decision Trees"
   ]
  },
  {
   "cell_type": "code",
   "execution_count": 65,
   "id": "45f8e545-b7ad-451e-9542-391f2c42abac",
   "metadata": {
    "colab": {
     "base_uri": "https://localhost:8080/"
    },
    "executionInfo": {
     "elapsed": 2758,
     "status": "ok",
     "timestamp": 1712679520287,
     "user": {
      "displayName": "Nguyen Ngoc Yen Nga",
      "userId": "05910121350828163339"
     },
     "user_tz": -480
    },
    "id": "45f8e545-b7ad-451e-9542-391f2c42abac",
    "outputId": "1e4be07d-4882-4b7b-b23e-e79d3bb6f545"
   },
   "outputs": [
    {
     "name": "stdout",
     "output_type": "stream",
     "text": [
      "R2 score:  0.9452970414192966\n",
      "RMSE score:  34330.28649539501\n"
     ]
    }
   ],
   "source": [
    "from sklearn.tree import DecisionTreeRegressor\n",
    "\n",
    "model = DecisionTreeRegressor(max_depth=50, min_samples_leaf=20)\n",
    "model.fit(X_train, y_train)\n",
    "\n",
    "y_pred = model.predict(X_test)\n",
    "\n",
    "r2 = r2_score(y_test, y_pred)\n",
    "print(\"R2 score: \", r2)\n",
    "\n",
    "rmse = mean_squared_error(y_test, y_pred, squared=False)  # Set squared=False to get the square root directly\n",
    "print(\"RMSE score: \", rmse)"
   ]
  },
  {
   "cell_type": "markdown",
   "id": "0168da50-dcd2-488f-972d-140ba8030905",
   "metadata": {
    "id": "0168da50-dcd2-488f-972d-140ba8030905"
   },
   "source": [
    "#### 5.2.5.Random Forest"
   ]
  },
  {
   "cell_type": "code",
   "execution_count": 66,
   "id": "32e87ffe-e591-4764-8579-8e642b0375be",
   "metadata": {
    "colab": {
     "base_uri": "https://localhost:8080/"
    },
    "executionInfo": {
     "elapsed": 80110,
     "status": "ok",
     "timestamp": 1712679683173,
     "user": {
      "displayName": "Nguyen Ngoc Yen Nga",
      "userId": "05910121350828163339"
     },
     "user_tz": -480
    },
    "id": "32e87ffe-e591-4764-8579-8e642b0375be",
    "outputId": "721bbc05-fa96-4f28-a711-5ea6f0c642ee"
   },
   "outputs": [
    {
     "name": "stdout",
     "output_type": "stream",
     "text": [
      "R2 score: 0.9556363257705125\n",
      "RMSE score:  30916.17619506756\n"
     ]
    }
   ],
   "source": [
    "from sklearn.ensemble import RandomForestRegressor\n",
    "\n",
    "model = RandomForestRegressor(max_depth=50,min_samples_leaf=20)\n",
    "model.fit(X_train, y_train)\n",
    "\n",
    "y_pred = model.predict(X_test)\n",
    "\n",
    "r2 = r2_score(y_test, y_pred)\n",
    "print(\"R2 score:\", r2)\n",
    "\n",
    "rmse = mean_squared_error(y_test, y_pred, squared=False)  # Set squared=False to get the square root directly\n",
    "print(\"RMSE score: \", rmse)"
   ]
  },
  {
   "cell_type": "markdown",
   "id": "17c28795-6ad1-4f09-a154-c0c65674365b",
   "metadata": {
    "id": "17c28795-6ad1-4f09-a154-c0c65674365b"
   },
   "source": [
    "#### 5.2.6.Boosted Trees"
   ]
  },
  {
   "cell_type": "code",
   "execution_count": 67,
   "id": "f8f55036-b99b-472e-9e09-68b6e44f7c0f",
   "metadata": {
    "colab": {
     "base_uri": "https://localhost:8080/"
    },
    "executionInfo": {
     "elapsed": 73424,
     "status": "ok",
     "timestamp": 1712679756595,
     "user": {
      "displayName": "Nguyen Ngoc Yen Nga",
      "userId": "05910121350828163339"
     },
     "user_tz": -480
    },
    "id": "f8f55036-b99b-472e-9e09-68b6e44f7c0f",
    "outputId": "6152e432-b69f-4477-a62d-305675ff10db"
   },
   "outputs": [
    {
     "name": "stdout",
     "output_type": "stream",
     "text": [
      "R2 score: 0.9676302060050626\n",
      "RMSE score:  26408.39381119052\n"
     ]
    }
   ],
   "source": [
    "from sklearn.ensemble import AdaBoostRegressor\n",
    "from sklearn.tree import DecisionTreeRegressor\n",
    "\n",
    "model = AdaBoostRegressor(estimator=DecisionTreeRegressor(max_depth=None))\n",
    "model.fit(X_train, y_train)\n",
    "\n",
    "y_pred = model.predict(X_test)\n",
    "\n",
    "r2 = r2_score(y_test, y_pred)\n",
    "print(\"R2 score:\", r2)\n",
    "\n",
    "rmse = mean_squared_error(y_test, y_pred, squared=False)  # Set squared=False to get the square root directly\n",
    "print(\"RMSE score: \", rmse)"
   ]
  },
  {
   "cell_type": "code",
   "execution_count": 68,
   "id": "7386e420-1d4e-4858-9e0e-a61cf4fd56ba",
   "metadata": {
    "colab": {
     "base_uri": "https://localhost:8080/"
    },
    "executionInfo": {
     "elapsed": 50861,
     "status": "ok",
     "timestamp": 1712679807455,
     "user": {
      "displayName": "Nguyen Ngoc Yen Nga",
      "userId": "05910121350828163339"
     },
     "user_tz": -480
    },
    "id": "7386e420-1d4e-4858-9e0e-a61cf4fd56ba",
    "outputId": "d9a2fb22-18c6-4fe2-bf68-c6733117c48b"
   },
   "outputs": [
    {
     "name": "stdout",
     "output_type": "stream",
     "text": [
      "R2 score: 0.8921559165589478\n",
      "RMSE score:  48202.56865244318\n"
     ]
    }
   ],
   "source": [
    "from sklearn.ensemble import GradientBoostingRegressor\n",
    "\n",
    "model = GradientBoostingRegressor(n_estimators=100, verbose=0)\n",
    "model.fit(X_train, y_train)\n",
    "\n",
    "y_pred = model.predict(X_test)\n",
    "\n",
    "r2 = r2_score(y_test, y_pred)\n",
    "print(\"R2 score:\", r2)\n",
    "\n",
    "rmse = mean_squared_error(y_test, y_pred, squared=False)  # Set squared=False to get the square root directly\n",
    "print(\"RMSE score: \", rmse)"
   ]
  },
  {
   "cell_type": "markdown",
   "id": "5deac9bd-01ca-48fe-abdc-147fee00ea28",
   "metadata": {
    "id": "5deac9bd-01ca-48fe-abdc-147fee00ea28"
   },
   "source": [
    "#### 5.2.7.Model Stacking"
   ]
  },
  {
   "cell_type": "code",
   "execution_count": 69,
   "id": "6f910d0d-a164-41d2-876a-3c4bdc2f0c11",
   "metadata": {
    "colab": {
     "base_uri": "https://localhost:8080/"
    },
    "executionInfo": {
     "elapsed": 243594,
     "status": "ok",
     "timestamp": 1712684588270,
     "user": {
      "displayName": "Nguyen Ngoc Yen Nga",
      "userId": "05910121350828163339"
     },
     "user_tz": -480
    },
    "id": "6f910d0d-a164-41d2-876a-3c4bdc2f0c11",
    "outputId": "a9462b00-48f2-458f-fc38-0cbcd02c36e4"
   },
   "outputs": [
    {
     "name": "stdout",
     "output_type": "stream",
     "text": [
      "R2 score: 0.9697501259941029\n",
      "RMSE score:  25529.000099415458\n"
     ]
    }
   ],
   "source": [
    "from sklearn.ensemble import VotingRegressor, AdaBoostRegressor\n",
    "\n",
    "rf = RandomForestRegressor()\n",
    "ridge = Ridge()\n",
    "adaboost = AdaBoostRegressor(estimator=DecisionTreeRegressor(max_depth=None))\n",
    "\n",
    "model = VotingRegressor(\n",
    "    estimators = [(\"rf\", rf),(\"adaboost\", adaboost)],\n",
    "    weights = [1,1],\n",
    "    n_jobs=-1\n",
    ")\n",
    "\n",
    "model.fit(X_train, y_train)\n",
    "\n",
    "y_pred = model.predict(X_test)\n",
    "\n",
    "r2 = r2_score(y_test, y_pred)\n",
    "print(\"R2 score:\", r2)\n",
    "\n",
    "rmse = mean_squared_error(y_test, y_pred, squared=False)  # Set squared=False to get the square root directly\n",
    "print(\"RMSE score: \", rmse)"
   ]
  },
  {
   "cell_type": "code",
   "execution_count": 70,
   "id": "d6baa718-ba7d-48d4-9f40-e7c273fd06be",
   "metadata": {
    "colab": {
     "base_uri": "https://localhost:8080/"
    },
    "executionInfo": {
     "elapsed": 257200,
     "status": "ok",
     "timestamp": 1712684947673,
     "user": {
      "displayName": "Nguyen Ngoc Yen Nga",
      "userId": "05910121350828163339"
     },
     "user_tz": -480
    },
    "id": "d6baa718-ba7d-48d4-9f40-e7c273fd06be",
    "outputId": "caa4fa13-f6c9-484d-eb10-dcdd8f561830"
   },
   "outputs": [
    {
     "name": "stdout",
     "output_type": "stream",
     "text": [
      "R2 score: 0.9623176578444554\n",
      "RMSE score:  28493.18279641881\n"
     ]
    }
   ],
   "source": [
    "from sklearn.ensemble import StackingRegressor\n",
    "\n",
    "rf = RandomForestRegressor()\n",
    "ridge = Ridge()\n",
    "adaboost = AdaBoostRegressor(estimator=DecisionTreeRegressor(max_depth=None))\n",
    "\n",
    "model = StackingRegressor(\n",
    "    estimators=[(\"adaboost\", adaboost),\n",
    "                (\"ridge\", ridge)],\n",
    "    final_estimator=RandomForestRegressor(),\n",
    "    cv=5,\n",
    "    n_jobs=-1\n",
    ")\n",
    "\n",
    "model.fit(X_train, y_train)\n",
    "\n",
    "y_pred = model.predict(X_test)\n",
    "\n",
    "r2 = r2_score(y_test, y_pred)\n",
    "print(\"R2 score:\", r2)\n",
    "\n",
    "rmse = mean_squared_error(y_test, y_pred, squared=False)  # Set squared=False to get the square root directly\n",
    "print(\"RMSE score: \", rmse)"
   ]
  },
  {
   "cell_type": "markdown",
   "id": "wsbgn-iKBxmY",
   "metadata": {
    "id": "wsbgn-iKBxmY"
   },
   "source": [
    "### 5.3.Score Summary"
   ]
  },
  {
   "cell_type": "markdown",
   "id": "jU1yixumBvqX",
   "metadata": {
    "id": "jU1yixumBvqX"
   },
   "source": [
    "| Model | R2 Score | RMSE |\n",
    "|-|-|-|\n",
    "| `LinearRegression` | 0.873 |  0.108 |\n",
    "| `Ridge` | 0.873 | 0.108 |\n",
    "| `KNeighborsRegressor` | 0.747 | 0.174 |\n",
    "| `RandomForestRegressor` | 0.956 | 30916.17 |\n",
    "| `DecisionTreeRegressor` | 0.945 | 34330.28 |\n",
    "| `AdaBoostRegressor` | 0.968 | 26408.929 |\n",
    "| `GradientBoostingRegressor` | 0.892 | 48202.569 |\n",
    "| `VotingRegressor` with RandomForestRegressor and AdaBoostRegressor | 0.969 | 25529 | \n",
    "| `StackingRegressor` with AdaBoostRegressor, Ridge and RandomForestRegressor | 0.962 | 28493.182 |\n"
   ]
  }
 ],
 "metadata": {
  "accelerator": "GPU",
  "colab": {
   "gpuType": "T4",
   "machine_shape": "hm",
   "provenance": [],
   "toc_visible": true
  },
  "kernelspec": {
   "display_name": "Python 3 (ipykernel)",
   "language": "python",
   "name": "python3"
  },
  "language_info": {
   "codemirror_mode": {
    "name": "ipython",
    "version": 3
   },
   "file_extension": ".py",
   "mimetype": "text/x-python",
   "name": "python",
   "nbconvert_exporter": "python",
   "pygments_lexer": "ipython3",
   "version": "3.11.4"
  },
  "toc-autonumbering": false
 },
 "nbformat": 4,
 "nbformat_minor": 5
}
